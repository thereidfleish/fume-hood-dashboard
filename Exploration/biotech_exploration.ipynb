{
 "cells": [
  {
   "cell_type": "markdown",
   "metadata": {},
   "source": [
    "### Biotech Exploration\n",
    "This notebook explores the energy usage of the Biotech building and creates some pretty graphs!"
   ]
  },
  {
   "cell_type": "code",
   "execution_count": 1,
   "metadata": {
    "collapsed": true
   },
   "outputs": [],
   "source": [
    "import pandas as pd\n",
    "import numpy as np\n",
    "from datetime import datetime, timezone\n",
    "import requests\n",
    "import json\n",
    "import matplotlib.pyplot as plt\n",
    "import math\n",
    "import scipy.stats as st\n",
    "\n",
    "from dateutil import parser\n",
    "import matplotlib.dates as mdates"
   ]
  },
  {
   "cell_type": "code",
   "execution_count": 2,
   "metadata": {
    "collapsed": false
   },
   "outputs": [],
   "source": [
    "def create_tuple(response):\n",
    "    response_data = response.json()\n",
    "    response_datum = response_data[0]\n",
    "    response_target = response_datum['target']\n",
    "    response_datapoints = response_datum['datapoints']\n",
    "    tuple_array = [tuple(x) for x in response_datapoints]\n",
    "    npa = np.array(tuple_array, dtype=[\n",
    "        ('value', np.double), ('ts', 'datetime64[ms]')])\n",
    "    return npa"
   ]
  },
  {
   "cell_type": "code",
   "execution_count": 3,
   "metadata": {
    "collapsed": false
   },
   "outputs": [],
   "source": [
    "\"\"\"\n",
    "Returns an array of tuples where tuple[0] is the metric, and tuple[1] is the time\n",
    "of measurement\n",
    "\n",
    "Target: a WebCTRL point name in the form of a string\n",
    "Example: \"#biotech/biotech_4th_floor/fourth_floor_fume_hood_lab_spaces/lab_433_control/zone/zone_temp/trend_log\"\n",
    "\n",
    "Server: a string representing the WebCTRL server our point exists in\n",
    "Example: \"biotech_main\"\n",
    "\n",
    "Start: the start time we wish to be querying data about (in string format)\n",
    "Example: \"2021-12-31T11:00Z\"\n",
    "\n",
    "End: The end time we wish to be querying data about\n",
    "Example: \"2022-12-31T11:00Z\"\n",
    "\"\"\"\n",
    "def fume_query(target,server, start,end):\n",
    "    url = \"https://ypsu0n34jc.execute-api.us-east-1.amazonaws.com/dev/query\"\n",
    "    data = {\n",
    "        \"range\": {\n",
    "            \"from\": start,\n",
    "            \"to\": end,\n",
    "        },\n",
    "        \"targets\": [\n",
    "            {\n",
    "                \"payload\": {\n",
    "                    \"schema\": server,\n",
    "                },\n",
    "                \"target\": target\n",
    "            }\n",
    "        ],\n",
    "\n",
    "    }\n",
    "    request = requests.post(url, json=data)\n",
    "    #print(request)\n",
    "    #print(request.json())\n",
    "    return create_tuple(request)\n",
    "\n",
    "# fume_query(target=\"#biotech/biotech_4th_floor/fourth_floor_fume_hood_lab_spaces/lab_433_control/hood_sash\", server=\"biotech_main\", start=\"2021-12-25T00:00:00.000\", end=\"2021-12-25T00:00:00.000\")\n",
    "# fume_query(target=\"#biotech_weather/temperature_tn\", server=\"biotech_main\", star\n"
   ]
  },
  {
   "cell_type": "code",
   "execution_count": 4,
   "metadata": {
    "collapsed": false
   },
   "outputs": [],
   "source": [
    "def query_to_list(point, server, start, end):\n",
    "    master = fume_query(point, server, start, end)\n",
    "\n",
    "    list = pd.Series(data=[i[0] for i in master], index=[i[1] for i in master])\n",
    "    #print(\"\\n\", point, \"\\n\", list)\n",
    "\n",
    "    list = list[~list.index.duplicated()]\n",
    "    #print(\"\\n\", point, \" new\\n\", list)\n",
    "\n",
    "    return list"
   ]
  },
  {
   "cell_type": "code",
   "execution_count": 12,
   "metadata": {
    "collapsed": false
   },
   "outputs": [
    {
     "name": "stdout",
     "output_type": "stream",
     "text": [
      "                     sash  occ\n",
      "2021-11-17 05:00:00   3.3  1.0\n",
      "2021-11-17 05:05:00   3.3  1.0\n",
      "2021-11-17 05:10:00   3.3  1.0\n",
      "2021-11-17 05:15:00   3.3  1.0\n",
      "2021-11-17 05:20:00   3.3  1.0\n",
      "...                   ...  ...\n",
      "2021-11-18 04:35:00   1.8  0.0\n",
      "2021-11-18 04:40:00   1.8  0.0\n",
      "2021-11-18 04:45:00   1.8  0.0\n",
      "2021-11-18 04:50:00   1.8  0.0\n",
      "2021-11-18 04:55:00   1.8  0.0\n",
      "\n",
      "[288 rows x 2 columns]\n"
     ]
    },
    {
     "data": {
      "text/plain": [
       "2021-11-17 06:00:00     0\n",
       "2021-11-17 07:00:00    10\n",
       "2021-11-17 08:00:00    50\n",
       "2021-11-17 09:00:00     0\n",
       "2021-11-17 10:00:00    30\n",
       "2021-11-17 11:00:00    40\n",
       "2021-11-17 12:00:00    15\n",
       "2021-11-17 13:00:00    40\n",
       "2021-11-17 14:00:00    10\n",
       "2021-11-17 15:00:00     0\n",
       "2021-11-17 16:00:00     0\n",
       "2021-11-17 17:00:00     0\n",
       "2021-11-17 18:00:00     0\n",
       "2021-11-17 19:00:00     0\n",
       "2021-11-17 20:00:00     0\n",
       "2021-11-17 21:00:00     0\n",
       "2021-11-17 22:00:00     0\n",
       "2021-11-17 23:00:00     0\n",
       "2021-11-18 00:00:00     0\n",
       "2021-11-18 01:00:00     0\n",
       "2021-11-18 02:00:00     0\n",
       "2021-11-18 03:00:00    55\n",
       "2021-11-18 04:00:00    25\n",
       "2021-11-18 05:00:00    30\n",
       "Freq: 60T, Name: time_open_mins, dtype: int64"
      ]
     },
     "execution_count": 12,
     "metadata": {},
     "output_type": "execute_result"
    }
   ],
   "source": [
    "# Arguments: Sash Point, Occ Point, Server Name, Start Time, End Time\n",
    "# Returns: Total time that hood sash was open when room is unoccupied, aggregated by hour\n",
    "\n",
    "\n",
    "def total_time_sash_open_unoccupied(sash_point, occ_point, server, start, end):\n",
    "    sash_list = query_to_list(sash_point, server, start, end)\n",
    "    occ_list = query_to_list(occ_point, server, start, end)\n",
    "\n",
    "    df = pd.concat([sash_list, occ_list], axis=1)\n",
    "    df.columns = [\"sash\", \"occ\"]\n",
    "    #display(df)\n",
    "\n",
    "    time_interval = df.index[1].minute - df.index[0].minute\n",
    "\n",
    "    # Figure out closed sash position\n",
    "    # display(df[\"sash\"].value_counts())\n",
    "\n",
    "    # from running the above on a large time difference, 1.2 inches is the most common smallest value\n",
    "    df[\"time_open_mins\"] = np.where((df[\"sash\"] > 1.2) & (df[\"occ\"] == 0), time_interval, 0)\n",
    "\n",
    "    df = df.dropna()\n",
    "    #display(df)\n",
    "\n",
    "    df = df.groupby(pd.Grouper(freq='60Min', label='right')).sum()\n",
    "\n",
    "    return df[\"time_open_mins\"]\n",
    "\n",
    "total_time_sash_open_unoccupied(sash_point=\"#biotech/biotech_4th_floor/fourth_floor_fume_hood_lab_spaces/lab_433_control/hood_sash\",\n",
    "                                occ_point=\"#biotech/biotech_4th_floor/fourth_floor_fume_hood_lab_spaces/lab_433_control/occ_trend\",\n",
    "                                server=\"biotech_main\",\n",
    "                                start = str(datetime(2021, 11, 17, 1)),\n",
    "                                end = str(datetime(2021, 11, 17, 2)))"
   ]
  },
  {
   "cell_type": "code",
   "execution_count": 37,
   "metadata": {
    "collapsed": false
   },
   "outputs": [
    {
     "data": {
      "text/plain": [
       "2021-11-17 06:00:00    8897.68611\n",
       "2021-11-17 07:00:00    8894.77461\n",
       "2021-11-17 08:00:00    8835.30861\n",
       "2021-11-17 09:00:00    8783.13078\n",
       "2021-11-17 10:00:00    8987.19759\n",
       "2021-11-17 11:00:00    8544.53253\n",
       "2021-11-17 12:00:00    8110.01574\n",
       "2021-11-17 13:00:00    8001.60912\n",
       "2021-11-17 14:00:00    7649.42160\n",
       "2021-11-17 15:00:00    7317.14085\n",
       "2021-11-17 16:00:00    7134.71613\n",
       "2021-11-17 17:00:00    6813.28503\n",
       "2021-11-17 18:00:00    6341.22387\n",
       "2021-11-17 19:00:00    6029.75880\n",
       "2021-11-17 20:00:00    5692.98126\n",
       "2021-11-17 21:00:00    7604.98143\n",
       "2021-11-17 22:00:00    7453.21290\n",
       "2021-11-17 23:00:00    7449.60969\n",
       "2021-11-18 00:00:00    7380.94521\n",
       "2021-11-18 01:00:00    7247.46801\n",
       "2021-11-18 02:00:00    5845.40184\n",
       "2021-11-18 03:00:00    5097.14043\n",
       "2021-11-18 04:00:00    5082.45864\n",
       "2021-11-18 05:00:00    5084.66550\n",
       "2021-11-18 06:00:00    4933.91175\n",
       "2021-11-18 07:00:00    4769.72898\n",
       "2021-11-18 08:00:00    4646.37774\n",
       "2021-11-18 09:00:00    4172.63094\n",
       "2021-11-18 10:00:00    3894.46179\n",
       "2021-11-18 11:00:00    3892.84986\n",
       "2021-11-18 12:00:00    3894.43371\n",
       "2021-11-18 13:00:00    3750.55764\n",
       "2021-11-18 14:00:00    3402.94710\n",
       "2021-11-18 15:00:00    3161.26956\n",
       "2021-11-18 16:00:00    3142.49031\n",
       "2021-11-18 17:00:00    3488.50323\n",
       "2021-11-18 18:00:00    4903.15788\n",
       "2021-11-18 19:00:00    5337.27108\n",
       "2021-11-18 20:00:00    5739.28368\n",
       "2021-11-18 21:00:00    5858.02242\n",
       "2021-11-18 22:00:00    5820.73674\n",
       "2021-11-18 23:00:00    5816.91642\n",
       "2021-11-19 00:00:00    5830.29738\n",
       "2021-11-19 01:00:00    6111.29463\n",
       "2021-11-19 02:00:00    6127.79388\n",
       "2021-11-19 03:00:00    6264.94581\n",
       "2021-11-19 04:00:00    6512.95002\n",
       "2021-11-19 05:00:00    6625.14321\n",
       "Freq: 60T, Name: BTU, dtype: float64"
      ]
     },
     "execution_count": 37,
     "metadata": {},
     "output_type": "execute_result"
    }
   ],
   "source": [
    "# Arguments: CFM Point, Sash Point, Occ Point, Internal Temp Point, External Temp Point, Server Name, Start Time, End Time\n",
    "# Returns: Total energy from hume hood, aggregated by hour.  Can be adapted later on to only show energy when unoccupied\n",
    "\n",
    "# A switch in the energy calculations that allows us to avoid issues between times of years where it is hotter/colder outside.\n",
    "def coldorhot(cfm, external, internal, time_interval):\n",
    "    if external<=internal:\n",
    "        #sensible heating equation\n",
    "        return 1.08 * cfm * (internal - external) / (60 / time_interval)\n",
    "    if external>internal:\n",
    "        #enthalpy of air\n",
    "        return 0.24 * cfm /13.333 * 60 * (external - internal) / (60 / time_interval)\n",
    "\n",
    "def total_energy(cfm_point, sash_point, occ_point, internal_temp_point, external_temp_point, server, start, end):\n",
    "    #external_temp_master = outside_temp(start,end)\n",
    "    cfm_list = query_to_list(cfm_point, server, start, end)\n",
    "    sash_list = query_to_list(sash_point, server, start, end)\n",
    "    occ_list = query_to_list(occ_point, server, start, end)\n",
    "    internal_temp_list = query_to_list(internal_temp_point, server, start, end)\n",
    "    external_temp_list = query_to_list(external_temp_point, server, start, end)\n",
    "\n",
    "    df = pd.concat([cfm_list, sash_list, occ_list, internal_temp_list, external_temp_list], axis=1)\n",
    "    df.columns = [\"cfm\", \"sash\", \"occ\", \"internal_temp\", \"external_temp\"]\n",
    "    #display(df)\n",
    "\n",
    "    df[\"external_temp\"] = df[\"external_temp\"].interpolate()\n",
    "    #display(df)\n",
    "\n",
    "    time_interval = df.index[1].minute - df.index[0].minute\n",
    "\n",
    "    df['BTU'] = df.apply(lambda df: coldorhot(df['cfm'], df['external_temp'], df['internal_temp'], time_interval=time_interval), axis=1)\n",
    "    #print(\"\\nFinal Data Frame: \")\n",
    "    #display(df)\n",
    "\n",
    "    df = df.groupby(pd.Grouper(freq='60Min', label='right')).sum()\n",
    "    #display(df)\n",
    "\n",
    "    return df[\"BTU\"]\n",
    "\n",
    "total_energy(cfm_point=\"#biotech/biotech_4th_floor/fourth_floor_fume_hood_lab_spaces/lab_433_control/hoodvalve_flow/trend_log\",\n",
    "             sash_point=\"#biotech/biotech_4th_floor/fourth_floor_fume_hood_lab_spaces/lab_433_control/hood_sash\",\n",
    "             occ_point=\"#biotech/biotech_4th_floor/fourth_floor_fume_hood_lab_spaces/lab_433_control/occ_trend\",\n",
    "             internal_temp_point=\"#biotech/biotech_4th_floor/fourth_floor_fume_hood_lab_spaces/lab_433_control/zone/zone_temp/trend_log\",\n",
    "             external_temp_point=\"#biotech/ground_flr_mech/building_hydronic_heating_syatems/reheat_heat_exchanger/oat\",\n",
    "             server = \"biotech_main\",\n",
    "             start=str(datetime(2021, 11,17)),\n",
    "             end=str(datetime(2021, 11, 18)))"
   ]
  },
  {
   "cell_type": "code",
   "execution_count": 38,
   "metadata": {
    "collapsed": false
   },
   "outputs": [
    {
     "data": {
      "text/html": [
       "<div>\n",
       "<style scoped>\n",
       "    .dataframe tbody tr th:only-of-type {\n",
       "        vertical-align: middle;\n",
       "    }\n",
       "\n",
       "    .dataframe tbody tr th {\n",
       "        vertical-align: top;\n",
       "    }\n",
       "\n",
       "    .dataframe thead th {\n",
       "        text-align: right;\n",
       "    }\n",
       "</style>\n",
       "<table border=\"1\" class=\"dataframe\">\n",
       "  <thead>\n",
       "    <tr style=\"text-align: right;\">\n",
       "      <th></th>\n",
       "      <th>C1</th>\n",
       "      <th>Room</th>\n",
       "      <th>Pointname</th>\n",
       "      <th>Acronym</th>\n",
       "      <th>Point</th>\n",
       "    </tr>\n",
       "  </thead>\n",
       "  <tbody>\n",
       "    <tr>\n",
       "      <th>0</th>\n",
       "      <td>Point List</td>\n",
       "      <td>NaN</td>\n",
       "      <td>NaN</td>\n",
       "      <td>NaN</td>\n",
       "      <td>NaN</td>\n",
       "    </tr>\n",
       "    <tr>\n",
       "      <th>1</th>\n",
       "      <td>Location:</td>\n",
       "      <td>Cornell University / Biotech Server / Biotech</td>\n",
       "      <td>NaN</td>\n",
       "      <td>NaN</td>\n",
       "      <td>NaN</td>\n",
       "    </tr>\n",
       "    <tr>\n",
       "      <th>2</th>\n",
       "      <td>report_progress_step()</td>\n",
       "      <td>NaN</td>\n",
       "      <td>NaN</td>\n",
       "      <td>NaN</td>\n",
       "      <td>NaN</td>\n",
       "    </tr>\n",
       "    <tr>\n",
       "      <th>3</th>\n",
       "      <td>report_progress_step()</td>\n",
       "      <td>NaN</td>\n",
       "      <td>NaN</td>\n",
       "      <td>NaN</td>\n",
       "      <td>NaN</td>\n",
       "    </tr>\n",
       "    <tr>\n",
       "      <th>4</th>\n",
       "      <td>report_progress_step()</td>\n",
       "      <td>NaN</td>\n",
       "      <td>NaN</td>\n",
       "      <td>NaN</td>\n",
       "      <td>NaN</td>\n",
       "    </tr>\n",
       "  </tbody>\n",
       "</table>\n",
       "</div>"
      ],
      "text/plain": [
       "                       C1                                           Room  \\\n",
       "0              Point List                                            NaN   \n",
       "1               Location:  Cornell University / Biotech Server / Biotech   \n",
       "2  report_progress_step()                                            NaN   \n",
       "3  report_progress_step()                                            NaN   \n",
       "4  report_progress_step()                                            NaN   \n",
       "\n",
       "  Pointname Acronym Point  \n",
       "0       NaN     NaN   NaN  \n",
       "1       NaN     NaN   NaN  \n",
       "2       NaN     NaN   NaN  \n",
       "3       NaN     NaN   NaN  \n",
       "4       NaN     NaN   NaN  "
      ]
     },
     "execution_count": 38,
     "metadata": {},
     "output_type": "execute_result"
    }
   ],
   "source": [
    "url = 'https://github.com/thereidfleish/fume-hood-dashboard/blob/Robbie/report1678804296452.csv?raw=true'\n",
    "pointnames = pd.read_csv(url)\n",
    "pointnames.head()"
   ]
  },
  {
   "cell_type": "code",
   "execution_count": 39,
   "metadata": {
    "collapsed": false
   },
   "outputs": [
    {
     "data": {
      "text/html": [
       "<div>\n",
       "<style scoped>\n",
       "    .dataframe tbody tr th:only-of-type {\n",
       "        vertical-align: middle;\n",
       "    }\n",
       "\n",
       "    .dataframe tbody tr th {\n",
       "        vertical-align: top;\n",
       "    }\n",
       "\n",
       "    .dataframe thead th {\n",
       "        text-align: right;\n",
       "    }\n",
       "</style>\n",
       "<table border=\"1\" class=\"dataframe\">\n",
       "  <thead>\n",
       "    <tr style=\"text-align: right;\">\n",
       "      <th></th>\n",
       "      <th>Occupancy</th>\n",
       "      <th>Internal Temp</th>\n",
       "    </tr>\n",
       "  </thead>\n",
       "  <tbody>\n",
       "    <tr>\n",
       "      <th>0</th>\n",
       "      <td>#biotech/biotech_ground_floor/ground_floor_fum...</td>\n",
       "      <td>#biotech/biotech_ground_floor/ground_floor_fum...</td>\n",
       "    </tr>\n",
       "    <tr>\n",
       "      <th>1</th>\n",
       "      <td>#biotech/biotech_1st_floor/first_floor_fume_ho...</td>\n",
       "      <td>#biotech/biotech_1st_floor/first_floor_fume_ho...</td>\n",
       "    </tr>\n",
       "    <tr>\n",
       "      <th>2</th>\n",
       "      <td>#biotech/biotech_1st_floor/first_floor_fume_ho...</td>\n",
       "      <td>#biotech/biotech_1st_floor/first_floor_fume_ho...</td>\n",
       "    </tr>\n",
       "    <tr>\n",
       "      <th>3</th>\n",
       "      <td>#biotech/biotech_1st_floor/first_floor_fume_ho...</td>\n",
       "      <td>#biotech/biotech_1st_floor/first_floor_fume_ho...</td>\n",
       "    </tr>\n",
       "    <tr>\n",
       "      <th>4</th>\n",
       "      <td>#biotech/biotech_1st_floor/first_floor_fume_ho...</td>\n",
       "      <td>#biotech/biotech_1st_floor/first_floor_fume_ho...</td>\n",
       "    </tr>\n",
       "    <tr>\n",
       "      <th>...</th>\n",
       "      <td>...</td>\n",
       "      <td>...</td>\n",
       "    </tr>\n",
       "    <tr>\n",
       "      <th>65</th>\n",
       "      <td>#biotech/biotech_4th_floor/fourth_floor_fume_h...</td>\n",
       "      <td>#biotech/biotech_4th_floor/fourth_floor_fume_h...</td>\n",
       "    </tr>\n",
       "    <tr>\n",
       "      <th>66</th>\n",
       "      <td>#biotech/biotech_4th_floor/fourth_floor_fume_h...</td>\n",
       "      <td>#biotech/biotech_4th_floor/fourth_floor_fume_h...</td>\n",
       "    </tr>\n",
       "    <tr>\n",
       "      <th>67</th>\n",
       "      <td>#biotech/biotech_4th_floor/fourth_floor_fume_h...</td>\n",
       "      <td>#biotech/biotech_4th_floor/fourth_floor_fume_h...</td>\n",
       "    </tr>\n",
       "    <tr>\n",
       "      <th>68</th>\n",
       "      <td>#biotech/biotech_4th_floor/fourth_floor_fume_h...</td>\n",
       "      <td>#biotech/biotech_4th_floor/fourth_floor_fume_h...</td>\n",
       "    </tr>\n",
       "    <tr>\n",
       "      <th>69</th>\n",
       "      <td>#biotech/biotech_4th_floor/fourth_floor_fume_h...</td>\n",
       "      <td>#biotech/biotech_4th_floor/fourth_floor_fume_h...</td>\n",
       "    </tr>\n",
       "  </tbody>\n",
       "</table>\n",
       "<p>70 rows × 2 columns</p>\n",
       "</div>"
      ],
      "text/plain": [
       "                                            Occupancy  \\\n",
       "0   #biotech/biotech_ground_floor/ground_floor_fum...   \n",
       "1   #biotech/biotech_1st_floor/first_floor_fume_ho...   \n",
       "2   #biotech/biotech_1st_floor/first_floor_fume_ho...   \n",
       "3   #biotech/biotech_1st_floor/first_floor_fume_ho...   \n",
       "4   #biotech/biotech_1st_floor/first_floor_fume_ho...   \n",
       "..                                                ...   \n",
       "65  #biotech/biotech_4th_floor/fourth_floor_fume_h...   \n",
       "66  #biotech/biotech_4th_floor/fourth_floor_fume_h...   \n",
       "67  #biotech/biotech_4th_floor/fourth_floor_fume_h...   \n",
       "68  #biotech/biotech_4th_floor/fourth_floor_fume_h...   \n",
       "69  #biotech/biotech_4th_floor/fourth_floor_fume_h...   \n",
       "\n",
       "                                        Internal Temp  \n",
       "0   #biotech/biotech_ground_floor/ground_floor_fum...  \n",
       "1   #biotech/biotech_1st_floor/first_floor_fume_ho...  \n",
       "2   #biotech/biotech_1st_floor/first_floor_fume_ho...  \n",
       "3   #biotech/biotech_1st_floor/first_floor_fume_ho...  \n",
       "4   #biotech/biotech_1st_floor/first_floor_fume_ho...  \n",
       "..                                                ...  \n",
       "65  #biotech/biotech_4th_floor/fourth_floor_fume_h...  \n",
       "66  #biotech/biotech_4th_floor/fourth_floor_fume_h...  \n",
       "67  #biotech/biotech_4th_floor/fourth_floor_fume_h...  \n",
       "68  #biotech/biotech_4th_floor/fourth_floor_fume_h...  \n",
       "69  #biotech/biotech_4th_floor/fourth_floor_fume_h...  \n",
       "\n",
       "[70 rows x 2 columns]"
      ]
     },
     "execution_count": 39,
     "metadata": {},
     "output_type": "execute_result"
    }
   ],
   "source": [
    "#We want to collect the following:\n",
    "#Air Flow Point, e.g: \"#biotech/biotech_4th_floor/fourth_floor_fume_hood_lab_spaces/lab_433_control/hoodvalve_flow/trend_log\", HOOD FLOW\n",
    "\n",
    "#Sash Opening Point, e.g: \"#biotech/biotech_4th_floor/fourth_floor_fume_hood_lab_spaces/lab_433_control/hood_sash\", HOOD SASH POS\n",
    "\n",
    "#Occupancy Point, e.g: \"#biotech/biotech_4th_floor/fourth_floor_fume_hood_lab_spaces/lab_433_control/occ_trend\", OCC SENSOR\n",
    "\n",
    "#Internal Temperature Point, e.g: \"#biotech/biotech_4th_floor/fourth_floor_fume_hood_lab_spaces/lab_433_control/zone/zone_temp/trend_log\", ZONE TEMP\n",
    "\n",
    "import re\n",
    "\"\"\"\n",
    "The goal of this function is to output an organized collection of point names corresponding to specific fume hoods throughout the Biotechnology building. It is unclear the best path forward at the moment, however, we will try to start small and then expand upwards. There will probably be a lot of edge cases to handle, but we will see. Using regular expressions seems to have helped quite a bit.\n",
    "\"\"\"\n",
    "\n",
    "\n",
    "def csv_parser(df):\n",
    "    #df['name_match'] = df['first_name'].apply(lambda x: 'Match' if x == 'Bill' else 'Mismatch')\n",
    "    #print(True and df[\"Point\"].str.contains(\"_control\"))\n",
    "    hood_flows = np.array(df[df[\"Pointname\"]== \"HOOD FLOW\" ][\"Point\"])\n",
    "    sash_pos = np.array(df[df[\"Pointname\"]== \"HOOD SASH POS\"][\"Point\"])\n",
    "    occ_sens = df[df[\"Pointname\"]== \"OCC SENSOR\"][\"Point\"]\n",
    "    occ_sens = [i for i in occ_sens if re.search(\"lab_[A-Za-z]*[0-9]+[A-Za-z]*_control\",i)]\n",
    "    zone_temps = df[df[\"Pointname\"]== \"ZONE TEMP\"][\"Point\"]\n",
    "    zone_temps = [i for i in zone_temps if re.search(\"lab_[A-Za-z]*[0-9]+[A-Za-z]*_control/zonetemp\",i)]\n",
    "    ##biotech/biotech_4th_floor/fourth_floor_fume_hood_lab_spaces/lab_433_control/zone/zone_temp/trend_log\n",
    "    zone_temps = [i.split(\"/\")[:4] for i in zone_temps]\n",
    "    zone_temps = ['/'.join(i) for i in zone_temps]\n",
    "    zone_temps = [i + \"/zone/zone_temp/trend_log\" for i in zone_temps]\n",
    "\n",
    "    vals= {\"Hood\":hood_flows, \"Sash\":sash_pos}\n",
    "    odf = pd.DataFrame(data = vals)\n",
    "    #display(ndf)\n",
    "    # print(len(hood_flows))\n",
    "    # print(len(sash_pos))\n",
    "    # print(len(occ_sens))\n",
    "    # print(len(zone_temps))\n",
    "\n",
    "    ovals= {\"Occupancy\":occ_sens, \"Internal Temp\":zone_temps}\n",
    "    ndf = pd.DataFrame(data = ovals)\n",
    "\n",
    "    return [ndf,odf]\n",
    "csv_parser(pointnames)[0]\n",
    "\n"
   ]
  },
  {
   "cell_type": "code",
   "execution_count": 40,
   "metadata": {
    "collapsed": false
   },
   "outputs": [
    {
     "data": {
      "text/html": [
       "<div>\n",
       "<style scoped>\n",
       "    .dataframe tbody tr th:only-of-type {\n",
       "        vertical-align: middle;\n",
       "    }\n",
       "\n",
       "    .dataframe tbody tr th {\n",
       "        vertical-align: top;\n",
       "    }\n",
       "\n",
       "    .dataframe thead th {\n",
       "        text-align: right;\n",
       "    }\n",
       "</style>\n",
       "<table border=\"1\" class=\"dataframe\">\n",
       "  <thead>\n",
       "    <tr style=\"text-align: right;\">\n",
       "      <th></th>\n",
       "      <th>Hood</th>\n",
       "      <th>Sash</th>\n",
       "    </tr>\n",
       "  </thead>\n",
       "  <tbody>\n",
       "    <tr>\n",
       "      <th>0</th>\n",
       "      <td>#biotech/biotech_ground_floor/ground_floor_fum...</td>\n",
       "      <td>#biotech/biotech_ground_floor/ground_floor_fum...</td>\n",
       "    </tr>\n",
       "    <tr>\n",
       "      <th>1</th>\n",
       "      <td>#biotech/biotech_1st_floor/first_floor_fume_ho...</td>\n",
       "      <td>#biotech/biotech_1st_floor/first_floor_fume_ho...</td>\n",
       "    </tr>\n",
       "    <tr>\n",
       "      <th>2</th>\n",
       "      <td>#biotech/biotech_1st_floor/first_floor_fume_ho...</td>\n",
       "      <td>#biotech/biotech_1st_floor/first_floor_fume_ho...</td>\n",
       "    </tr>\n",
       "    <tr>\n",
       "      <th>3</th>\n",
       "      <td>#biotech/biotech_1st_floor/first_floor_fume_ho...</td>\n",
       "      <td>#biotech/biotech_1st_floor/first_floor_fume_ho...</td>\n",
       "    </tr>\n",
       "    <tr>\n",
       "      <th>4</th>\n",
       "      <td>#biotech/biotech_1st_floor/first_floor_fume_ho...</td>\n",
       "      <td>#biotech/biotech_1st_floor/first_floor_fume_ho...</td>\n",
       "    </tr>\n",
       "    <tr>\n",
       "      <th>...</th>\n",
       "      <td>...</td>\n",
       "      <td>...</td>\n",
       "    </tr>\n",
       "    <tr>\n",
       "      <th>61</th>\n",
       "      <td>#biotech/biotech_4th_floor/fourth_floor_fume_h...</td>\n",
       "      <td>#biotech/biotech_4th_floor/fourth_floor_fume_h...</td>\n",
       "    </tr>\n",
       "    <tr>\n",
       "      <th>62</th>\n",
       "      <td>#biotech/biotech_4th_floor/fourth_floor_fume_h...</td>\n",
       "      <td>#biotech/biotech_4th_floor/fourth_floor_fume_h...</td>\n",
       "    </tr>\n",
       "    <tr>\n",
       "      <th>63</th>\n",
       "      <td>#biotech/biotech_4th_floor/fourth_floor_fume_h...</td>\n",
       "      <td>#biotech/biotech_4th_floor/fourth_floor_fume_h...</td>\n",
       "    </tr>\n",
       "    <tr>\n",
       "      <th>64</th>\n",
       "      <td>#biotech/biotech_4th_floor/fourth_floor_fume_h...</td>\n",
       "      <td>#biotech/biotech_4th_floor/fourth_floor_fume_h...</td>\n",
       "    </tr>\n",
       "    <tr>\n",
       "      <th>65</th>\n",
       "      <td>#biotech/biotech_4th_floor/fourth_floor_fume_h...</td>\n",
       "      <td>#biotech/biotech_4th_floor/fourth_floor_fume_h...</td>\n",
       "    </tr>\n",
       "  </tbody>\n",
       "</table>\n",
       "<p>66 rows × 2 columns</p>\n",
       "</div>"
      ],
      "text/plain": [
       "                                                 Hood  \\\n",
       "0   #biotech/biotech_ground_floor/ground_floor_fum...   \n",
       "1   #biotech/biotech_1st_floor/first_floor_fume_ho...   \n",
       "2   #biotech/biotech_1st_floor/first_floor_fume_ho...   \n",
       "3   #biotech/biotech_1st_floor/first_floor_fume_ho...   \n",
       "4   #biotech/biotech_1st_floor/first_floor_fume_ho...   \n",
       "..                                                ...   \n",
       "61  #biotech/biotech_4th_floor/fourth_floor_fume_h...   \n",
       "62  #biotech/biotech_4th_floor/fourth_floor_fume_h...   \n",
       "63  #biotech/biotech_4th_floor/fourth_floor_fume_h...   \n",
       "64  #biotech/biotech_4th_floor/fourth_floor_fume_h...   \n",
       "65  #biotech/biotech_4th_floor/fourth_floor_fume_h...   \n",
       "\n",
       "                                                 Sash  \n",
       "0   #biotech/biotech_ground_floor/ground_floor_fum...  \n",
       "1   #biotech/biotech_1st_floor/first_floor_fume_ho...  \n",
       "2   #biotech/biotech_1st_floor/first_floor_fume_ho...  \n",
       "3   #biotech/biotech_1st_floor/first_floor_fume_ho...  \n",
       "4   #biotech/biotech_1st_floor/first_floor_fume_ho...  \n",
       "..                                                ...  \n",
       "61  #biotech/biotech_4th_floor/fourth_floor_fume_h...  \n",
       "62  #biotech/biotech_4th_floor/fourth_floor_fume_h...  \n",
       "63  #biotech/biotech_4th_floor/fourth_floor_fume_h...  \n",
       "64  #biotech/biotech_4th_floor/fourth_floor_fume_h...  \n",
       "65  #biotech/biotech_4th_floor/fourth_floor_fume_h...  \n",
       "\n",
       "[66 rows x 2 columns]"
      ]
     },
     "execution_count": 40,
     "metadata": {},
     "output_type": "execute_result"
    }
   ],
   "source": [
    "csv_parser(pointnames)[1]\n"
   ]
  },
  {
   "cell_type": "code",
   "execution_count": 41,
   "metadata": {
    "collapsed": false
   },
   "outputs": [
    {
     "data": {
      "text/html": [
       "<div>\n",
       "<style scoped>\n",
       "    .dataframe tbody tr th:only-of-type {\n",
       "        vertical-align: middle;\n",
       "    }\n",
       "\n",
       "    .dataframe tbody tr th {\n",
       "        vertical-align: top;\n",
       "    }\n",
       "\n",
       "    .dataframe thead th {\n",
       "        text-align: right;\n",
       "    }\n",
       "</style>\n",
       "<table border=\"1\" class=\"dataframe\">\n",
       "  <thead>\n",
       "    <tr style=\"text-align: right;\">\n",
       "      <th></th>\n",
       "      <th>Occupancy</th>\n",
       "      <th>Internal Temp</th>\n",
       "    </tr>\n",
       "  </thead>\n",
       "  <tbody>\n",
       "    <tr>\n",
       "      <th>0</th>\n",
       "      <td>#biotech/biotech_ground_floor/ground_floor_fum...</td>\n",
       "      <td>#biotech/biotech_ground_floor/ground_floor_fum...</td>\n",
       "    </tr>\n",
       "    <tr>\n",
       "      <th>1</th>\n",
       "      <td>#biotech/biotech_1st_floor/first_floor_fume_ho...</td>\n",
       "      <td>#biotech/biotech_1st_floor/first_floor_fume_ho...</td>\n",
       "    </tr>\n",
       "    <tr>\n",
       "      <th>2</th>\n",
       "      <td>#biotech/biotech_1st_floor/first_floor_fume_ho...</td>\n",
       "      <td>#biotech/biotech_1st_floor/first_floor_fume_ho...</td>\n",
       "    </tr>\n",
       "    <tr>\n",
       "      <th>3</th>\n",
       "      <td>#biotech/biotech_1st_floor/first_floor_fume_ho...</td>\n",
       "      <td>#biotech/biotech_1st_floor/first_floor_fume_ho...</td>\n",
       "    </tr>\n",
       "    <tr>\n",
       "      <th>4</th>\n",
       "      <td>#biotech/biotech_1st_floor/first_floor_fume_ho...</td>\n",
       "      <td>#biotech/biotech_1st_floor/first_floor_fume_ho...</td>\n",
       "    </tr>\n",
       "    <tr>\n",
       "      <th>...</th>\n",
       "      <td>...</td>\n",
       "      <td>...</td>\n",
       "    </tr>\n",
       "    <tr>\n",
       "      <th>61</th>\n",
       "      <td>#biotech/biotech_4th_floor/fourth_floor_fume_h...</td>\n",
       "      <td>#biotech/biotech_4th_floor/fourth_floor_fume_h...</td>\n",
       "    </tr>\n",
       "    <tr>\n",
       "      <th>62</th>\n",
       "      <td>#biotech/biotech_4th_floor/fourth_floor_fume_h...</td>\n",
       "      <td>#biotech/biotech_4th_floor/fourth_floor_fume_h...</td>\n",
       "    </tr>\n",
       "    <tr>\n",
       "      <th>63</th>\n",
       "      <td>#biotech/biotech_4th_floor/fourth_floor_fume_h...</td>\n",
       "      <td>#biotech/biotech_4th_floor/fourth_floor_fume_h...</td>\n",
       "    </tr>\n",
       "    <tr>\n",
       "      <th>64</th>\n",
       "      <td>#biotech/biotech_4th_floor/fourth_floor_fume_h...</td>\n",
       "      <td>#biotech/biotech_4th_floor/fourth_floor_fume_h...</td>\n",
       "    </tr>\n",
       "    <tr>\n",
       "      <th>65</th>\n",
       "      <td>#biotech/biotech_4th_floor/fourth_floor_fume_h...</td>\n",
       "      <td>#biotech/biotech_4th_floor/fourth_floor_fume_h...</td>\n",
       "    </tr>\n",
       "  </tbody>\n",
       "</table>\n",
       "<p>66 rows × 2 columns</p>\n",
       "</div>"
      ],
      "text/plain": [
       "                                            Occupancy  \\\n",
       "0   #biotech/biotech_ground_floor/ground_floor_fum...   \n",
       "1   #biotech/biotech_1st_floor/first_floor_fume_ho...   \n",
       "2   #biotech/biotech_1st_floor/first_floor_fume_ho...   \n",
       "3   #biotech/biotech_1st_floor/first_floor_fume_ho...   \n",
       "4   #biotech/biotech_1st_floor/first_floor_fume_ho...   \n",
       "..                                                ...   \n",
       "61  #biotech/biotech_4th_floor/fourth_floor_fume_h...   \n",
       "62  #biotech/biotech_4th_floor/fourth_floor_fume_h...   \n",
       "63  #biotech/biotech_4th_floor/fourth_floor_fume_h...   \n",
       "64  #biotech/biotech_4th_floor/fourth_floor_fume_h...   \n",
       "65  #biotech/biotech_4th_floor/fourth_floor_fume_h...   \n",
       "\n",
       "                                        Internal Temp  \n",
       "0   #biotech/biotech_ground_floor/ground_floor_fum...  \n",
       "1   #biotech/biotech_1st_floor/first_floor_fume_ho...  \n",
       "2   #biotech/biotech_1st_floor/first_floor_fume_ho...  \n",
       "3   #biotech/biotech_1st_floor/first_floor_fume_ho...  \n",
       "4   #biotech/biotech_1st_floor/first_floor_fume_ho...  \n",
       "..                                                ...  \n",
       "61  #biotech/biotech_4th_floor/fourth_floor_fume_h...  \n",
       "62  #biotech/biotech_4th_floor/fourth_floor_fume_h...  \n",
       "63  #biotech/biotech_4th_floor/fourth_floor_fume_h...  \n",
       "64  #biotech/biotech_4th_floor/fourth_floor_fume_h...  \n",
       "65  #biotech/biotech_4th_floor/fourth_floor_fume_h...  \n",
       "\n",
       "[66 rows x 2 columns]"
      ]
     },
     "execution_count": 41,
     "metadata": {},
     "output_type": "execute_result"
    }
   ],
   "source": [
    "#Notice how the dataframes are not equal sizes; this is because certain labs are missing hood and sash points\n",
    "#By looking at an excel file I found the following:\n",
    "#Lab 147, Lab 217, Lab 218, Lab 427 are all missing hood and sash points\n",
    "#We will remove these from the dataset\n",
    "\n",
    "dfs = csv_parser(pointnames)\n",
    "occ_temp = dfs[0]\n",
    "hood_sash = dfs[1]\n",
    "\n",
    "occ_temp = occ_temp.drop([3,9,11,58])\n",
    "occ_temp = occ_temp.reset_index()\n",
    "occ_temp = occ_temp.drop([\"index\"],axis=1)\n",
    "occ_temp"
   ]
  },
  {
   "cell_type": "code",
   "execution_count": 42,
   "metadata": {
    "collapsed": false
   },
   "outputs": [
    {
     "data": {
      "text/html": [
       "<div>\n",
       "<style scoped>\n",
       "    .dataframe tbody tr th:only-of-type {\n",
       "        vertical-align: middle;\n",
       "    }\n",
       "\n",
       "    .dataframe tbody tr th {\n",
       "        vertical-align: top;\n",
       "    }\n",
       "\n",
       "    .dataframe thead th {\n",
       "        text-align: right;\n",
       "    }\n",
       "</style>\n",
       "<table border=\"1\" class=\"dataframe\">\n",
       "  <thead>\n",
       "    <tr style=\"text-align: right;\">\n",
       "      <th></th>\n",
       "      <th>Hood</th>\n",
       "      <th>Sash</th>\n",
       "      <th>Occupancy</th>\n",
       "      <th>Internal Temp</th>\n",
       "    </tr>\n",
       "  </thead>\n",
       "  <tbody>\n",
       "    <tr>\n",
       "      <th>0</th>\n",
       "      <td>#biotech/biotech_ground_floor/ground_floor_fum...</td>\n",
       "      <td>#biotech/biotech_ground_floor/ground_floor_fum...</td>\n",
       "      <td>#biotech/biotech_ground_floor/ground_floor_fum...</td>\n",
       "      <td>#biotech/biotech_ground_floor/ground_floor_fum...</td>\n",
       "    </tr>\n",
       "    <tr>\n",
       "      <th>1</th>\n",
       "      <td>#biotech/biotech_1st_floor/first_floor_fume_ho...</td>\n",
       "      <td>#biotech/biotech_1st_floor/first_floor_fume_ho...</td>\n",
       "      <td>#biotech/biotech_1st_floor/first_floor_fume_ho...</td>\n",
       "      <td>#biotech/biotech_1st_floor/first_floor_fume_ho...</td>\n",
       "    </tr>\n",
       "    <tr>\n",
       "      <th>2</th>\n",
       "      <td>#biotech/biotech_1st_floor/first_floor_fume_ho...</td>\n",
       "      <td>#biotech/biotech_1st_floor/first_floor_fume_ho...</td>\n",
       "      <td>#biotech/biotech_1st_floor/first_floor_fume_ho...</td>\n",
       "      <td>#biotech/biotech_1st_floor/first_floor_fume_ho...</td>\n",
       "    </tr>\n",
       "    <tr>\n",
       "      <th>3</th>\n",
       "      <td>#biotech/biotech_1st_floor/first_floor_fume_ho...</td>\n",
       "      <td>#biotech/biotech_1st_floor/first_floor_fume_ho...</td>\n",
       "      <td>#biotech/biotech_1st_floor/first_floor_fume_ho...</td>\n",
       "      <td>#biotech/biotech_1st_floor/first_floor_fume_ho...</td>\n",
       "    </tr>\n",
       "    <tr>\n",
       "      <th>4</th>\n",
       "      <td>#biotech/biotech_1st_floor/first_floor_fume_ho...</td>\n",
       "      <td>#biotech/biotech_1st_floor/first_floor_fume_ho...</td>\n",
       "      <td>#biotech/biotech_1st_floor/first_floor_fume_ho...</td>\n",
       "      <td>#biotech/biotech_1st_floor/first_floor_fume_ho...</td>\n",
       "    </tr>\n",
       "    <tr>\n",
       "      <th>...</th>\n",
       "      <td>...</td>\n",
       "      <td>...</td>\n",
       "      <td>...</td>\n",
       "      <td>...</td>\n",
       "    </tr>\n",
       "    <tr>\n",
       "      <th>61</th>\n",
       "      <td>#biotech/biotech_4th_floor/fourth_floor_fume_h...</td>\n",
       "      <td>#biotech/biotech_4th_floor/fourth_floor_fume_h...</td>\n",
       "      <td>#biotech/biotech_4th_floor/fourth_floor_fume_h...</td>\n",
       "      <td>#biotech/biotech_4th_floor/fourth_floor_fume_h...</td>\n",
       "    </tr>\n",
       "    <tr>\n",
       "      <th>62</th>\n",
       "      <td>#biotech/biotech_4th_floor/fourth_floor_fume_h...</td>\n",
       "      <td>#biotech/biotech_4th_floor/fourth_floor_fume_h...</td>\n",
       "      <td>#biotech/biotech_4th_floor/fourth_floor_fume_h...</td>\n",
       "      <td>#biotech/biotech_4th_floor/fourth_floor_fume_h...</td>\n",
       "    </tr>\n",
       "    <tr>\n",
       "      <th>63</th>\n",
       "      <td>#biotech/biotech_4th_floor/fourth_floor_fume_h...</td>\n",
       "      <td>#biotech/biotech_4th_floor/fourth_floor_fume_h...</td>\n",
       "      <td>#biotech/biotech_4th_floor/fourth_floor_fume_h...</td>\n",
       "      <td>#biotech/biotech_4th_floor/fourth_floor_fume_h...</td>\n",
       "    </tr>\n",
       "    <tr>\n",
       "      <th>64</th>\n",
       "      <td>#biotech/biotech_4th_floor/fourth_floor_fume_h...</td>\n",
       "      <td>#biotech/biotech_4th_floor/fourth_floor_fume_h...</td>\n",
       "      <td>#biotech/biotech_4th_floor/fourth_floor_fume_h...</td>\n",
       "      <td>#biotech/biotech_4th_floor/fourth_floor_fume_h...</td>\n",
       "    </tr>\n",
       "    <tr>\n",
       "      <th>65</th>\n",
       "      <td>#biotech/biotech_4th_floor/fourth_floor_fume_h...</td>\n",
       "      <td>#biotech/biotech_4th_floor/fourth_floor_fume_h...</td>\n",
       "      <td>#biotech/biotech_4th_floor/fourth_floor_fume_h...</td>\n",
       "      <td>#biotech/biotech_4th_floor/fourth_floor_fume_h...</td>\n",
       "    </tr>\n",
       "  </tbody>\n",
       "</table>\n",
       "<p>66 rows × 4 columns</p>\n",
       "</div>"
      ],
      "text/plain": [
       "                                                 Hood  \\\n",
       "0   #biotech/biotech_ground_floor/ground_floor_fum...   \n",
       "1   #biotech/biotech_1st_floor/first_floor_fume_ho...   \n",
       "2   #biotech/biotech_1st_floor/first_floor_fume_ho...   \n",
       "3   #biotech/biotech_1st_floor/first_floor_fume_ho...   \n",
       "4   #biotech/biotech_1st_floor/first_floor_fume_ho...   \n",
       "..                                                ...   \n",
       "61  #biotech/biotech_4th_floor/fourth_floor_fume_h...   \n",
       "62  #biotech/biotech_4th_floor/fourth_floor_fume_h...   \n",
       "63  #biotech/biotech_4th_floor/fourth_floor_fume_h...   \n",
       "64  #biotech/biotech_4th_floor/fourth_floor_fume_h...   \n",
       "65  #biotech/biotech_4th_floor/fourth_floor_fume_h...   \n",
       "\n",
       "                                                 Sash  \\\n",
       "0   #biotech/biotech_ground_floor/ground_floor_fum...   \n",
       "1   #biotech/biotech_1st_floor/first_floor_fume_ho...   \n",
       "2   #biotech/biotech_1st_floor/first_floor_fume_ho...   \n",
       "3   #biotech/biotech_1st_floor/first_floor_fume_ho...   \n",
       "4   #biotech/biotech_1st_floor/first_floor_fume_ho...   \n",
       "..                                                ...   \n",
       "61  #biotech/biotech_4th_floor/fourth_floor_fume_h...   \n",
       "62  #biotech/biotech_4th_floor/fourth_floor_fume_h...   \n",
       "63  #biotech/biotech_4th_floor/fourth_floor_fume_h...   \n",
       "64  #biotech/biotech_4th_floor/fourth_floor_fume_h...   \n",
       "65  #biotech/biotech_4th_floor/fourth_floor_fume_h...   \n",
       "\n",
       "                                            Occupancy  \\\n",
       "0   #biotech/biotech_ground_floor/ground_floor_fum...   \n",
       "1   #biotech/biotech_1st_floor/first_floor_fume_ho...   \n",
       "2   #biotech/biotech_1st_floor/first_floor_fume_ho...   \n",
       "3   #biotech/biotech_1st_floor/first_floor_fume_ho...   \n",
       "4   #biotech/biotech_1st_floor/first_floor_fume_ho...   \n",
       "..                                                ...   \n",
       "61  #biotech/biotech_4th_floor/fourth_floor_fume_h...   \n",
       "62  #biotech/biotech_4th_floor/fourth_floor_fume_h...   \n",
       "63  #biotech/biotech_4th_floor/fourth_floor_fume_h...   \n",
       "64  #biotech/biotech_4th_floor/fourth_floor_fume_h...   \n",
       "65  #biotech/biotech_4th_floor/fourth_floor_fume_h...   \n",
       "\n",
       "                                        Internal Temp  \n",
       "0   #biotech/biotech_ground_floor/ground_floor_fum...  \n",
       "1   #biotech/biotech_1st_floor/first_floor_fume_ho...  \n",
       "2   #biotech/biotech_1st_floor/first_floor_fume_ho...  \n",
       "3   #biotech/biotech_1st_floor/first_floor_fume_ho...  \n",
       "4   #biotech/biotech_1st_floor/first_floor_fume_ho...  \n",
       "..                                                ...  \n",
       "61  #biotech/biotech_4th_floor/fourth_floor_fume_h...  \n",
       "62  #biotech/biotech_4th_floor/fourth_floor_fume_h...  \n",
       "63  #biotech/biotech_4th_floor/fourth_floor_fume_h...  \n",
       "64  #biotech/biotech_4th_floor/fourth_floor_fume_h...  \n",
       "65  #biotech/biotech_4th_floor/fourth_floor_fume_h...  \n",
       "\n",
       "[66 rows x 4 columns]"
      ]
     },
     "metadata": {},
     "output_type": "display_data"
    }
   ],
   "source": [
    "#Now we can just combine the dataframes together and we can begin working on a hierarchical structure\n",
    "\n",
    "combined = hood_sash.join(occ_temp)\n",
    "display(combined)"
   ]
  },
  {
   "cell_type": "code",
   "execution_count": 43,
   "metadata": {
    "collapsed": false
   },
   "outputs": [
    {
     "data": {
      "text/html": [
       "<div>\n",
       "<style scoped>\n",
       "    .dataframe tbody tr th:only-of-type {\n",
       "        vertical-align: middle;\n",
       "    }\n",
       "\n",
       "    .dataframe tbody tr th {\n",
       "        vertical-align: top;\n",
       "    }\n",
       "\n",
       "    .dataframe thead th {\n",
       "        text-align: right;\n",
       "    }\n",
       "</style>\n",
       "<table border=\"1\" class=\"dataframe\">\n",
       "  <thead>\n",
       "    <tr style=\"text-align: right;\">\n",
       "      <th></th>\n",
       "      <th>Hood</th>\n",
       "      <th>Sash</th>\n",
       "      <th>Occupancy</th>\n",
       "      <th>Internal Temp</th>\n",
       "      <th>Floor</th>\n",
       "      <th>Lab</th>\n",
       "    </tr>\n",
       "  </thead>\n",
       "  <tbody>\n",
       "    <tr>\n",
       "      <th>0</th>\n",
       "      <td>#biotech/biotech_ground_floor/ground_floor_fum...</td>\n",
       "      <td>#biotech/biotech_ground_floor/ground_floor_fum...</td>\n",
       "      <td>#biotech/biotech_ground_floor/ground_floor_fum...</td>\n",
       "      <td>#biotech/biotech_ground_floor/ground_floor_fum...</td>\n",
       "      <td>ground</td>\n",
       "      <td>g54</td>\n",
       "    </tr>\n",
       "    <tr>\n",
       "      <th>1</th>\n",
       "      <td>#biotech/biotech_1st_floor/first_floor_fume_ho...</td>\n",
       "      <td>#biotech/biotech_1st_floor/first_floor_fume_ho...</td>\n",
       "      <td>#biotech/biotech_1st_floor/first_floor_fume_ho...</td>\n",
       "      <td>#biotech/biotech_1st_floor/first_floor_fume_ho...</td>\n",
       "      <td>1st</td>\n",
       "      <td>141</td>\n",
       "    </tr>\n",
       "    <tr>\n",
       "      <th>2</th>\n",
       "      <td>#biotech/biotech_1st_floor/first_floor_fume_ho...</td>\n",
       "      <td>#biotech/biotech_1st_floor/first_floor_fume_ho...</td>\n",
       "      <td>#biotech/biotech_1st_floor/first_floor_fume_ho...</td>\n",
       "      <td>#biotech/biotech_1st_floor/first_floor_fume_ho...</td>\n",
       "      <td>1st</td>\n",
       "      <td>143</td>\n",
       "    </tr>\n",
       "    <tr>\n",
       "      <th>3</th>\n",
       "      <td>#biotech/biotech_1st_floor/first_floor_fume_ho...</td>\n",
       "      <td>#biotech/biotech_1st_floor/first_floor_fume_ho...</td>\n",
       "      <td>#biotech/biotech_1st_floor/first_floor_fume_ho...</td>\n",
       "      <td>#biotech/biotech_1st_floor/first_floor_fume_ho...</td>\n",
       "      <td>1st</td>\n",
       "      <td>147b</td>\n",
       "    </tr>\n",
       "    <tr>\n",
       "      <th>4</th>\n",
       "      <td>#biotech/biotech_1st_floor/first_floor_fume_ho...</td>\n",
       "      <td>#biotech/biotech_1st_floor/first_floor_fume_ho...</td>\n",
       "      <td>#biotech/biotech_1st_floor/first_floor_fume_ho...</td>\n",
       "      <td>#biotech/biotech_1st_floor/first_floor_fume_ho...</td>\n",
       "      <td>1st</td>\n",
       "      <td>153</td>\n",
       "    </tr>\n",
       "    <tr>\n",
       "      <th>...</th>\n",
       "      <td>...</td>\n",
       "      <td>...</td>\n",
       "      <td>...</td>\n",
       "      <td>...</td>\n",
       "      <td>...</td>\n",
       "      <td>...</td>\n",
       "    </tr>\n",
       "    <tr>\n",
       "      <th>61</th>\n",
       "      <td>#biotech/biotech_4th_floor/fourth_floor_fume_h...</td>\n",
       "      <td>#biotech/biotech_4th_floor/fourth_floor_fume_h...</td>\n",
       "      <td>#biotech/biotech_4th_floor/fourth_floor_fume_h...</td>\n",
       "      <td>#biotech/biotech_4th_floor/fourth_floor_fume_h...</td>\n",
       "      <td>4th</td>\n",
       "      <td>445b</td>\n",
       "    </tr>\n",
       "    <tr>\n",
       "      <th>62</th>\n",
       "      <td>#biotech/biotech_4th_floor/fourth_floor_fume_h...</td>\n",
       "      <td>#biotech/biotech_4th_floor/fourth_floor_fume_h...</td>\n",
       "      <td>#biotech/biotech_4th_floor/fourth_floor_fume_h...</td>\n",
       "      <td>#biotech/biotech_4th_floor/fourth_floor_fume_h...</td>\n",
       "      <td>4th</td>\n",
       "      <td>453</td>\n",
       "    </tr>\n",
       "    <tr>\n",
       "      <th>63</th>\n",
       "      <td>#biotech/biotech_4th_floor/fourth_floor_fume_h...</td>\n",
       "      <td>#biotech/biotech_4th_floor/fourth_floor_fume_h...</td>\n",
       "      <td>#biotech/biotech_4th_floor/fourth_floor_fume_h...</td>\n",
       "      <td>#biotech/biotech_4th_floor/fourth_floor_fume_h...</td>\n",
       "      <td>4th</td>\n",
       "      <td>453b</td>\n",
       "    </tr>\n",
       "    <tr>\n",
       "      <th>64</th>\n",
       "      <td>#biotech/biotech_4th_floor/fourth_floor_fume_h...</td>\n",
       "      <td>#biotech/biotech_4th_floor/fourth_floor_fume_h...</td>\n",
       "      <td>#biotech/biotech_4th_floor/fourth_floor_fume_h...</td>\n",
       "      <td>#biotech/biotech_4th_floor/fourth_floor_fume_h...</td>\n",
       "      <td>4th</td>\n",
       "      <td>457</td>\n",
       "    </tr>\n",
       "    <tr>\n",
       "      <th>65</th>\n",
       "      <td>#biotech/biotech_4th_floor/fourth_floor_fume_h...</td>\n",
       "      <td>#biotech/biotech_4th_floor/fourth_floor_fume_h...</td>\n",
       "      <td>#biotech/biotech_4th_floor/fourth_floor_fume_h...</td>\n",
       "      <td>#biotech/biotech_4th_floor/fourth_floor_fume_h...</td>\n",
       "      <td>4th</td>\n",
       "      <td>457b</td>\n",
       "    </tr>\n",
       "  </tbody>\n",
       "</table>\n",
       "<p>66 rows × 6 columns</p>\n",
       "</div>"
      ],
      "text/plain": [
       "                                                 Hood  \\\n",
       "0   #biotech/biotech_ground_floor/ground_floor_fum...   \n",
       "1   #biotech/biotech_1st_floor/first_floor_fume_ho...   \n",
       "2   #biotech/biotech_1st_floor/first_floor_fume_ho...   \n",
       "3   #biotech/biotech_1st_floor/first_floor_fume_ho...   \n",
       "4   #biotech/biotech_1st_floor/first_floor_fume_ho...   \n",
       "..                                                ...   \n",
       "61  #biotech/biotech_4th_floor/fourth_floor_fume_h...   \n",
       "62  #biotech/biotech_4th_floor/fourth_floor_fume_h...   \n",
       "63  #biotech/biotech_4th_floor/fourth_floor_fume_h...   \n",
       "64  #biotech/biotech_4th_floor/fourth_floor_fume_h...   \n",
       "65  #biotech/biotech_4th_floor/fourth_floor_fume_h...   \n",
       "\n",
       "                                                 Sash  \\\n",
       "0   #biotech/biotech_ground_floor/ground_floor_fum...   \n",
       "1   #biotech/biotech_1st_floor/first_floor_fume_ho...   \n",
       "2   #biotech/biotech_1st_floor/first_floor_fume_ho...   \n",
       "3   #biotech/biotech_1st_floor/first_floor_fume_ho...   \n",
       "4   #biotech/biotech_1st_floor/first_floor_fume_ho...   \n",
       "..                                                ...   \n",
       "61  #biotech/biotech_4th_floor/fourth_floor_fume_h...   \n",
       "62  #biotech/biotech_4th_floor/fourth_floor_fume_h...   \n",
       "63  #biotech/biotech_4th_floor/fourth_floor_fume_h...   \n",
       "64  #biotech/biotech_4th_floor/fourth_floor_fume_h...   \n",
       "65  #biotech/biotech_4th_floor/fourth_floor_fume_h...   \n",
       "\n",
       "                                            Occupancy  \\\n",
       "0   #biotech/biotech_ground_floor/ground_floor_fum...   \n",
       "1   #biotech/biotech_1st_floor/first_floor_fume_ho...   \n",
       "2   #biotech/biotech_1st_floor/first_floor_fume_ho...   \n",
       "3   #biotech/biotech_1st_floor/first_floor_fume_ho...   \n",
       "4   #biotech/biotech_1st_floor/first_floor_fume_ho...   \n",
       "..                                                ...   \n",
       "61  #biotech/biotech_4th_floor/fourth_floor_fume_h...   \n",
       "62  #biotech/biotech_4th_floor/fourth_floor_fume_h...   \n",
       "63  #biotech/biotech_4th_floor/fourth_floor_fume_h...   \n",
       "64  #biotech/biotech_4th_floor/fourth_floor_fume_h...   \n",
       "65  #biotech/biotech_4th_floor/fourth_floor_fume_h...   \n",
       "\n",
       "                                        Internal Temp   Floor   Lab  \n",
       "0   #biotech/biotech_ground_floor/ground_floor_fum...  ground   g54  \n",
       "1   #biotech/biotech_1st_floor/first_floor_fume_ho...     1st   141  \n",
       "2   #biotech/biotech_1st_floor/first_floor_fume_ho...     1st   143  \n",
       "3   #biotech/biotech_1st_floor/first_floor_fume_ho...     1st  147b  \n",
       "4   #biotech/biotech_1st_floor/first_floor_fume_ho...     1st   153  \n",
       "..                                                ...     ...   ...  \n",
       "61  #biotech/biotech_4th_floor/fourth_floor_fume_h...     4th  445b  \n",
       "62  #biotech/biotech_4th_floor/fourth_floor_fume_h...     4th   453  \n",
       "63  #biotech/biotech_4th_floor/fourth_floor_fume_h...     4th  453b  \n",
       "64  #biotech/biotech_4th_floor/fourth_floor_fume_h...     4th   457  \n",
       "65  #biotech/biotech_4th_floor/fourth_floor_fume_h...     4th  457b  \n",
       "\n",
       "[66 rows x 6 columns]"
      ]
     },
     "execution_count": 43,
     "metadata": {},
     "output_type": "execute_result"
    }
   ],
   "source": [
    "def get_floor(text):\n",
    "    blocks = text.split(\"/\")\n",
    "    floor_block = blocks[1]\n",
    "    floor = floor_block.split(\"_\")[1]\n",
    "    return floor\n",
    "\n",
    "combined['Floor'] = [get_floor(i) for i in combined[\"Hood\"]]\n",
    "#combined\n",
    "\n",
    "def get_lab(text):\n",
    "    blocks = text.split(\"/\")\n",
    "    lab_block = blocks[3]\n",
    "    lab = lab_block.split(\"_\")[1]\n",
    "    return lab\n",
    "\n",
    "combined[\"Lab\"] = [get_lab(i) for i in combined[\"Hood\"]]\n",
    "combined"
   ]
  },
  {
   "cell_type": "code",
   "execution_count": 44,
   "metadata": {
    "collapsed": false
   },
   "outputs": [
    {
     "data": {
      "text/html": [
       "<div>\n",
       "<style scoped>\n",
       "    .dataframe tbody tr th:only-of-type {\n",
       "        vertical-align: middle;\n",
       "    }\n",
       "\n",
       "    .dataframe tbody tr th {\n",
       "        vertical-align: top;\n",
       "    }\n",
       "\n",
       "    .dataframe thead th {\n",
       "        text-align: right;\n",
       "    }\n",
       "</style>\n",
       "<table border=\"1\" class=\"dataframe\">\n",
       "  <thead>\n",
       "    <tr style=\"text-align: right;\">\n",
       "      <th></th>\n",
       "      <th>Lab</th>\n",
       "      <th>Floor</th>\n",
       "      <th>Server</th>\n",
       "      <th>Hood</th>\n",
       "      <th>Sash</th>\n",
       "      <th>Occupancy</th>\n",
       "      <th>Internal Temp</th>\n",
       "      <th>External Temp</th>\n",
       "    </tr>\n",
       "  </thead>\n",
       "  <tbody>\n",
       "    <tr>\n",
       "      <th>0</th>\n",
       "      <td>g54</td>\n",
       "      <td>ground</td>\n",
       "      <td>biotech_main</td>\n",
       "      <td>#biotech/biotech_ground_floor/ground_floor_fum...</td>\n",
       "      <td>#biotech/biotech_ground_floor/ground_floor_fum...</td>\n",
       "      <td>#biotech/biotech_ground_floor/ground_floor_fum...</td>\n",
       "      <td>#biotech/biotech_ground_floor/ground_floor_fum...</td>\n",
       "      <td>#biotech/ground_flr_mech/building_hydronic_hea...</td>\n",
       "    </tr>\n",
       "    <tr>\n",
       "      <th>1</th>\n",
       "      <td>141</td>\n",
       "      <td>1st</td>\n",
       "      <td>biotech_main</td>\n",
       "      <td>#biotech/biotech_1st_floor/first_floor_fume_ho...</td>\n",
       "      <td>#biotech/biotech_1st_floor/first_floor_fume_ho...</td>\n",
       "      <td>#biotech/biotech_1st_floor/first_floor_fume_ho...</td>\n",
       "      <td>#biotech/biotech_1st_floor/first_floor_fume_ho...</td>\n",
       "      <td>#biotech/ground_flr_mech/building_hydronic_hea...</td>\n",
       "    </tr>\n",
       "    <tr>\n",
       "      <th>2</th>\n",
       "      <td>143</td>\n",
       "      <td>1st</td>\n",
       "      <td>biotech_main</td>\n",
       "      <td>#biotech/biotech_1st_floor/first_floor_fume_ho...</td>\n",
       "      <td>#biotech/biotech_1st_floor/first_floor_fume_ho...</td>\n",
       "      <td>#biotech/biotech_1st_floor/first_floor_fume_ho...</td>\n",
       "      <td>#biotech/biotech_1st_floor/first_floor_fume_ho...</td>\n",
       "      <td>#biotech/ground_flr_mech/building_hydronic_hea...</td>\n",
       "    </tr>\n",
       "    <tr>\n",
       "      <th>3</th>\n",
       "      <td>147b</td>\n",
       "      <td>1st</td>\n",
       "      <td>biotech_main</td>\n",
       "      <td>#biotech/biotech_1st_floor/first_floor_fume_ho...</td>\n",
       "      <td>#biotech/biotech_1st_floor/first_floor_fume_ho...</td>\n",
       "      <td>#biotech/biotech_1st_floor/first_floor_fume_ho...</td>\n",
       "      <td>#biotech/biotech_1st_floor/first_floor_fume_ho...</td>\n",
       "      <td>#biotech/ground_flr_mech/building_hydronic_hea...</td>\n",
       "    </tr>\n",
       "    <tr>\n",
       "      <th>4</th>\n",
       "      <td>153</td>\n",
       "      <td>1st</td>\n",
       "      <td>biotech_main</td>\n",
       "      <td>#biotech/biotech_1st_floor/first_floor_fume_ho...</td>\n",
       "      <td>#biotech/biotech_1st_floor/first_floor_fume_ho...</td>\n",
       "      <td>#biotech/biotech_1st_floor/first_floor_fume_ho...</td>\n",
       "      <td>#biotech/biotech_1st_floor/first_floor_fume_ho...</td>\n",
       "      <td>#biotech/ground_flr_mech/building_hydronic_hea...</td>\n",
       "    </tr>\n",
       "    <tr>\n",
       "      <th>...</th>\n",
       "      <td>...</td>\n",
       "      <td>...</td>\n",
       "      <td>...</td>\n",
       "      <td>...</td>\n",
       "      <td>...</td>\n",
       "      <td>...</td>\n",
       "      <td>...</td>\n",
       "      <td>...</td>\n",
       "    </tr>\n",
       "    <tr>\n",
       "      <th>61</th>\n",
       "      <td>445b</td>\n",
       "      <td>4th</td>\n",
       "      <td>biotech_main</td>\n",
       "      <td>#biotech/biotech_4th_floor/fourth_floor_fume_h...</td>\n",
       "      <td>#biotech/biotech_4th_floor/fourth_floor_fume_h...</td>\n",
       "      <td>#biotech/biotech_4th_floor/fourth_floor_fume_h...</td>\n",
       "      <td>#biotech/biotech_4th_floor/fourth_floor_fume_h...</td>\n",
       "      <td>#biotech/ground_flr_mech/building_hydronic_hea...</td>\n",
       "    </tr>\n",
       "    <tr>\n",
       "      <th>62</th>\n",
       "      <td>453</td>\n",
       "      <td>4th</td>\n",
       "      <td>biotech_main</td>\n",
       "      <td>#biotech/biotech_4th_floor/fourth_floor_fume_h...</td>\n",
       "      <td>#biotech/biotech_4th_floor/fourth_floor_fume_h...</td>\n",
       "      <td>#biotech/biotech_4th_floor/fourth_floor_fume_h...</td>\n",
       "      <td>#biotech/biotech_4th_floor/fourth_floor_fume_h...</td>\n",
       "      <td>#biotech/ground_flr_mech/building_hydronic_hea...</td>\n",
       "    </tr>\n",
       "    <tr>\n",
       "      <th>63</th>\n",
       "      <td>453b</td>\n",
       "      <td>4th</td>\n",
       "      <td>biotech_main</td>\n",
       "      <td>#biotech/biotech_4th_floor/fourth_floor_fume_h...</td>\n",
       "      <td>#biotech/biotech_4th_floor/fourth_floor_fume_h...</td>\n",
       "      <td>#biotech/biotech_4th_floor/fourth_floor_fume_h...</td>\n",
       "      <td>#biotech/biotech_4th_floor/fourth_floor_fume_h...</td>\n",
       "      <td>#biotech/ground_flr_mech/building_hydronic_hea...</td>\n",
       "    </tr>\n",
       "    <tr>\n",
       "      <th>64</th>\n",
       "      <td>457</td>\n",
       "      <td>4th</td>\n",
       "      <td>biotech_main</td>\n",
       "      <td>#biotech/biotech_4th_floor/fourth_floor_fume_h...</td>\n",
       "      <td>#biotech/biotech_4th_floor/fourth_floor_fume_h...</td>\n",
       "      <td>#biotech/biotech_4th_floor/fourth_floor_fume_h...</td>\n",
       "      <td>#biotech/biotech_4th_floor/fourth_floor_fume_h...</td>\n",
       "      <td>#biotech/ground_flr_mech/building_hydronic_hea...</td>\n",
       "    </tr>\n",
       "    <tr>\n",
       "      <th>65</th>\n",
       "      <td>457b</td>\n",
       "      <td>4th</td>\n",
       "      <td>biotech_main</td>\n",
       "      <td>#biotech/biotech_4th_floor/fourth_floor_fume_h...</td>\n",
       "      <td>#biotech/biotech_4th_floor/fourth_floor_fume_h...</td>\n",
       "      <td>#biotech/biotech_4th_floor/fourth_floor_fume_h...</td>\n",
       "      <td>#biotech/biotech_4th_floor/fourth_floor_fume_h...</td>\n",
       "      <td>#biotech/ground_flr_mech/building_hydronic_hea...</td>\n",
       "    </tr>\n",
       "  </tbody>\n",
       "</table>\n",
       "<p>66 rows × 8 columns</p>\n",
       "</div>"
      ],
      "text/plain": [
       "     Lab   Floor        Server  \\\n",
       "0    g54  ground  biotech_main   \n",
       "1    141     1st  biotech_main   \n",
       "2    143     1st  biotech_main   \n",
       "3   147b     1st  biotech_main   \n",
       "4    153     1st  biotech_main   \n",
       "..   ...     ...           ...   \n",
       "61  445b     4th  biotech_main   \n",
       "62   453     4th  biotech_main   \n",
       "63  453b     4th  biotech_main   \n",
       "64   457     4th  biotech_main   \n",
       "65  457b     4th  biotech_main   \n",
       "\n",
       "                                                 Hood  \\\n",
       "0   #biotech/biotech_ground_floor/ground_floor_fum...   \n",
       "1   #biotech/biotech_1st_floor/first_floor_fume_ho...   \n",
       "2   #biotech/biotech_1st_floor/first_floor_fume_ho...   \n",
       "3   #biotech/biotech_1st_floor/first_floor_fume_ho...   \n",
       "4   #biotech/biotech_1st_floor/first_floor_fume_ho...   \n",
       "..                                                ...   \n",
       "61  #biotech/biotech_4th_floor/fourth_floor_fume_h...   \n",
       "62  #biotech/biotech_4th_floor/fourth_floor_fume_h...   \n",
       "63  #biotech/biotech_4th_floor/fourth_floor_fume_h...   \n",
       "64  #biotech/biotech_4th_floor/fourth_floor_fume_h...   \n",
       "65  #biotech/biotech_4th_floor/fourth_floor_fume_h...   \n",
       "\n",
       "                                                 Sash  \\\n",
       "0   #biotech/biotech_ground_floor/ground_floor_fum...   \n",
       "1   #biotech/biotech_1st_floor/first_floor_fume_ho...   \n",
       "2   #biotech/biotech_1st_floor/first_floor_fume_ho...   \n",
       "3   #biotech/biotech_1st_floor/first_floor_fume_ho...   \n",
       "4   #biotech/biotech_1st_floor/first_floor_fume_ho...   \n",
       "..                                                ...   \n",
       "61  #biotech/biotech_4th_floor/fourth_floor_fume_h...   \n",
       "62  #biotech/biotech_4th_floor/fourth_floor_fume_h...   \n",
       "63  #biotech/biotech_4th_floor/fourth_floor_fume_h...   \n",
       "64  #biotech/biotech_4th_floor/fourth_floor_fume_h...   \n",
       "65  #biotech/biotech_4th_floor/fourth_floor_fume_h...   \n",
       "\n",
       "                                            Occupancy  \\\n",
       "0   #biotech/biotech_ground_floor/ground_floor_fum...   \n",
       "1   #biotech/biotech_1st_floor/first_floor_fume_ho...   \n",
       "2   #biotech/biotech_1st_floor/first_floor_fume_ho...   \n",
       "3   #biotech/biotech_1st_floor/first_floor_fume_ho...   \n",
       "4   #biotech/biotech_1st_floor/first_floor_fume_ho...   \n",
       "..                                                ...   \n",
       "61  #biotech/biotech_4th_floor/fourth_floor_fume_h...   \n",
       "62  #biotech/biotech_4th_floor/fourth_floor_fume_h...   \n",
       "63  #biotech/biotech_4th_floor/fourth_floor_fume_h...   \n",
       "64  #biotech/biotech_4th_floor/fourth_floor_fume_h...   \n",
       "65  #biotech/biotech_4th_floor/fourth_floor_fume_h...   \n",
       "\n",
       "                                        Internal Temp  \\\n",
       "0   #biotech/biotech_ground_floor/ground_floor_fum...   \n",
       "1   #biotech/biotech_1st_floor/first_floor_fume_ho...   \n",
       "2   #biotech/biotech_1st_floor/first_floor_fume_ho...   \n",
       "3   #biotech/biotech_1st_floor/first_floor_fume_ho...   \n",
       "4   #biotech/biotech_1st_floor/first_floor_fume_ho...   \n",
       "..                                                ...   \n",
       "61  #biotech/biotech_4th_floor/fourth_floor_fume_h...   \n",
       "62  #biotech/biotech_4th_floor/fourth_floor_fume_h...   \n",
       "63  #biotech/biotech_4th_floor/fourth_floor_fume_h...   \n",
       "64  #biotech/biotech_4th_floor/fourth_floor_fume_h...   \n",
       "65  #biotech/biotech_4th_floor/fourth_floor_fume_h...   \n",
       "\n",
       "                                        External Temp  \n",
       "0   #biotech/ground_flr_mech/building_hydronic_hea...  \n",
       "1   #biotech/ground_flr_mech/building_hydronic_hea...  \n",
       "2   #biotech/ground_flr_mech/building_hydronic_hea...  \n",
       "3   #biotech/ground_flr_mech/building_hydronic_hea...  \n",
       "4   #biotech/ground_flr_mech/building_hydronic_hea...  \n",
       "..                                                ...  \n",
       "61  #biotech/ground_flr_mech/building_hydronic_hea...  \n",
       "62  #biotech/ground_flr_mech/building_hydronic_hea...  \n",
       "63  #biotech/ground_flr_mech/building_hydronic_hea...  \n",
       "64  #biotech/ground_flr_mech/building_hydronic_hea...  \n",
       "65  #biotech/ground_flr_mech/building_hydronic_hea...  \n",
       "\n",
       "[66 rows x 8 columns]"
      ]
     },
     "execution_count": 44,
     "metadata": {},
     "output_type": "execute_result"
    }
   ],
   "source": [
    "#Rearranging the column orders :)\n",
    "\n",
    "\n",
    "combined[\"External Temp\"] = \"#biotech/ground_flr_mech/building_hydronic_heating_syatems/reheat_heat_exchanger/oat\"\n",
    "combined[\"Server\"] = \"biotech_main\"\n",
    "cols = [\"Lab\",\"Floor\",\"Server\", \"Hood\",\"Sash\",\"Occupancy\",\"Internal Temp\", \"External Temp\"]\n",
    "combined = combined[cols]\n",
    "#combined.to_csv('C:\\\\Users\\\\Rob\\\\Documents\\\\GitHub\\\\fume-hood-dashboard\\\\pointnames.csv')\n",
    "combined"
   ]
  },
  {
   "cell_type": "code",
   "execution_count": 7,
   "metadata": {
    "collapsed": false
   },
   "outputs": [
    {
     "data": {
      "text/html": [
       "<div>\n",
       "<style scoped>\n",
       "    .dataframe tbody tr th:only-of-type {\n",
       "        vertical-align: middle;\n",
       "    }\n",
       "\n",
       "    .dataframe tbody tr th {\n",
       "        vertical-align: top;\n",
       "    }\n",
       "\n",
       "    .dataframe thead th {\n",
       "        text-align: right;\n",
       "    }\n",
       "</style>\n",
       "<table border=\"1\" class=\"dataframe\">\n",
       "  <thead>\n",
       "    <tr style=\"text-align: right;\">\n",
       "      <th></th>\n",
       "      <th>Unnamed: 0</th>\n",
       "      <th>Labs</th>\n",
       "      <th>Energy</th>\n",
       "      <th>Standardized</th>\n",
       "    </tr>\n",
       "  </thead>\n",
       "  <tbody>\n",
       "    <tr>\n",
       "      <th>0</th>\n",
       "      <td>45</td>\n",
       "      <td>403</td>\n",
       "      <td>9.295059e+06</td>\n",
       "      <td>9.295059</td>\n",
       "    </tr>\n",
       "    <tr>\n",
       "      <th>1</th>\n",
       "      <td>13</td>\n",
       "      <td>233</td>\n",
       "      <td>9.003410e+06</td>\n",
       "      <td>9.003410</td>\n",
       "    </tr>\n",
       "    <tr>\n",
       "      <th>2</th>\n",
       "      <td>34</td>\n",
       "      <td>327</td>\n",
       "      <td>8.579809e+06</td>\n",
       "      <td>8.579809</td>\n",
       "    </tr>\n",
       "    <tr>\n",
       "      <th>3</th>\n",
       "      <td>42</td>\n",
       "      <td>360b</td>\n",
       "      <td>8.477475e+06</td>\n",
       "      <td>8.477475</td>\n",
       "    </tr>\n",
       "    <tr>\n",
       "      <th>4</th>\n",
       "      <td>11</td>\n",
       "      <td>227</td>\n",
       "      <td>8.427447e+06</td>\n",
       "      <td>8.427447</td>\n",
       "    </tr>\n",
       "    <tr>\n",
       "      <th>...</th>\n",
       "      <td>...</td>\n",
       "      <td>...</td>\n",
       "      <td>...</td>\n",
       "      <td>...</td>\n",
       "    </tr>\n",
       "    <tr>\n",
       "      <th>60</th>\n",
       "      <td>19</td>\n",
       "      <td>257</td>\n",
       "      <td>6.002709e+06</td>\n",
       "      <td>6.002709</td>\n",
       "    </tr>\n",
       "    <tr>\n",
       "      <th>61</th>\n",
       "      <td>2</td>\n",
       "      <td>143</td>\n",
       "      <td>5.391770e+06</td>\n",
       "      <td>5.391770</td>\n",
       "    </tr>\n",
       "    <tr>\n",
       "      <th>62</th>\n",
       "      <td>0</td>\n",
       "      <td>g54</td>\n",
       "      <td>3.898575e+06</td>\n",
       "      <td>3.898575</td>\n",
       "    </tr>\n",
       "    <tr>\n",
       "      <th>63</th>\n",
       "      <td>41</td>\n",
       "      <td>345b</td>\n",
       "      <td>0.000000e+00</td>\n",
       "      <td>0.000000</td>\n",
       "    </tr>\n",
       "    <tr>\n",
       "      <th>64</th>\n",
       "      <td>56</td>\n",
       "      <td>433b</td>\n",
       "      <td>0.000000e+00</td>\n",
       "      <td>0.000000</td>\n",
       "    </tr>\n",
       "  </tbody>\n",
       "</table>\n",
       "<p>65 rows × 4 columns</p>\n",
       "</div>"
      ],
      "text/plain": [
       "    Unnamed: 0  Labs        Energy  Standardized\n",
       "0           45   403  9.295059e+06      9.295059\n",
       "1           13   233  9.003410e+06      9.003410\n",
       "2           34   327  8.579809e+06      8.579809\n",
       "3           42  360b  8.477475e+06      8.477475\n",
       "4           11   227  8.427447e+06      8.427447\n",
       "..         ...   ...           ...           ...\n",
       "60          19   257  6.002709e+06      6.002709\n",
       "61           2   143  5.391770e+06      5.391770\n",
       "62           0   g54  3.898575e+06      3.898575\n",
       "63          41  345b  0.000000e+00      0.000000\n",
       "64          56  433b  0.000000e+00      0.000000\n",
       "\n",
       "[65 rows x 4 columns]"
      ]
     },
     "metadata": {},
     "output_type": "display_data"
    }
   ],
   "source": [
    "def find_greatest_energy_usage(df,startdate,enddate):\n",
    "    energy_list = []\n",
    "    lab_list = []\n",
    "    for i in range(len(df[\"Hood\"])):\n",
    "        if i!= 42:\n",
    "            energy = total_energy(cfm_point=df[\"Hood\"][i],\n",
    "                                 sash_point=df[\"Sash\"][i],\n",
    "                                 occ_point=df[\"Occupancy\"][i],\n",
    "                                 internal_temp_point=df[\"Internal Temp\"][i],\n",
    "                                 external_temp_point=df[\"External Temp\"][i],\n",
    "                                 server = df[\"Server\"][i],\n",
    "                                 start= startdate,\n",
    "                                 end=enddate).sum()\n",
    "            energy_list.append(energy)\n",
    "            lab_list.append(df[\"Lab\"][i])\n",
    "    ndict = {\"Labs\":lab_list, \"Energy\":energy_list}\n",
    "    df = pd.DataFrame(ndict)\n",
    "    return df.sort_values(\"Energy\",ascending=False)\n",
    "\n",
    "#ndf = find_greatest_energy_usage(combined,str(datetime(2022, 12,1)),str(datetime(2022, 12, 30)))\n",
    "ndf = pd.read_csv(\"energy_december_biotech.csv\")\n",
    "display(ndf)\n",
    "\n"
   ]
  },
  {
   "cell_type": "code",
   "execution_count": 8,
   "metadata": {
    "collapsed": false
   },
   "outputs": [
    {
     "data": {
      "image/png": "[encoded data removed]",
      "text/plain": [
       "<Figure size 432x288 with 1 Axes>"
      ]
     },
     "metadata": {
      "needs_background": "light"
     },
     "output_type": "display_data"
    }
   ],
   "source": [
    "#ndf[\"Standardized\"] = ndf[\"Energy\"]/1000000\n",
    "plt.hist(ndf[\"Standardized\"])\n",
    "plt.title(\"Breakdown of Average Energy Usage of fume hoods in Biotech during December 2022\")\n",
    "plt.show()"
   ]
  },
  {
   "cell_type": "code",
   "execution_count": 9,
   "metadata": {
    "collapsed": false
   },
   "outputs": [
    {
     "ename": "NameError",
     "evalue": "name 'total_energy' is not defined",
     "output_type": "error",
     "traceback": [
      "\u001b[1;31m---------------------------------------------------------------------------\u001b[0m",
      "\u001b[1;31mNameError\u001b[0m                                 Traceback (most recent call last)",
      "\u001b[1;32m<ipython-input-9-a182f6e9e3fb>\u001b[0m in \u001b[0;36m<module>\u001b[1;34m\u001b[0m\n\u001b[0;32m     17\u001b[0m \u001b[0mend\u001b[0m \u001b[1;33m=\u001b[0m \u001b[0mstr\u001b[0m\u001b[1;33m(\u001b[0m\u001b[0mdatetime\u001b[0m\u001b[1;33m(\u001b[0m\u001b[1;36m2022\u001b[0m\u001b[1;33m,\u001b[0m \u001b[1;36m12\u001b[0m\u001b[1;33m,\u001b[0m\u001b[1;36m31\u001b[0m\u001b[1;33m)\u001b[0m\u001b[1;33m)\u001b[0m\u001b[1;33m\u001b[0m\u001b[1;33m\u001b[0m\u001b[0m\n\u001b[0;32m     18\u001b[0m \u001b[0mi\u001b[0m \u001b[1;33m=\u001b[0m \u001b[1;36m0\u001b[0m\u001b[1;33m\u001b[0m\u001b[1;33m\u001b[0m\u001b[0m\n\u001b[1;32m---> 19\u001b[1;33m energy = total_energy(cfm_point=combined[\"Hood\"][i],\n\u001b[0m\u001b[0;32m     20\u001b[0m                       \u001b[0msash_point\u001b[0m\u001b[1;33m=\u001b[0m\u001b[0mcombined\u001b[0m\u001b[1;33m[\u001b[0m\u001b[1;34m\"Sash\"\u001b[0m\u001b[1;33m]\u001b[0m\u001b[1;33m[\u001b[0m\u001b[0mi\u001b[0m\u001b[1;33m]\u001b[0m\u001b[1;33m,\u001b[0m\u001b[1;33m\u001b[0m\u001b[1;33m\u001b[0m\u001b[0m\n\u001b[0;32m     21\u001b[0m                       \u001b[0mocc_point\u001b[0m\u001b[1;33m=\u001b[0m\u001b[0mcombined\u001b[0m\u001b[1;33m[\u001b[0m\u001b[1;34m\"Occupancy\"\u001b[0m\u001b[1;33m]\u001b[0m\u001b[1;33m[\u001b[0m\u001b[0mi\u001b[0m\u001b[1;33m]\u001b[0m\u001b[1;33m,\u001b[0m\u001b[1;33m\u001b[0m\u001b[1;33m\u001b[0m\u001b[0m\n",
      "\u001b[1;31mNameError\u001b[0m: name 'total_energy' is not defined"
     ]
    }
   ],
   "source": [
    "\"\"\"\n",
    "Goal Overall: Average Price/Day for a fume hood.\n",
    "\n",
    "1. We need to calculate an average BTUH/day for each fume hood, over the specified time interval.\n",
    "2. Look up a conversion factor from BTUH to electricity KWH. Average KWH/day\n",
    "3. Multiply by some conversion factor to get an estimate of price.\n",
    "4. If we want total price we can now just multiply by number of days that we specified.\n",
    "\n",
    "Note: Average price is better because now we can extrapolate into the future to esimate how much a fume hood would cost over several years.\n",
    "\"\"\"\n",
    "\n",
    "#Test on One Fume Hood\n",
    "\n",
    "#fumehood = combined.iloc[0].tolist()\n",
    "\n",
    "start = str(datetime(2022, 12,1))\n",
    "end = str(datetime(2022, 12,31))\n",
    "i = 0\n",
    "energy = total_energy(cfm_point=combined[\"Hood\"][i],\n",
    "                      sash_point=combined[\"Sash\"][i],\n",
    "                      occ_point=combined[\"Occupancy\"][i],\n",
    "                      internal_temp_point=combined[\"Internal Temp\"][i],\n",
    "                      external_temp_point=combined[\"External Temp\"][i],\n",
    "                      server = combined[\"Server\"][i],\n",
    "                      start= start,\n",
    "                      end=end)\n",
    "energy\n",
    "\n"
   ]
  },
  {
   "cell_type": "code",
   "execution_count": 13,
   "metadata": {
    "collapsed": false
   },
   "outputs": [
    {
     "data": {
      "application/vnd.plotly.v1+json": {
       "config": {
        "plotlyServerURL": "https://plot.ly"
       },
       "data": [
        {
         "alignmentgroup": "True",
         "hovertemplate": "Labs=%{x}<br>Energy=%{y}<extra></extra>",
         "legendgroup": "",
         "marker": {
          "color": "#636efa",
          "pattern": {
           "shape": ""
          }
         },
         "name": "",
         "offsetgroup": "",
         "orientation": "v",
         "showlegend": false,
         "textposition": "auto",
         "type": "bar",
         "x": [
          "403",
          "233",
          "327",
          "360b",
          "227",
          "418",
          "303",
          "309b",
          "403b",
          "367b",
          "321b",
          "221",
          "441",
          "227b",
          "253b",
          "321",
          "333b",
          "141",
          "417",
          "233b",
          "241",
          "453b",
          "257b",
          "457b",
          "217b",
          "453",
          "267b",
          "409b",
          "318",
          "421b",
          "341",
          "333",
          "327b",
          "445",
          "441b",
          "303b",
          "260",
          "421",
          "417b",
          "409",
          "309",
          "427b",
          "341b",
          "445b",
          "317b",
          "253",
          "147b",
          "155",
          "457",
          "345",
          "153b",
          "267",
          "221b",
          "153",
          "317",
          "260b",
          "367",
          "433",
          "241b",
          "160",
          "257",
          "143",
          "g54",
          "345b",
          "433b"
         ],
         "xaxis": "x",
         "y": [
          9295059.39651,
          9003410.39421,
          8579809.16622,
          8477474.857020002,
          8427447.11646,
          8335729.692450001,
          8295049.830330001,
          8135968.87296,
          8125693.88094,
          8082383.41584,
          8051437.221930001,
          7968553.63929,
          7931320.600950001,
          7872314.984280001,
          7834741.59636,
          7830482.49027,
          7819125.942510001,
          7707239.866800001,
          7679340.27864,
          7669114.87212,
          7659607.965840001,
          7626419.662770001,
          7605956.08764,
          7576341.272910001,
          7567544.767140001,
          7548012.88614,
          7520159.988,
          7477103.612610001,
          7461794.099340001,
          7408055.15748,
          7389466.09596,
          7387892.876160001,
          7376042.462490001,
          7363789.74639,
          7356207.98007,
          7267630.979430001,
          7236281.633490001,
          7197924.97233,
          7194559.22955,
          7182523.8048600005,
          7172186.56137,
          7172166.144780001,
          7149551.629500001,
          7139869.938990001,
          7137346.9447800005,
          7045954.409880001,
          7004518.9155,
          6990804.00738,
          6978936.84588,
          6949921.321260001,
          6884443.889370001,
          6873782.832180001,
          6840023.1497100005,
          6763589.40051,
          6670276.42932,
          6595423.437240001,
          6566241.17844,
          6505150.636770001,
          6503248.1394,
          6406148.84157,
          6002708.5149300005,
          5391770.35815,
          3898574.95149,
          0,
          0
         ],
         "yaxis": "y"
        }
       ],
       "layout": {
        "barmode": "relative",
        "legend": {
         "tracegroupgap": 0
        },
        "template": {
         "data": {
          "bar": [
           {
            "error_x": {
             "color": "#f2f5fa"
            },
            "error_y": {
             "color": "#f2f5fa"
            },
            "marker": {
             "line": {
              "color": "rgb(17,17,17)",
              "width": 0.5
             },
             "pattern": {
              "fillmode": "overlay",
              "size": 10,
              "solidity": 0.2
             }
            },
            "type": "bar"
           }
          ],
          "barpolar": [
           {
            "marker": {
             "line": {
              "color": "rgb(17,17,17)",
              "width": 0.5
             },
             "pattern": {
              "fillmode": "overlay",
              "size": 10,
              "solidity": 0.2
             }
            },
            "type": "barpolar"
           }
          ],
          "carpet": [
           {
            "aaxis": {
             "endlinecolor": "#A2B1C6",
             "gridcolor": "#506784",
             "linecolor": "#506784",
             "minorgridcolor": "#506784",
             "startlinecolor": "#A2B1C6"
            },
            "baxis": {
             "endlinecolor": "#A2B1C6",
             "gridcolor": "#506784",
             "linecolor": "#506784",
             "minorgridcolor": "#506784",
             "startlinecolor": "#A2B1C6"
            },
            "type": "carpet"
           }
          ],
          "choropleth": [
           {
            "colorbar": {
             "outlinewidth": 0,
             "ticks": ""
            },
            "type": "choropleth"
           }
          ],
          "contour": [
           {
            "colorbar": {
             "outlinewidth": 0,
             "ticks": ""
            },
            "colorscale": [
             [
              0,
              "#0d0887"
             ],
             [
              0.1111111111111111,
              "#46039f"
             ],
             [
              0.2222222222222222,
              "#7201a8"
             ],
             [
              0.3333333333333333,
              "#9c179e"
             ],
             [
              0.4444444444444444,
              "#bd3786"
             ],
             [
              0.5555555555555556,
              "#d8576b"
             ],
             [
              0.6666666666666666,
              "#ed7953"
             ],
             [
              0.7777777777777778,
              "#fb9f3a"
             ],
             [
              0.8888888888888888,
              "#fdca26"
             ],
             [
              1,
              "#f0f921"
             ]
            ],
            "type": "contour"
           }
          ],
          "contourcarpet": [
           {
            "colorbar": {
             "outlinewidth": 0,
             "ticks": ""
            },
            "type": "contourcarpet"
           }
          ],
          "heatmap": [
           {
            "colorbar": {
             "outlinewidth": 0,
             "ticks": ""
            },
            "colorscale": [
             [
              0,
              "#0d0887"
             ],
             [
              0.1111111111111111,
              "#46039f"
             ],
             [
              0.2222222222222222,
              "#7201a8"
             ],
             [
              0.3333333333333333,
              "#9c179e"
             ],
             [
              0.4444444444444444,
              "#bd3786"
             ],
             [
              0.5555555555555556,
              "#d8576b"
             ],
             [
              0.6666666666666666,
              "#ed7953"
             ],
             [
              0.7777777777777778,
              "#fb9f3a"
             ],
             [
              0.8888888888888888,
              "#fdca26"
             ],
             [
              1,
              "#f0f921"
             ]
            ],
            "type": "heatmap"
           }
          ],
          "heatmapgl": [
           {
            "colorbar": {
             "outlinewidth": 0,
             "ticks": ""
            },
            "colorscale": [
             [
              0,
              "#0d0887"
             ],
             [
              0.1111111111111111,
              "#46039f"
             ],
             [
              0.2222222222222222,
              "#7201a8"
             ],
             [
              0.3333333333333333,
              "#9c179e"
             ],
             [
              0.4444444444444444,
              "#bd3786"
             ],
             [
              0.5555555555555556,
              "#d8576b"
             ],
             [
              0.6666666666666666,
              "#ed7953"
             ],
             [
              0.7777777777777778,
              "#fb9f3a"
             ],
             [
              0.8888888888888888,
              "#fdca26"
             ],
             [
              1,
              "#f0f921"
             ]
            ],
            "type": "heatmapgl"
           }
          ],
          "histogram": [
           {
            "marker": {
             "pattern": {
              "fillmode": "overlay",
              "size": 10,
              "solidity": 0.2
             }
            },
            "type": "histogram"
           }
          ],
          "histogram2d": [
           {
            "colorbar": {
             "outlinewidth": 0,
             "ticks": ""
            },
            "colorscale": [
             [
              0,
              "#0d0887"
             ],
             [
              0.1111111111111111,
              "#46039f"
             ],
             [
              0.2222222222222222,
              "#7201a8"
             ],
             [
              0.3333333333333333,
              "#9c179e"
             ],
             [
              0.4444444444444444,
              "#bd3786"
             ],
             [
              0.5555555555555556,
              "#d8576b"
             ],
             [
              0.6666666666666666,
              "#ed7953"
             ],
             [
              0.7777777777777778,
              "#fb9f3a"
             ],
             [
              0.8888888888888888,
              "#fdca26"
             ],
             [
              1,
              "#f0f921"
             ]
            ],
            "type": "histogram2d"
           }
          ],
          "histogram2dcontour": [
           {
            "colorbar": {
             "outlinewidth": 0,
             "ticks": ""
            },
            "colorscale": [
             [
              0,
              "#0d0887"
             ],
             [
              0.1111111111111111,
              "#46039f"
             ],
             [
              0.2222222222222222,
              "#7201a8"
             ],
             [
              0.3333333333333333,
              "#9c179e"
             ],
             [
              0.4444444444444444,
              "#bd3786"
             ],
             [
              0.5555555555555556,
              "#d8576b"
             ],
             [
              0.6666666666666666,
              "#ed7953"
             ],
             [
              0.7777777777777778,
              "#fb9f3a"
             ],
             [
              0.8888888888888888,
              "#fdca26"
             ],
             [
              1,
              "#f0f921"
             ]
            ],
            "type": "histogram2dcontour"
           }
          ],
          "mesh3d": [
           {
            "colorbar": {
             "outlinewidth": 0,
             "ticks": ""
            },
            "type": "mesh3d"
           }
          ],
          "parcoords": [
           {
            "line": {
             "colorbar": {
              "outlinewidth": 0,
              "ticks": ""
             }
            },
            "type": "parcoords"
           }
          ],
          "pie": [
           {
            "automargin": true,
            "type": "pie"
           }
          ],
          "scatter": [
           {
            "marker": {
             "line": {
              "color": "#283442"
             }
            },
            "type": "scatter"
           }
          ],
          "scatter3d": [
           {
            "line": {
             "colorbar": {
              "outlinewidth": 0,
              "ticks": ""
             }
            },
            "marker": {
             "colorbar": {
              "outlinewidth": 0,
              "ticks": ""
             }
            },
            "type": "scatter3d"
           }
          ],
          "scattercarpet": [
           {
            "marker": {
             "colorbar": {
              "outlinewidth": 0,
              "ticks": ""
             }
            },
            "type": "scattercarpet"
           }
          ],
          "scattergeo": [
           {
            "marker": {
             "colorbar": {
              "outlinewidth": 0,
              "ticks": ""
             }
            },
            "type": "scattergeo"
           }
          ],
          "scattergl": [
           {
            "marker": {
             "line": {
              "color": "#283442"
             }
            },
            "type": "scattergl"
           }
          ],
          "scattermapbox": [
           {
            "marker": {
             "colorbar": {
              "outlinewidth": 0,
              "ticks": ""
             }
            },
            "type": "scattermapbox"
           }
          ],
          "scatterpolar": [
           {
            "marker": {
             "colorbar": {
              "outlinewidth": 0,
              "ticks": ""
             }
            },
            "type": "scatterpolar"
           }
          ],
          "scatterpolargl": [
           {
            "marker": {
             "colorbar": {
              "outlinewidth": 0,
              "ticks": ""
             }
            },
            "type": "scatterpolargl"
           }
          ],
          "scatterternary": [
           {
            "marker": {
             "colorbar": {
              "outlinewidth": 0,
              "ticks": ""
             }
            },
            "type": "scatterternary"
           }
          ],
          "surface": [
           {
            "colorbar": {
             "outlinewidth": 0,
             "ticks": ""
            },
            "colorscale": [
             [
              0,
              "#0d0887"
             ],
             [
              0.1111111111111111,
              "#46039f"
             ],
             [
              0.2222222222222222,
              "#7201a8"
             ],
             [
              0.3333333333333333,
              "#9c179e"
             ],
             [
              0.4444444444444444,
              "#bd3786"
             ],
             [
              0.5555555555555556,
              "#d8576b"
             ],
             [
              0.6666666666666666,
              "#ed7953"
             ],
             [
              0.7777777777777778,
              "#fb9f3a"
             ],
             [
              0.8888888888888888,
              "#fdca26"
             ],
             [
              1,
              "#f0f921"
             ]
            ],
            "type": "surface"
           }
          ],
          "table": [
           {
            "cells": {
             "fill": {
              "color": "#506784"
             },
             "line": {
              "color": "rgb(17,17,17)"
             }
            },
            "header": {
             "fill": {
              "color": "#2a3f5f"
             },
             "line": {
              "color": "rgb(17,17,17)"
             }
            },
            "type": "table"
           }
          ]
         },
         "layout": {
          "annotationdefaults": {
           "arrowcolor": "#f2f5fa",
           "arrowhead": 0,
           "arrowwidth": 1
          },
          "autotypenumbers": "strict",
          "coloraxis": {
           "colorbar": {
            "outlinewidth": 0,
            "ticks": ""
           }
          },
          "colorscale": {
           "diverging": [
            [
             0,
             "#8e0152"
            ],
            [
             0.1,
             "#c51b7d"
            ],
            [
             0.2,
             "#de77ae"
            ],
            [
             0.3,
             "#f1b6da"
            ],
            [
             0.4,
             "#fde0ef"
            ],
            [
             0.5,
             "#f7f7f7"
            ],
            [
             0.6,
             "#e6f5d0"
            ],
            [
             0.7,
             "#b8e186"
            ],
            [
             0.8,
             "#7fbc41"
            ],
            [
             0.9,
             "#4d9221"
            ],
            [
             1,
             "#276419"
            ]
           ],
           "sequential": [
            [
             0,
             "#0d0887"
            ],
            [
             0.1111111111111111,
             "#46039f"
            ],
            [
             0.2222222222222222,
             "#7201a8"
            ],
            [
             0.3333333333333333,
             "#9c179e"
            ],
            [
             0.4444444444444444,
             "#bd3786"
            ],
            [
             0.5555555555555556,
             "#d8576b"
            ],
            [
             0.6666666666666666,
             "#ed7953"
            ],
            [
             0.7777777777777778,
             "#fb9f3a"
            ],
            [
             0.8888888888888888,
             "#fdca26"
            ],
            [
             1,
             "#f0f921"
            ]
           ],
           "sequentialminus": [
            [
             0,
             "#0d0887"
            ],
            [
             0.1111111111111111,
             "#46039f"
            ],
            [
             0.2222222222222222,
             "#7201a8"
            ],
            [
             0.3333333333333333,
             "#9c179e"
            ],
            [
             0.4444444444444444,
             "#bd3786"
            ],
            [
             0.5555555555555556,
             "#d8576b"
            ],
            [
             0.6666666666666666,
             "#ed7953"
            ],
            [
             0.7777777777777778,
             "#fb9f3a"
            ],
            [
             0.8888888888888888,
             "#fdca26"
            ],
            [
             1,
             "#f0f921"
            ]
           ]
          },
          "colorway": [
           "#636efa",
           "#EF553B",
           "#00cc96",
           "#ab63fa",
           "#FFA15A",
           "#19d3f3",
           "#FF6692",
           "#B6E880",
           "#FF97FF",
           "#FECB52"
          ],
          "font": {
           "color": "#f2f5fa"
          },
          "geo": {
           "bgcolor": "rgb(17,17,17)",
           "lakecolor": "rgb(17,17,17)",
           "landcolor": "rgb(17,17,17)",
           "showlakes": true,
           "showland": true,
           "subunitcolor": "#506784"
          },
          "hoverlabel": {
           "align": "left"
          },
          "hovermode": "closest",
          "mapbox": {
           "style": "dark"
          },
          "paper_bgcolor": "rgb(17,17,17)",
          "plot_bgcolor": "rgb(17,17,17)",
          "polar": {
           "angularaxis": {
            "gridcolor": "#506784",
            "linecolor": "#506784",
            "ticks": ""
           },
           "bgcolor": "rgb(17,17,17)",
           "radialaxis": {
            "gridcolor": "#506784",
            "linecolor": "#506784",
            "ticks": ""
           }
          },
          "scene": {
           "xaxis": {
            "backgroundcolor": "rgb(17,17,17)",
            "gridcolor": "#506784",
            "gridwidth": 2,
            "linecolor": "#506784",
            "showbackground": true,
            "ticks": "",
            "zerolinecolor": "#C8D4E3"
           },
           "yaxis": {
            "backgroundcolor": "rgb(17,17,17)",
            "gridcolor": "#506784",
            "gridwidth": 2,
            "linecolor": "#506784",
            "showbackground": true,
            "ticks": "",
            "zerolinecolor": "#C8D4E3"
           },
           "zaxis": {
            "backgroundcolor": "rgb(17,17,17)",
            "gridcolor": "#506784",
            "gridwidth": 2,
            "linecolor": "#506784",
            "showbackground": true,
            "ticks": "",
            "zerolinecolor": "#C8D4E3"
           }
          },
          "shapedefaults": {
           "line": {
            "color": "#f2f5fa"
           }
          },
          "sliderdefaults": {
           "bgcolor": "#C8D4E3",
           "bordercolor": "rgb(17,17,17)",
           "borderwidth": 1,
           "tickwidth": 0
          },
          "ternary": {
           "aaxis": {
            "gridcolor": "#506784",
            "linecolor": "#506784",
            "ticks": ""
           },
           "baxis": {
            "gridcolor": "#506784",
            "linecolor": "#506784",
            "ticks": ""
           },
           "bgcolor": "rgb(17,17,17)",
           "caxis": {
            "gridcolor": "#506784",
            "linecolor": "#506784",
            "ticks": ""
           }
          },
          "title": {
           "x": 0.05
          },
          "updatemenudefaults": {
           "bgcolor": "#506784",
           "borderwidth": 0
          },
          "xaxis": {
           "automargin": true,
           "gridcolor": "#283442",
           "linecolor": "#506784",
           "ticks": "",
           "title": {
            "standoff": 15
           },
           "zerolinecolor": "#283442",
           "zerolinewidth": 2
          },
          "yaxis": {
           "automargin": true,
           "gridcolor": "#283442",
           "linecolor": "#506784",
           "ticks": "",
           "title": {
            "standoff": 15
           },
           "zerolinecolor": "#283442",
           "zerolinewidth": 2
          }
         }
        },
        "title": {
         "text": "Energy Usage Across Labs"
        },
        "xaxis": {
         "anchor": "y",
         "domain": [
          0,
          1
         ],
         "title": {
          "text": "Labs"
         }
        },
        "yaxis": {
         "anchor": "x",
         "domain": [
          0,
          1
         ],
         "title": {
          "text": "Energy"
         }
        }
       }
      },
      "text/html": [
       "<div>                            <div id=\"e296512f-a282-4286-90d3-5fc29a15d558\" class=\"plotly-graph-div\" style=\"height:525px; width:100%;\"></div>            <script type=\"text/javascript\">                require([\"plotly\"], function(Plotly) {                    window.PLOTLYENV=window.PLOTLYENV || {};                                    if (document.getElementById(\"e296512f-a282-4286-90d3-5fc29a15d558\")) {                    Plotly.newPlot(                        \"e296512f-a282-4286-90d3-5fc29a15d558\",                        [{\"alignmentgroup\":\"True\",\"hovertemplate\":\"Labs=%{x}<br>Energy=%{y}<extra></extra>\",\"legendgroup\":\"\",\"marker\":{\"color\":\"#636efa\",\"pattern\":{\"shape\":\"\"}},\"name\":\"\",\"offsetgroup\":\"\",\"orientation\":\"v\",\"showlegend\":false,\"textposition\":\"auto\",\"x\":[\"403\",\"233\",\"327\",\"360b\",\"227\",\"418\",\"303\",\"309b\",\"403b\",\"367b\",\"321b\",\"221\",\"441\",\"227b\",\"253b\",\"321\",\"333b\",\"141\",\"417\",\"233b\",\"241\",\"453b\",\"257b\",\"457b\",\"217b\",\"453\",\"267b\",\"409b\",\"318\",\"421b\",\"341\",\"333\",\"327b\",\"445\",\"441b\",\"303b\",\"260\",\"421\",\"417b\",\"409\",\"309\",\"427b\",\"341b\",\"445b\",\"317b\",\"253\",\"147b\",\"155\",\"457\",\"345\",\"153b\",\"267\",\"221b\",\"153\",\"317\",\"260b\",\"367\",\"433\",\"241b\",\"160\",\"257\",\"143\",\"g54\",\"345b\",\"433b\"],\"xaxis\":\"x\",\"y\":[9295059.39651,9003410.39421,8579809.16622,8477474.857020002,8427447.11646,8335729.692450001,8295049.830330001,8135968.87296,8125693.88094,8082383.41584,8051437.221930001,7968553.63929,7931320.600950001,7872314.984280001,7834741.59636,7830482.49027,7819125.942510001,7707239.866800001,7679340.27864,7669114.87212,7659607.965840001,7626419.662770001,7605956.08764,7576341.272910001,7567544.767140001,7548012.88614,7520159.988,7477103.612610001,7461794.099340001,7408055.15748,7389466.09596,7387892.876160001,7376042.462490001,7363789.74639,7356207.98007,7267630.979430001,7236281.633490001,7197924.97233,7194559.22955,7182523.8048600005,7172186.56137,7172166.144780001,7149551.629500001,7139869.938990001,7137346.9447800005,7045954.409880001,7004518.9155,6990804.00738,6978936.84588,6949921.321260001,6884443.889370001,6873782.832180001,6840023.1497100005,6763589.40051,6670276.42932,6595423.437240001,6566241.17844,6505150.636770001,6503248.1394,6406148.84157,6002708.5149300005,5391770.35815,3898574.95149,0.0,0.0],\"yaxis\":\"y\",\"type\":\"bar\"}],                        {\"template\":{\"data\":{\"histogram2dcontour\":[{\"type\":\"histogram2dcontour\",\"colorbar\":{\"outlinewidth\":0,\"ticks\":\"\"},\"colorscale\":[[0.0,\"#0d0887\"],[0.1111111111111111,\"#46039f\"],[0.2222222222222222,\"#7201a8\"],[0.3333333333333333,\"#9c179e\"],[0.4444444444444444,\"#bd3786\"],[0.5555555555555556,\"#d8576b\"],[0.6666666666666666,\"#ed7953\"],[0.7777777777777778,\"#fb9f3a\"],[0.8888888888888888,\"#fdca26\"],[1.0,\"#f0f921\"]]}],\"choropleth\":[{\"type\":\"choropleth\",\"colorbar\":{\"outlinewidth\":0,\"ticks\":\"\"}}],\"histogram2d\":[{\"type\":\"histogram2d\",\"colorbar\":{\"outlinewidth\":0,\"ticks\":\"\"},\"colorscale\":[[0.0,\"#0d0887\"],[0.1111111111111111,\"#46039f\"],[0.2222222222222222,\"#7201a8\"],[0.3333333333333333,\"#9c179e\"],[0.4444444444444444,\"#bd3786\"],[0.5555555555555556,\"#d8576b\"],[0.6666666666666666,\"#ed7953\"],[0.7777777777777778,\"#fb9f3a\"],[0.8888888888888888,\"#fdca26\"],[1.0,\"#f0f921\"]]}],\"heatmap\":[{\"type\":\"heatmap\",\"colorbar\":{\"outlinewidth\":0,\"ticks\":\"\"},\"colorscale\":[[0.0,\"#0d0887\"],[0.1111111111111111,\"#46039f\"],[0.2222222222222222,\"#7201a8\"],[0.3333333333333333,\"#9c179e\"],[0.4444444444444444,\"#bd3786\"],[0.5555555555555556,\"#d8576b\"],[0.6666666666666666,\"#ed7953\"],[0.7777777777777778,\"#fb9f3a\"],[0.8888888888888888,\"#fdca26\"],[1.0,\"#f0f921\"]]}],\"heatmapgl\":[{\"type\":\"heatmapgl\",\"colorbar\":{\"outlinewidth\":0,\"ticks\":\"\"},\"colorscale\":[[0.0,\"#0d0887\"],[0.1111111111111111,\"#46039f\"],[0.2222222222222222,\"#7201a8\"],[0.3333333333333333,\"#9c179e\"],[0.4444444444444444,\"#bd3786\"],[0.5555555555555556,\"#d8576b\"],[0.6666666666666666,\"#ed7953\"],[0.7777777777777778,\"#fb9f3a\"],[0.8888888888888888,\"#fdca26\"],[1.0,\"#f0f921\"]]}],\"contourcarpet\":[{\"type\":\"contourcarpet\",\"colorbar\":{\"outlinewidth\":0,\"ticks\":\"\"}}],\"contour\":[{\"type\":\"contour\",\"colorbar\":{\"outlinewidth\":0,\"ticks\":\"\"},\"colorscale\":[[0.0,\"#0d0887\"],[0.1111111111111111,\"#46039f\"],[0.2222222222222222,\"#7201a8\"],[0.3333333333333333,\"#9c179e\"],[0.4444444444444444,\"#bd3786\"],[0.5555555555555556,\"#d8576b\"],[0.6666666666666666,\"#ed7953\"],[0.7777777777777778,\"#fb9f3a\"],[0.8888888888888888,\"#fdca26\"],[1.0,\"#f0f921\"]]}],\"surface\":[{\"type\":\"surface\",\"colorbar\":{\"outlinewidth\":0,\"ticks\":\"\"},\"colorscale\":[[0.0,\"#0d0887\"],[0.1111111111111111,\"#46039f\"],[0.2222222222222222,\"#7201a8\"],[0.3333333333333333,\"#9c179e\"],[0.4444444444444444,\"#bd3786\"],[0.5555555555555556,\"#d8576b\"],[0.6666666666666666,\"#ed7953\"],[0.7777777777777778,\"#fb9f3a\"],[0.8888888888888888,\"#fdca26\"],[1.0,\"#f0f921\"]]}],\"mesh3d\":[{\"type\":\"mesh3d\",\"colorbar\":{\"outlinewidth\":0,\"ticks\":\"\"}}],\"scatter\":[{\"marker\":{\"line\":{\"color\":\"#283442\"}},\"type\":\"scatter\"}],\"parcoords\":[{\"type\":\"parcoords\",\"line\":{\"colorbar\":{\"outlinewidth\":0,\"ticks\":\"\"}}}],\"scatterpolargl\":[{\"type\":\"scatterpolargl\",\"marker\":{\"colorbar\":{\"outlinewidth\":0,\"ticks\":\"\"}}}],\"bar\":[{\"error_x\":{\"color\":\"#f2f5fa\"},\"error_y\":{\"color\":\"#f2f5fa\"},\"marker\":{\"line\":{\"color\":\"rgb(17,17,17)\",\"width\":0.5},\"pattern\":{\"fillmode\":\"overlay\",\"size\":10,\"solidity\":0.2}},\"type\":\"bar\"}],\"scattergeo\":[{\"type\":\"scattergeo\",\"marker\":{\"colorbar\":{\"outlinewidth\":0,\"ticks\":\"\"}}}],\"scatterpolar\":[{\"type\":\"scatterpolar\",\"marker\":{\"colorbar\":{\"outlinewidth\":0,\"ticks\":\"\"}}}],\"histogram\":[{\"marker\":{\"pattern\":{\"fillmode\":\"overlay\",\"size\":10,\"solidity\":0.2}},\"type\":\"histogram\"}],\"scattergl\":[{\"marker\":{\"line\":{\"color\":\"#283442\"}},\"type\":\"scattergl\"}],\"scatter3d\":[{\"type\":\"scatter3d\",\"line\":{\"colorbar\":{\"outlinewidth\":0,\"ticks\":\"\"}},\"marker\":{\"colorbar\":{\"outlinewidth\":0,\"ticks\":\"\"}}}],\"scattermapbox\":[{\"type\":\"scattermapbox\",\"marker\":{\"colorbar\":{\"outlinewidth\":0,\"ticks\":\"\"}}}],\"scatterternary\":[{\"type\":\"scatterternary\",\"marker\":{\"colorbar\":{\"outlinewidth\":0,\"ticks\":\"\"}}}],\"scattercarpet\":[{\"type\":\"scattercarpet\",\"marker\":{\"colorbar\":{\"outlinewidth\":0,\"ticks\":\"\"}}}],\"carpet\":[{\"aaxis\":{\"endlinecolor\":\"#A2B1C6\",\"gridcolor\":\"#506784\",\"linecolor\":\"#506784\",\"minorgridcolor\":\"#506784\",\"startlinecolor\":\"#A2B1C6\"},\"baxis\":{\"endlinecolor\":\"#A2B1C6\",\"gridcolor\":\"#506784\",\"linecolor\":\"#506784\",\"minorgridcolor\":\"#506784\",\"startlinecolor\":\"#A2B1C6\"},\"type\":\"carpet\"}],\"table\":[{\"cells\":{\"fill\":{\"color\":\"#506784\"},\"line\":{\"color\":\"rgb(17,17,17)\"}},\"header\":{\"fill\":{\"color\":\"#2a3f5f\"},\"line\":{\"color\":\"rgb(17,17,17)\"}},\"type\":\"table\"}],\"barpolar\":[{\"marker\":{\"line\":{\"color\":\"rgb(17,17,17)\",\"width\":0.5},\"pattern\":{\"fillmode\":\"overlay\",\"size\":10,\"solidity\":0.2}},\"type\":\"barpolar\"}],\"pie\":[{\"automargin\":true,\"type\":\"pie\"}]},\"layout\":{\"autotypenumbers\":\"strict\",\"colorway\":[\"#636efa\",\"#EF553B\",\"#00cc96\",\"#ab63fa\",\"#FFA15A\",\"#19d3f3\",\"#FF6692\",\"#B6E880\",\"#FF97FF\",\"#FECB52\"],\"font\":{\"color\":\"#f2f5fa\"},\"hovermode\":\"closest\",\"hoverlabel\":{\"align\":\"left\"},\"paper_bgcolor\":\"rgb(17,17,17)\",\"plot_bgcolor\":\"rgb(17,17,17)\",\"polar\":{\"bgcolor\":\"rgb(17,17,17)\",\"angularaxis\":{\"gridcolor\":\"#506784\",\"linecolor\":\"#506784\",\"ticks\":\"\"},\"radialaxis\":{\"gridcolor\":\"#506784\",\"linecolor\":\"#506784\",\"ticks\":\"\"}},\"ternary\":{\"bgcolor\":\"rgb(17,17,17)\",\"aaxis\":{\"gridcolor\":\"#506784\",\"linecolor\":\"#506784\",\"ticks\":\"\"},\"baxis\":{\"gridcolor\":\"#506784\",\"linecolor\":\"#506784\",\"ticks\":\"\"},\"caxis\":{\"gridcolor\":\"#506784\",\"linecolor\":\"#506784\",\"ticks\":\"\"}},\"coloraxis\":{\"colorbar\":{\"outlinewidth\":0,\"ticks\":\"\"}},\"colorscale\":{\"sequential\":[[0.0,\"#0d0887\"],[0.1111111111111111,\"#46039f\"],[0.2222222222222222,\"#7201a8\"],[0.3333333333333333,\"#9c179e\"],[0.4444444444444444,\"#bd3786\"],[0.5555555555555556,\"#d8576b\"],[0.6666666666666666,\"#ed7953\"],[0.7777777777777778,\"#fb9f3a\"],[0.8888888888888888,\"#fdca26\"],[1.0,\"#f0f921\"]],\"sequentialminus\":[[0.0,\"#0d0887\"],[0.1111111111111111,\"#46039f\"],[0.2222222222222222,\"#7201a8\"],[0.3333333333333333,\"#9c179e\"],[0.4444444444444444,\"#bd3786\"],[0.5555555555555556,\"#d8576b\"],[0.6666666666666666,\"#ed7953\"],[0.7777777777777778,\"#fb9f3a\"],[0.8888888888888888,\"#fdca26\"],[1.0,\"#f0f921\"]],\"diverging\":[[0,\"#8e0152\"],[0.1,\"#c51b7d\"],[0.2,\"#de77ae\"],[0.3,\"#f1b6da\"],[0.4,\"#fde0ef\"],[0.5,\"#f7f7f7\"],[0.6,\"#e6f5d0\"],[0.7,\"#b8e186\"],[0.8,\"#7fbc41\"],[0.9,\"#4d9221\"],[1,\"#276419\"]]},\"xaxis\":{\"gridcolor\":\"#283442\",\"linecolor\":\"#506784\",\"ticks\":\"\",\"title\":{\"standoff\":15},\"zerolinecolor\":\"#283442\",\"automargin\":true,\"zerolinewidth\":2},\"yaxis\":{\"gridcolor\":\"#283442\",\"linecolor\":\"#506784\",\"ticks\":\"\",\"title\":{\"standoff\":15},\"zerolinecolor\":\"#283442\",\"automargin\":true,\"zerolinewidth\":2},\"scene\":{\"xaxis\":{\"backgroundcolor\":\"rgb(17,17,17)\",\"gridcolor\":\"#506784\",\"linecolor\":\"#506784\",\"showbackground\":true,\"ticks\":\"\",\"zerolinecolor\":\"#C8D4E3\",\"gridwidth\":2},\"yaxis\":{\"backgroundcolor\":\"rgb(17,17,17)\",\"gridcolor\":\"#506784\",\"linecolor\":\"#506784\",\"showbackground\":true,\"ticks\":\"\",\"zerolinecolor\":\"#C8D4E3\",\"gridwidth\":2},\"zaxis\":{\"backgroundcolor\":\"rgb(17,17,17)\",\"gridcolor\":\"#506784\",\"linecolor\":\"#506784\",\"showbackground\":true,\"ticks\":\"\",\"zerolinecolor\":\"#C8D4E3\",\"gridwidth\":2}},\"shapedefaults\":{\"line\":{\"color\":\"#f2f5fa\"}},\"annotationdefaults\":{\"arrowcolor\":\"#f2f5fa\",\"arrowhead\":0,\"arrowwidth\":1},\"geo\":{\"bgcolor\":\"rgb(17,17,17)\",\"landcolor\":\"rgb(17,17,17)\",\"subunitcolor\":\"#506784\",\"showland\":true,\"showlakes\":true,\"lakecolor\":\"rgb(17,17,17)\"},\"title\":{\"x\":0.05},\"updatemenudefaults\":{\"bgcolor\":\"#506784\",\"borderwidth\":0},\"sliderdefaults\":{\"bgcolor\":\"#C8D4E3\",\"borderwidth\":1,\"bordercolor\":\"rgb(17,17,17)\",\"tickwidth\":0},\"mapbox\":{\"style\":\"dark\"}}},\"xaxis\":{\"anchor\":\"y\",\"domain\":[0.0,1.0],\"title\":{\"text\":\"Labs\"}},\"yaxis\":{\"anchor\":\"x\",\"domain\":[0.0,1.0],\"title\":{\"text\":\"Energy\"}},\"legend\":{\"tracegroupgap\":0},\"title\":{\"text\":\"Energy Usage Across Labs\"},\"barmode\":\"relative\"},                        {\"responsive\": true}                    ).then(function(){\n",
       "                            \n",
       "var gd = document.getElementById('e296512f-a282-4286-90d3-5fc29a15d558');\n",
       "var x = new MutationObserver(function (mutations, observer) {{\n",
       "        var display = window.getComputedStyle(gd).display;\n",
       "        if (!display || display === 'none') {{\n",
       "            console.log([gd, 'removed!']);\n",
       "            Plotly.purge(gd);\n",
       "            observer.disconnect();\n",
       "        }}\n",
       "}});\n",
       "\n",
       "// Listen for the removal of the full notebook cells\n",
       "var notebookContainer = gd.closest('#notebook-container');\n",
       "if (notebookContainer) {{\n",
       "    x.observe(notebookContainer, {childList: true});\n",
       "}}\n",
       "\n",
       "// Listen for the clearing of the current output cell\n",
       "var outputEl = gd.closest('.output');\n",
       "if (outputEl) {{\n",
       "    x.observe(outputEl, {childList: true});\n",
       "}}\n",
       "\n",
       "                        })                };                });            </script>        </div>"
      ]
     },
     "metadata": {},
     "output_type": "display_data"
    }
   ],
   "source": [
    "#Bar Graph distribution by lab type\n",
    "\n",
    "import plotly.express as px\n",
    "#fig = px.bar(random_x, y = random_y)\n",
    "#ndf.to_csv(\"C:\\\\Users\\\\Rob\\\\Documents\\\\GitHub\\\\fume-hood-dashboard\\\\energy_december.csv\")\n",
    "names = ndf.iloc[0:]\n",
    "names\n",
    "import kaleido\n",
    "\n",
    "fig = px.bar(names, x = \"Labs\", y = \"Energy\",title=\"Energy Usage Across Labs\")\n",
    "fig.write_image(\"C:\\\\Users\\\\Rob\\\\Desktop\\\\ESW\\\\Fume\\\\energy_across_labs.png\",scale=4)\n",
    "fig.show()"
   ]
  },
  {
   "cell_type": "code",
   "execution_count": 16,
   "metadata": {
    "collapsed": false
   },
   "outputs": [],
   "source": [
    "#fume_query(target,server, start,end)\n",
    "combined = pd.read_csv('pointnames.csv')\n",
    "sash_points = combined[\"Sash\"]\n",
    "server = combined[\"Server\"]\n",
    "\n",
    "start = str(datetime(2022, 12,1))\n",
    "end = str(datetime(2022, 12,31))\n",
    "\n",
    "query_list = []\n",
    "for i in range(len(sash_points)):\n",
    "    query = fume_query(sash_points[i],server[i],start,end)\n",
    "    query_list.append(query)\n",
    "\n",
    "\n"
   ]
  },
  {
   "cell_type": "code",
   "execution_count": 22,
   "metadata": {
    "collapsed": false
   },
   "outputs": [
    {
     "data": {
      "text/html": [
       "<div>\n",
       "<style scoped>\n",
       "    .dataframe tbody tr th:only-of-type {\n",
       "        vertical-align: middle;\n",
       "    }\n",
       "\n",
       "    .dataframe tbody tr th {\n",
       "        vertical-align: top;\n",
       "    }\n",
       "\n",
       "    .dataframe thead th {\n",
       "        text-align: right;\n",
       "    }\n",
       "</style>\n",
       "<table border=\"1\" class=\"dataframe\">\n",
       "  <thead>\n",
       "    <tr style=\"text-align: right;\">\n",
       "      <th></th>\n",
       "      <th>Labs</th>\n",
       "      <th>Average Sash Inches Open</th>\n",
       "    </tr>\n",
       "  </thead>\n",
       "  <tbody>\n",
       "    <tr>\n",
       "      <th>42</th>\n",
       "      <td>360</td>\n",
       "      <td>6.748583</td>\n",
       "    </tr>\n",
       "    <tr>\n",
       "      <th>0</th>\n",
       "      <td>g54</td>\n",
       "      <td>6.023697</td>\n",
       "    </tr>\n",
       "    <tr>\n",
       "      <th>62</th>\n",
       "      <td>453</td>\n",
       "      <td>4.702554</td>\n",
       "    </tr>\n",
       "    <tr>\n",
       "      <th>47</th>\n",
       "      <td>403b</td>\n",
       "      <td>4.302890</td>\n",
       "    </tr>\n",
       "    <tr>\n",
       "      <th>17</th>\n",
       "      <td>253</td>\n",
       "      <td>4.222099</td>\n",
       "    </tr>\n",
       "    <tr>\n",
       "      <th>...</th>\n",
       "      <td>...</td>\n",
       "      <td>...</td>\n",
       "    </tr>\n",
       "    <tr>\n",
       "      <th>49</th>\n",
       "      <td>409b</td>\n",
       "      <td>0.955847</td>\n",
       "    </tr>\n",
       "    <tr>\n",
       "      <th>52</th>\n",
       "      <td>418</td>\n",
       "      <td>0.939240</td>\n",
       "    </tr>\n",
       "    <tr>\n",
       "      <th>15</th>\n",
       "      <td>241</td>\n",
       "      <td>0.929983</td>\n",
       "    </tr>\n",
       "    <tr>\n",
       "      <th>31</th>\n",
       "      <td>318</td>\n",
       "      <td>0.900370</td>\n",
       "    </tr>\n",
       "    <tr>\n",
       "      <th>7</th>\n",
       "      <td>160</td>\n",
       "      <td>0.449210</td>\n",
       "    </tr>\n",
       "  </tbody>\n",
       "</table>\n",
       "<p>63 rows × 2 columns</p>\n",
       "</div>"
      ],
      "text/plain": [
       "    Labs  Average Sash Inches Open\n",
       "42   360                  6.748583\n",
       "0    g54                  6.023697\n",
       "62   453                  4.702554\n",
       "47  403b                  4.302890\n",
       "17   253                  4.222099\n",
       "..   ...                       ...\n",
       "49  409b                  0.955847\n",
       "52   418                  0.939240\n",
       "15   241                  0.929983\n",
       "31   318                  0.900370\n",
       "7    160                  0.449210\n",
       "\n",
       "[63 rows x 2 columns]"
      ]
     },
     "metadata": {},
     "output_type": "display_data"
    },
    {
     "data": {
      "application/vnd.plotly.v1+json": {
       "config": {
        "plotlyServerURL": "https://plot.ly"
       },
       "data": [
        {
         "alignmentgroup": "True",
         "hovertemplate": "Labs=%{x}<br>Average Sash Inches Open=%{y}<extra></extra>",
         "legendgroup": "",
         "marker": {
          "color": "#636efa",
          "pattern": {
           "shape": ""
          }
         },
         "name": "",
         "offsetgroup": "",
         "orientation": "v",
         "showlegend": false,
         "textposition": "auto",
         "type": "bar",
         "x": [
          "360",
          "g54",
          "453",
          "403b",
          "253",
          "147b",
          "453b",
          "267",
          "445b",
          "327",
          "267b",
          "303",
          "341b",
          "457b",
          "155",
          "457",
          "153b",
          "367",
          "327b",
          "153",
          "143",
          "441",
          "309b",
          "403",
          "260b",
          "141",
          "260",
          "309",
          "227",
          "333b",
          "227b",
          "233",
          "303b",
          "321b",
          "445",
          "253b",
          "321",
          "221",
          "341",
          "360b",
          "257b",
          "433",
          "421b",
          "345",
          "427b",
          "241b",
          "233b",
          "417",
          "333",
          "441b",
          "367b",
          "257",
          "317",
          "221b",
          "217b",
          "417b",
          "421",
          "317b",
          "409b",
          "418",
          "241",
          "318",
          "160"
         ],
         "xaxis": "x",
         "y": [
          6.748582950599306,
          6.023697478991597,
          4.702553763440861,
          4.3028897849462355,
          4.22209889001009,
          3.7516812373907196,
          3.552553763440861,
          3.513743279569893,
          3.5111559139784947,
          3.5076276881720427,
          3.1520833333333327,
          3.0670662036518426,
          2.9721438172043007,
          2.836290322580645,
          2.7376933422999326,
          2.6947899159663864,
          2.510427177934746,
          2.501479488903833,
          2.4493279569892468,
          2.4281533804238147,
          2.3149344096871847,
          2.1496806722689077,
          2.0391055817081374,
          2.011260504201681,
          2.007966386554622,
          1.9891764705882353,
          1.96817876344086,
          1.938655462184874,
          1.856619623655914,
          1.7665658602150542,
          1.7486213853396098,
          1.730720053835801,
          1.6757589335723087,
          1.585171486213853,
          1.5350134408602147,
          1.5107862903225804,
          1.4407531943510428,
          1.4025537634408602,
          1.3796974789915968,
          1.3748150638870207,
          1.3566868279569892,
          1.3317540322580643,
          1.3112605042016807,
          1.3063550773369201,
          1.282655462184874,
          1.2805312710154675,
          1.2560860793544046,
          1.2465030262273031,
          1.2140120967741934,
          1.2079999999999997,
          1.1775462184873948,
          1.1642809139784944,
          1.133064516129032,
          1.1116835016835016,
          1.0342521008403363,
          1.0013449899125757,
          0.9882689075630253,
          0.9613651647612644,
          0.9558467741935485,
          0.9392400806993948,
          0.929983193277311,
          0.9003697478991598,
          0.4492100840336134
         ],
         "yaxis": "y"
        }
       ],
       "layout": {
        "barmode": "relative",
        "legend": {
         "tracegroupgap": 0
        },
        "template": {
         "data": {
          "bar": [
           {
            "error_x": {
             "color": "#f2f5fa"
            },
            "error_y": {
             "color": "#f2f5fa"
            },
            "marker": {
             "line": {
              "color": "rgb(17,17,17)",
              "width": 0.5
             },
             "pattern": {
              "fillmode": "overlay",
              "size": 10,
              "solidity": 0.2
             }
            },
            "type": "bar"
           }
          ],
          "barpolar": [
           {
            "marker": {
             "line": {
              "color": "rgb(17,17,17)",
              "width": 0.5
             },
             "pattern": {
              "fillmode": "overlay",
              "size": 10,
              "solidity": 0.2
             }
            },
            "type": "barpolar"
           }
          ],
          "carpet": [
           {
            "aaxis": {
             "endlinecolor": "#A2B1C6",
             "gridcolor": "#506784",
             "linecolor": "#506784",
             "minorgridcolor": "#506784",
             "startlinecolor": "#A2B1C6"
            },
            "baxis": {
             "endlinecolor": "#A2B1C6",
             "gridcolor": "#506784",
             "linecolor": "#506784",
             "minorgridcolor": "#506784",
             "startlinecolor": "#A2B1C6"
            },
            "type": "carpet"
           }
          ],
          "choropleth": [
           {
            "colorbar": {
             "outlinewidth": 0,
             "ticks": ""
            },
            "type": "choropleth"
           }
          ],
          "contour": [
           {
            "colorbar": {
             "outlinewidth": 0,
             "ticks": ""
            },
            "colorscale": [
             [
              0,
              "#0d0887"
             ],
             [
              0.1111111111111111,
              "#46039f"
             ],
             [
              0.2222222222222222,
              "#7201a8"
             ],
             [
              0.3333333333333333,
              "#9c179e"
             ],
             [
              0.4444444444444444,
              "#bd3786"
             ],
             [
              0.5555555555555556,
              "#d8576b"
             ],
             [
              0.6666666666666666,
              "#ed7953"
             ],
             [
              0.7777777777777778,
              "#fb9f3a"
             ],
             [
              0.8888888888888888,
              "#fdca26"
             ],
             [
              1,
              "#f0f921"
             ]
            ],
            "type": "contour"
           }
          ],
          "contourcarpet": [
           {
            "colorbar": {
             "outlinewidth": 0,
             "ticks": ""
            },
            "type": "contourcarpet"
           }
          ],
          "heatmap": [
           {
            "colorbar": {
             "outlinewidth": 0,
             "ticks": ""
            },
            "colorscale": [
             [
              0,
              "#0d0887"
             ],
             [
              0.1111111111111111,
              "#46039f"
             ],
             [
              0.2222222222222222,
              "#7201a8"
             ],
             [
              0.3333333333333333,
              "#9c179e"
             ],
             [
              0.4444444444444444,
              "#bd3786"
             ],
             [
              0.5555555555555556,
              "#d8576b"
             ],
             [
              0.6666666666666666,
              "#ed7953"
             ],
             [
              0.7777777777777778,
              "#fb9f3a"
             ],
             [
              0.8888888888888888,
              "#fdca26"
             ],
             [
              1,
              "#f0f921"
             ]
            ],
            "type": "heatmap"
           }
          ],
          "heatmapgl": [
           {
            "colorbar": {
             "outlinewidth": 0,
             "ticks": ""
            },
            "colorscale": [
             [
              0,
              "#0d0887"
             ],
             [
              0.1111111111111111,
              "#46039f"
             ],
             [
              0.2222222222222222,
              "#7201a8"
             ],
             [
              0.3333333333333333,
              "#9c179e"
             ],
             [
              0.4444444444444444,
              "#bd3786"
             ],
             [
              0.5555555555555556,
              "#d8576b"
             ],
             [
              0.6666666666666666,
              "#ed7953"
             ],
             [
              0.7777777777777778,
              "#fb9f3a"
             ],
             [
              0.8888888888888888,
              "#fdca26"
             ],
             [
              1,
              "#f0f921"
             ]
            ],
            "type": "heatmapgl"
           }
          ],
          "histogram": [
           {
            "marker": {
             "pattern": {
              "fillmode": "overlay",
              "size": 10,
              "solidity": 0.2
             }
            },
            "type": "histogram"
           }
          ],
          "histogram2d": [
           {
            "colorbar": {
             "outlinewidth": 0,
             "ticks": ""
            },
            "colorscale": [
             [
              0,
              "#0d0887"
             ],
             [
              0.1111111111111111,
              "#46039f"
             ],
             [
              0.2222222222222222,
              "#7201a8"
             ],
             [
              0.3333333333333333,
              "#9c179e"
             ],
             [
              0.4444444444444444,
              "#bd3786"
             ],
             [
              0.5555555555555556,
              "#d8576b"
             ],
             [
              0.6666666666666666,
              "#ed7953"
             ],
             [
              0.7777777777777778,
              "#fb9f3a"
             ],
             [
              0.8888888888888888,
              "#fdca26"
             ],
             [
              1,
              "#f0f921"
             ]
            ],
            "type": "histogram2d"
           }
          ],
          "histogram2dcontour": [
           {
            "colorbar": {
             "outlinewidth": 0,
             "ticks": ""
            },
            "colorscale": [
             [
              0,
              "#0d0887"
             ],
             [
              0.1111111111111111,
              "#46039f"
             ],
             [
              0.2222222222222222,
              "#7201a8"
             ],
             [
              0.3333333333333333,
              "#9c179e"
             ],
             [
              0.4444444444444444,
              "#bd3786"
             ],
             [
              0.5555555555555556,
              "#d8576b"
             ],
             [
              0.6666666666666666,
              "#ed7953"
             ],
             [
              0.7777777777777778,
              "#fb9f3a"
             ],
             [
              0.8888888888888888,
              "#fdca26"
             ],
             [
              1,
              "#f0f921"
             ]
            ],
            "type": "histogram2dcontour"
           }
          ],
          "mesh3d": [
           {
            "colorbar": {
             "outlinewidth": 0,
             "ticks": ""
            },
            "type": "mesh3d"
           }
          ],
          "parcoords": [
           {
            "line": {
             "colorbar": {
              "outlinewidth": 0,
              "ticks": ""
             }
            },
            "type": "parcoords"
           }
          ],
          "pie": [
           {
            "automargin": true,
            "type": "pie"
           }
          ],
          "scatter": [
           {
            "marker": {
             "line": {
              "color": "#283442"
             }
            },
            "type": "scatter"
           }
          ],
          "scatter3d": [
           {
            "line": {
             "colorbar": {
              "outlinewidth": 0,
              "ticks": ""
             }
            },
            "marker": {
             "colorbar": {
              "outlinewidth": 0,
              "ticks": ""
             }
            },
            "type": "scatter3d"
           }
          ],
          "scattercarpet": [
           {
            "marker": {
             "colorbar": {
              "outlinewidth": 0,
              "ticks": ""
             }
            },
            "type": "scattercarpet"
           }
          ],
          "scattergeo": [
           {
            "marker": {
             "colorbar": {
              "outlinewidth": 0,
              "ticks": ""
             }
            },
            "type": "scattergeo"
           }
          ],
          "scattergl": [
           {
            "marker": {
             "line": {
              "color": "#283442"
             }
            },
            "type": "scattergl"
           }
          ],
          "scattermapbox": [
           {
            "marker": {
             "colorbar": {
              "outlinewidth": 0,
              "ticks": ""
             }
            },
            "type": "scattermapbox"
           }
          ],
          "scatterpolar": [
           {
            "marker": {
             "colorbar": {
              "outlinewidth": 0,
              "ticks": ""
             }
            },
            "type": "scatterpolar"
           }
          ],
          "scatterpolargl": [
           {
            "marker": {
             "colorbar": {
              "outlinewidth": 0,
              "ticks": ""
             }
            },
            "type": "scatterpolargl"
           }
          ],
          "scatterternary": [
           {
            "marker": {
             "colorbar": {
              "outlinewidth": 0,
              "ticks": ""
             }
            },
            "type": "scatterternary"
           }
          ],
          "surface": [
           {
            "colorbar": {
             "outlinewidth": 0,
             "ticks": ""
            },
            "colorscale": [
             [
              0,
              "#0d0887"
             ],
             [
              0.1111111111111111,
              "#46039f"
             ],
             [
              0.2222222222222222,
              "#7201a8"
             ],
             [
              0.3333333333333333,
              "#9c179e"
             ],
             [
              0.4444444444444444,
              "#bd3786"
             ],
             [
              0.5555555555555556,
              "#d8576b"
             ],
             [
              0.6666666666666666,
              "#ed7953"
             ],
             [
              0.7777777777777778,
              "#fb9f3a"
             ],
             [
              0.8888888888888888,
              "#fdca26"
             ],
             [
              1,
              "#f0f921"
             ]
            ],
            "type": "surface"
           }
          ],
          "table": [
           {
            "cells": {
             "fill": {
              "color": "#506784"
             },
             "line": {
              "color": "rgb(17,17,17)"
             }
            },
            "header": {
             "fill": {
              "color": "#2a3f5f"
             },
             "line": {
              "color": "rgb(17,17,17)"
             }
            },
            "type": "table"
           }
          ]
         },
         "layout": {
          "annotationdefaults": {
           "arrowcolor": "#f2f5fa",
           "arrowhead": 0,
           "arrowwidth": 1
          },
          "autotypenumbers": "strict",
          "coloraxis": {
           "colorbar": {
            "outlinewidth": 0,
            "ticks": ""
           }
          },
          "colorscale": {
           "diverging": [
            [
             0,
             "#8e0152"
            ],
            [
             0.1,
             "#c51b7d"
            ],
            [
             0.2,
             "#de77ae"
            ],
            [
             0.3,
             "#f1b6da"
            ],
            [
             0.4,
             "#fde0ef"
            ],
            [
             0.5,
             "#f7f7f7"
            ],
            [
             0.6,
             "#e6f5d0"
            ],
            [
             0.7,
             "#b8e186"
            ],
            [
             0.8,
             "#7fbc41"
            ],
            [
             0.9,
             "#4d9221"
            ],
            [
             1,
             "#276419"
            ]
           ],
           "sequential": [
            [
             0,
             "#0d0887"
            ],
            [
             0.1111111111111111,
             "#46039f"
            ],
            [
             0.2222222222222222,
             "#7201a8"
            ],
            [
             0.3333333333333333,
             "#9c179e"
            ],
            [
             0.4444444444444444,
             "#bd3786"
            ],
            [
             0.5555555555555556,
             "#d8576b"
            ],
            [
             0.6666666666666666,
             "#ed7953"
            ],
            [
             0.7777777777777778,
             "#fb9f3a"
            ],
            [
             0.8888888888888888,
             "#fdca26"
            ],
            [
             1,
             "#f0f921"
            ]
           ],
           "sequentialminus": [
            [
             0,
             "#0d0887"
            ],
            [
             0.1111111111111111,
             "#46039f"
            ],
            [
             0.2222222222222222,
             "#7201a8"
            ],
            [
             0.3333333333333333,
             "#9c179e"
            ],
            [
             0.4444444444444444,
             "#bd3786"
            ],
            [
             0.5555555555555556,
             "#d8576b"
            ],
            [
             0.6666666666666666,
             "#ed7953"
            ],
            [
             0.7777777777777778,
             "#fb9f3a"
            ],
            [
             0.8888888888888888,
             "#fdca26"
            ],
            [
             1,
             "#f0f921"
            ]
           ]
          },
          "colorway": [
           "#636efa",
           "#EF553B",
           "#00cc96",
           "#ab63fa",
           "#FFA15A",
           "#19d3f3",
           "#FF6692",
           "#B6E880",
           "#FF97FF",
           "#FECB52"
          ],
          "font": {
           "color": "#f2f5fa"
          },
          "geo": {
           "bgcolor": "rgb(17,17,17)",
           "lakecolor": "rgb(17,17,17)",
           "landcolor": "rgb(17,17,17)",
           "showlakes": true,
           "showland": true,
           "subunitcolor": "#506784"
          },
          "hoverlabel": {
           "align": "left"
          },
          "hovermode": "closest",
          "mapbox": {
           "style": "dark"
          },
          "paper_bgcolor": "rgb(17,17,17)",
          "plot_bgcolor": "rgb(17,17,17)",
          "polar": {
           "angularaxis": {
            "gridcolor": "#506784",
            "linecolor": "#506784",
            "ticks": ""
           },
           "bgcolor": "rgb(17,17,17)",
           "radialaxis": {
            "gridcolor": "#506784",
            "linecolor": "#506784",
            "ticks": ""
           }
          },
          "scene": {
           "xaxis": {
            "backgroundcolor": "rgb(17,17,17)",
            "gridcolor": "#506784",
            "gridwidth": 2,
            "linecolor": "#506784",
            "showbackground": true,
            "ticks": "",
            "zerolinecolor": "#C8D4E3"
           },
           "yaxis": {
            "backgroundcolor": "rgb(17,17,17)",
            "gridcolor": "#506784",
            "gridwidth": 2,
            "linecolor": "#506784",
            "showbackground": true,
            "ticks": "",
            "zerolinecolor": "#C8D4E3"
           },
           "zaxis": {
            "backgroundcolor": "rgb(17,17,17)",
            "gridcolor": "#506784",
            "gridwidth": 2,
            "linecolor": "#506784",
            "showbackground": true,
            "ticks": "",
            "zerolinecolor": "#C8D4E3"
           }
          },
          "shapedefaults": {
           "line": {
            "color": "#f2f5fa"
           }
          },
          "sliderdefaults": {
           "bgcolor": "#C8D4E3",
           "bordercolor": "rgb(17,17,17)",
           "borderwidth": 1,
           "tickwidth": 0
          },
          "ternary": {
           "aaxis": {
            "gridcolor": "#506784",
            "linecolor": "#506784",
            "ticks": ""
           },
           "baxis": {
            "gridcolor": "#506784",
            "linecolor": "#506784",
            "ticks": ""
           },
           "bgcolor": "rgb(17,17,17)",
           "caxis": {
            "gridcolor": "#506784",
            "linecolor": "#506784",
            "ticks": ""
           }
          },
          "title": {
           "x": 0.05
          },
          "updatemenudefaults": {
           "bgcolor": "#506784",
           "borderwidth": 0
          },
          "xaxis": {
           "automargin": true,
           "gridcolor": "#283442",
           "linecolor": "#506784",
           "ticks": "",
           "title": {
            "standoff": 15
           },
           "zerolinecolor": "#283442",
           "zerolinewidth": 2
          },
          "yaxis": {
           "automargin": true,
           "gridcolor": "#283442",
           "linecolor": "#506784",
           "ticks": "",
           "title": {
            "standoff": 15
           },
           "zerolinecolor": "#283442",
           "zerolinewidth": 2
          }
         }
        },
        "title": {
         "text": "How Open Are Fume Hoods on Average in Biotech?"
        },
        "xaxis": {
         "anchor": "y",
         "domain": [
          0,
          1
         ],
         "title": {
          "text": "Labs"
         }
        },
        "yaxis": {
         "anchor": "x",
         "domain": [
          0,
          1
         ],
         "title": {
          "text": "Average Sash Inches Open"
         }
        }
       }
      },
      "text/html": [
       "<div>                            <div id=\"7a789a53-9dc8-4b35-9616-62334f218855\" class=\"plotly-graph-div\" style=\"height:525px; width:100%;\"></div>            <script type=\"text/javascript\">                require([\"plotly\"], function(Plotly) {                    window.PLOTLYENV=window.PLOTLYENV || {};                                    if (document.getElementById(\"7a789a53-9dc8-4b35-9616-62334f218855\")) {                    Plotly.newPlot(                        \"7a789a53-9dc8-4b35-9616-62334f218855\",                        [{\"alignmentgroup\":\"True\",\"hovertemplate\":\"Labs=%{x}<br>Average Sash Inches Open=%{y}<extra></extra>\",\"legendgroup\":\"\",\"marker\":{\"color\":\"#636efa\",\"pattern\":{\"shape\":\"\"}},\"name\":\"\",\"offsetgroup\":\"\",\"orientation\":\"v\",\"showlegend\":false,\"textposition\":\"auto\",\"x\":[\"360\",\"g54\",\"453\",\"403b\",\"253\",\"147b\",\"453b\",\"267\",\"445b\",\"327\",\"267b\",\"303\",\"341b\",\"457b\",\"155\",\"457\",\"153b\",\"367\",\"327b\",\"153\",\"143\",\"441\",\"309b\",\"403\",\"260b\",\"141\",\"260\",\"309\",\"227\",\"333b\",\"227b\",\"233\",\"303b\",\"321b\",\"445\",\"253b\",\"321\",\"221\",\"341\",\"360b\",\"257b\",\"433\",\"421b\",\"345\",\"427b\",\"241b\",\"233b\",\"417\",\"333\",\"441b\",\"367b\",\"257\",\"317\",\"221b\",\"217b\",\"417b\",\"421\",\"317b\",\"409b\",\"418\",\"241\",\"318\",\"160\"],\"xaxis\":\"x\",\"y\":[6.748582950599306,6.023697478991597,4.702553763440861,4.3028897849462355,4.22209889001009,3.7516812373907196,3.552553763440861,3.513743279569893,3.5111559139784947,3.5076276881720427,3.1520833333333327,3.0670662036518426,2.9721438172043007,2.836290322580645,2.7376933422999326,2.6947899159663864,2.510427177934746,2.501479488903833,2.4493279569892468,2.4281533804238147,2.3149344096871847,2.1496806722689077,2.0391055817081374,2.011260504201681,2.007966386554622,1.9891764705882353,1.96817876344086,1.938655462184874,1.856619623655914,1.7665658602150542,1.7486213853396098,1.730720053835801,1.6757589335723087,1.585171486213853,1.5350134408602147,1.5107862903225804,1.4407531943510428,1.4025537634408602,1.3796974789915968,1.3748150638870207,1.3566868279569892,1.3317540322580643,1.3112605042016807,1.3063550773369201,1.282655462184874,1.2805312710154675,1.2560860793544046,1.2465030262273031,1.2140120967741934,1.2079999999999997,1.1775462184873948,1.1642809139784944,1.133064516129032,1.1116835016835016,1.0342521008403363,1.0013449899125757,0.9882689075630253,0.9613651647612644,0.9558467741935485,0.9392400806993948,0.929983193277311,0.9003697478991598,0.4492100840336134],\"yaxis\":\"y\",\"type\":\"bar\"}],                        {\"template\":{\"data\":{\"histogram2dcontour\":[{\"type\":\"histogram2dcontour\",\"colorbar\":{\"outlinewidth\":0,\"ticks\":\"\"},\"colorscale\":[[0.0,\"#0d0887\"],[0.1111111111111111,\"#46039f\"],[0.2222222222222222,\"#7201a8\"],[0.3333333333333333,\"#9c179e\"],[0.4444444444444444,\"#bd3786\"],[0.5555555555555556,\"#d8576b\"],[0.6666666666666666,\"#ed7953\"],[0.7777777777777778,\"#fb9f3a\"],[0.8888888888888888,\"#fdca26\"],[1.0,\"#f0f921\"]]}],\"choropleth\":[{\"type\":\"choropleth\",\"colorbar\":{\"outlinewidth\":0,\"ticks\":\"\"}}],\"histogram2d\":[{\"type\":\"histogram2d\",\"colorbar\":{\"outlinewidth\":0,\"ticks\":\"\"},\"colorscale\":[[0.0,\"#0d0887\"],[0.1111111111111111,\"#46039f\"],[0.2222222222222222,\"#7201a8\"],[0.3333333333333333,\"#9c179e\"],[0.4444444444444444,\"#bd3786\"],[0.5555555555555556,\"#d8576b\"],[0.6666666666666666,\"#ed7953\"],[0.7777777777777778,\"#fb9f3a\"],[0.8888888888888888,\"#fdca26\"],[1.0,\"#f0f921\"]]}],\"heatmap\":[{\"type\":\"heatmap\",\"colorbar\":{\"outlinewidth\":0,\"ticks\":\"\"},\"colorscale\":[[0.0,\"#0d0887\"],[0.1111111111111111,\"#46039f\"],[0.2222222222222222,\"#7201a8\"],[0.3333333333333333,\"#9c179e\"],[0.4444444444444444,\"#bd3786\"],[0.5555555555555556,\"#d8576b\"],[0.6666666666666666,\"#ed7953\"],[0.7777777777777778,\"#fb9f3a\"],[0.8888888888888888,\"#fdca26\"],[1.0,\"#f0f921\"]]}],\"heatmapgl\":[{\"type\":\"heatmapgl\",\"colorbar\":{\"outlinewidth\":0,\"ticks\":\"\"},\"colorscale\":[[0.0,\"#0d0887\"],[0.1111111111111111,\"#46039f\"],[0.2222222222222222,\"#7201a8\"],[0.3333333333333333,\"#9c179e\"],[0.4444444444444444,\"#bd3786\"],[0.5555555555555556,\"#d8576b\"],[0.6666666666666666,\"#ed7953\"],[0.7777777777777778,\"#fb9f3a\"],[0.8888888888888888,\"#fdca26\"],[1.0,\"#f0f921\"]]}],\"contourcarpet\":[{\"type\":\"contourcarpet\",\"colorbar\":{\"outlinewidth\":0,\"ticks\":\"\"}}],\"contour\":[{\"type\":\"contour\",\"colorbar\":{\"outlinewidth\":0,\"ticks\":\"\"},\"colorscale\":[[0.0,\"#0d0887\"],[0.1111111111111111,\"#46039f\"],[0.2222222222222222,\"#7201a8\"],[0.3333333333333333,\"#9c179e\"],[0.4444444444444444,\"#bd3786\"],[0.5555555555555556,\"#d8576b\"],[0.6666666666666666,\"#ed7953\"],[0.7777777777777778,\"#fb9f3a\"],[0.8888888888888888,\"#fdca26\"],[1.0,\"#f0f921\"]]}],\"surface\":[{\"type\":\"surface\",\"colorbar\":{\"outlinewidth\":0,\"ticks\":\"\"},\"colorscale\":[[0.0,\"#0d0887\"],[0.1111111111111111,\"#46039f\"],[0.2222222222222222,\"#7201a8\"],[0.3333333333333333,\"#9c179e\"],[0.4444444444444444,\"#bd3786\"],[0.5555555555555556,\"#d8576b\"],[0.6666666666666666,\"#ed7953\"],[0.7777777777777778,\"#fb9f3a\"],[0.8888888888888888,\"#fdca26\"],[1.0,\"#f0f921\"]]}],\"mesh3d\":[{\"type\":\"mesh3d\",\"colorbar\":{\"outlinewidth\":0,\"ticks\":\"\"}}],\"scatter\":[{\"marker\":{\"line\":{\"color\":\"#283442\"}},\"type\":\"scatter\"}],\"parcoords\":[{\"type\":\"parcoords\",\"line\":{\"colorbar\":{\"outlinewidth\":0,\"ticks\":\"\"}}}],\"scatterpolargl\":[{\"type\":\"scatterpolargl\",\"marker\":{\"colorbar\":{\"outlinewidth\":0,\"ticks\":\"\"}}}],\"bar\":[{\"error_x\":{\"color\":\"#f2f5fa\"},\"error_y\":{\"color\":\"#f2f5fa\"},\"marker\":{\"line\":{\"color\":\"rgb(17,17,17)\",\"width\":0.5},\"pattern\":{\"fillmode\":\"overlay\",\"size\":10,\"solidity\":0.2}},\"type\":\"bar\"}],\"scattergeo\":[{\"type\":\"scattergeo\",\"marker\":{\"colorbar\":{\"outlinewidth\":0,\"ticks\":\"\"}}}],\"scatterpolar\":[{\"type\":\"scatterpolar\",\"marker\":{\"colorbar\":{\"outlinewidth\":0,\"ticks\":\"\"}}}],\"histogram\":[{\"marker\":{\"pattern\":{\"fillmode\":\"overlay\",\"size\":10,\"solidity\":0.2}},\"type\":\"histogram\"}],\"scattergl\":[{\"marker\":{\"line\":{\"color\":\"#283442\"}},\"type\":\"scattergl\"}],\"scatter3d\":[{\"type\":\"scatter3d\",\"line\":{\"colorbar\":{\"outlinewidth\":0,\"ticks\":\"\"}},\"marker\":{\"colorbar\":{\"outlinewidth\":0,\"ticks\":\"\"}}}],\"scattermapbox\":[{\"type\":\"scattermapbox\",\"marker\":{\"colorbar\":{\"outlinewidth\":0,\"ticks\":\"\"}}}],\"scatterternary\":[{\"type\":\"scatterternary\",\"marker\":{\"colorbar\":{\"outlinewidth\":0,\"ticks\":\"\"}}}],\"scattercarpet\":[{\"type\":\"scattercarpet\",\"marker\":{\"colorbar\":{\"outlinewidth\":0,\"ticks\":\"\"}}}],\"carpet\":[{\"aaxis\":{\"endlinecolor\":\"#A2B1C6\",\"gridcolor\":\"#506784\",\"linecolor\":\"#506784\",\"minorgridcolor\":\"#506784\",\"startlinecolor\":\"#A2B1C6\"},\"baxis\":{\"endlinecolor\":\"#A2B1C6\",\"gridcolor\":\"#506784\",\"linecolor\":\"#506784\",\"minorgridcolor\":\"#506784\",\"startlinecolor\":\"#A2B1C6\"},\"type\":\"carpet\"}],\"table\":[{\"cells\":{\"fill\":{\"color\":\"#506784\"},\"line\":{\"color\":\"rgb(17,17,17)\"}},\"header\":{\"fill\":{\"color\":\"#2a3f5f\"},\"line\":{\"color\":\"rgb(17,17,17)\"}},\"type\":\"table\"}],\"barpolar\":[{\"marker\":{\"line\":{\"color\":\"rgb(17,17,17)\",\"width\":0.5},\"pattern\":{\"fillmode\":\"overlay\",\"size\":10,\"solidity\":0.2}},\"type\":\"barpolar\"}],\"pie\":[{\"automargin\":true,\"type\":\"pie\"}]},\"layout\":{\"autotypenumbers\":\"strict\",\"colorway\":[\"#636efa\",\"#EF553B\",\"#00cc96\",\"#ab63fa\",\"#FFA15A\",\"#19d3f3\",\"#FF6692\",\"#B6E880\",\"#FF97FF\",\"#FECB52\"],\"font\":{\"color\":\"#f2f5fa\"},\"hovermode\":\"closest\",\"hoverlabel\":{\"align\":\"left\"},\"paper_bgcolor\":\"rgb(17,17,17)\",\"plot_bgcolor\":\"rgb(17,17,17)\",\"polar\":{\"bgcolor\":\"rgb(17,17,17)\",\"angularaxis\":{\"gridcolor\":\"#506784\",\"linecolor\":\"#506784\",\"ticks\":\"\"},\"radialaxis\":{\"gridcolor\":\"#506784\",\"linecolor\":\"#506784\",\"ticks\":\"\"}},\"ternary\":{\"bgcolor\":\"rgb(17,17,17)\",\"aaxis\":{\"gridcolor\":\"#506784\",\"linecolor\":\"#506784\",\"ticks\":\"\"},\"baxis\":{\"gridcolor\":\"#506784\",\"linecolor\":\"#506784\",\"ticks\":\"\"},\"caxis\":{\"gridcolor\":\"#506784\",\"linecolor\":\"#506784\",\"ticks\":\"\"}},\"coloraxis\":{\"colorbar\":{\"outlinewidth\":0,\"ticks\":\"\"}},\"colorscale\":{\"sequential\":[[0.0,\"#0d0887\"],[0.1111111111111111,\"#46039f\"],[0.2222222222222222,\"#7201a8\"],[0.3333333333333333,\"#9c179e\"],[0.4444444444444444,\"#bd3786\"],[0.5555555555555556,\"#d8576b\"],[0.6666666666666666,\"#ed7953\"],[0.7777777777777778,\"#fb9f3a\"],[0.8888888888888888,\"#fdca26\"],[1.0,\"#f0f921\"]],\"sequentialminus\":[[0.0,\"#0d0887\"],[0.1111111111111111,\"#46039f\"],[0.2222222222222222,\"#7201a8\"],[0.3333333333333333,\"#9c179e\"],[0.4444444444444444,\"#bd3786\"],[0.5555555555555556,\"#d8576b\"],[0.6666666666666666,\"#ed7953\"],[0.7777777777777778,\"#fb9f3a\"],[0.8888888888888888,\"#fdca26\"],[1.0,\"#f0f921\"]],\"diverging\":[[0,\"#8e0152\"],[0.1,\"#c51b7d\"],[0.2,\"#de77ae\"],[0.3,\"#f1b6da\"],[0.4,\"#fde0ef\"],[0.5,\"#f7f7f7\"],[0.6,\"#e6f5d0\"],[0.7,\"#b8e186\"],[0.8,\"#7fbc41\"],[0.9,\"#4d9221\"],[1,\"#276419\"]]},\"xaxis\":{\"gridcolor\":\"#283442\",\"linecolor\":\"#506784\",\"ticks\":\"\",\"title\":{\"standoff\":15},\"zerolinecolor\":\"#283442\",\"automargin\":true,\"zerolinewidth\":2},\"yaxis\":{\"gridcolor\":\"#283442\",\"linecolor\":\"#506784\",\"ticks\":\"\",\"title\":{\"standoff\":15},\"zerolinecolor\":\"#283442\",\"automargin\":true,\"zerolinewidth\":2},\"scene\":{\"xaxis\":{\"backgroundcolor\":\"rgb(17,17,17)\",\"gridcolor\":\"#506784\",\"linecolor\":\"#506784\",\"showbackground\":true,\"ticks\":\"\",\"zerolinecolor\":\"#C8D4E3\",\"gridwidth\":2},\"yaxis\":{\"backgroundcolor\":\"rgb(17,17,17)\",\"gridcolor\":\"#506784\",\"linecolor\":\"#506784\",\"showbackground\":true,\"ticks\":\"\",\"zerolinecolor\":\"#C8D4E3\",\"gridwidth\":2},\"zaxis\":{\"backgroundcolor\":\"rgb(17,17,17)\",\"gridcolor\":\"#506784\",\"linecolor\":\"#506784\",\"showbackground\":true,\"ticks\":\"\",\"zerolinecolor\":\"#C8D4E3\",\"gridwidth\":2}},\"shapedefaults\":{\"line\":{\"color\":\"#f2f5fa\"}},\"annotationdefaults\":{\"arrowcolor\":\"#f2f5fa\",\"arrowhead\":0,\"arrowwidth\":1},\"geo\":{\"bgcolor\":\"rgb(17,17,17)\",\"landcolor\":\"rgb(17,17,17)\",\"subunitcolor\":\"#506784\",\"showland\":true,\"showlakes\":true,\"lakecolor\":\"rgb(17,17,17)\"},\"title\":{\"x\":0.05},\"updatemenudefaults\":{\"bgcolor\":\"#506784\",\"borderwidth\":0},\"sliderdefaults\":{\"bgcolor\":\"#C8D4E3\",\"borderwidth\":1,\"bordercolor\":\"rgb(17,17,17)\",\"tickwidth\":0},\"mapbox\":{\"style\":\"dark\"}}},\"xaxis\":{\"anchor\":\"y\",\"domain\":[0.0,1.0],\"title\":{\"text\":\"Labs\"}},\"yaxis\":{\"anchor\":\"x\",\"domain\":[0.0,1.0],\"title\":{\"text\":\"Average Sash Inches Open\"}},\"legend\":{\"tracegroupgap\":0},\"title\":{\"text\":\"How Open Are Fume Hoods on Average in Biotech?\"},\"barmode\":\"relative\"},                        {\"responsive\": true}                    ).then(function(){\n",
       "                            \n",
       "var gd = document.getElementById('7a789a53-9dc8-4b35-9616-62334f218855');\n",
       "var x = new MutationObserver(function (mutations, observer) {{\n",
       "        var display = window.getComputedStyle(gd).display;\n",
       "        if (!display || display === 'none') {{\n",
       "            console.log([gd, 'removed!']);\n",
       "            Plotly.purge(gd);\n",
       "            observer.disconnect();\n",
       "        }}\n",
       "}});\n",
       "\n",
       "// Listen for the removal of the full notebook cells\n",
       "var notebookContainer = gd.closest('#notebook-container');\n",
       "if (notebookContainer) {{\n",
       "    x.observe(notebookContainer, {childList: true});\n",
       "}}\n",
       "\n",
       "// Listen for the clearing of the current output cell\n",
       "var outputEl = gd.closest('.output');\n",
       "if (outputEl) {{\n",
       "    x.observe(outputEl, {childList: true});\n",
       "}}\n",
       "\n",
       "                        })                };                });            </script>        </div>"
      ]
     },
     "metadata": {},
     "output_type": "display_data"
    }
   ],
   "source": [
    "array_list = [i for i in query_list]\n",
    "average_list = [np.mean(array_list[i][\"value\"]) for i in range(len(array_list))]\n",
    "average_list\n",
    "\n",
    "labs = combined[\"Lab\"]\n",
    "data = {\"Labs\":labs, \"Average Sash Inches Open\":average_list}\n",
    "inchesdf = pd.DataFrame(data)\n",
    "inchesdf = inchesdf.sort_values(by = \"Average Sash Inches Open\", ascending =False)\n",
    "inchesdf = inchesdf.drop([41,48,57])\n",
    "\n",
    "display(inchesdf)\n",
    "\n",
    "fig = px.bar(inchesdf, x = \"Labs\", y = \"Average Sash Inches Open\", title = \"How Open Are Fume Hoods on Average in Biotech?\")\n",
    "fig.write_image(\"C:\\\\Users\\\\Rob\\\\Desktop\\\\ESW\\\\Fume\\\\sash_across_labs.png\",scale=4)\n",
    "fig.show()\n"
   ]
  },
  {
   "cell_type": "code",
   "execution_count": null,
   "metadata": {
    "collapsed": false
   },
   "outputs": [],
   "source": [
    "#1.2 inches\n",
    "#Look at which fume hoods have not been open past this point for at least a week\n",
    "#These might need to be closed\n",
    "\n",
    "\n",
    "\"\"\"\n",
    "Returns the ratio of the amount of time a fume hood has been open\n",
    "\"\"\"\n",
    "def has_been_closed(sash_point,server,start,end):\n",
    "    query = fume_query(sash_point,server,start,end)\n",
    "    inches = [i[0] for i in query]\n",
    "    ratio = inches.count(min(inches))/len(inches)\n",
    "    return(ratio)\n",
    "\n",
    "sash_point = combined[\"Sash\"][0]\n",
    "server  = combined[\"Server\"][0]\n",
    "time_start = str(datetime(2022, 12,1))\n",
    "time_end = str(datetime(2022, 12,31))\n",
    "\n",
    "\n",
    "sash_points = combined[\"Sash\"]\n",
    "ratio_list = [has_been_closed(sash_points[i], server,time_start,time_end) for i in range(len(sash_points))]\n",
    "print(ratio_list)"
   ]
  }
 ],
 "metadata": {
  "kernelspec": {
   "display_name": "Python 3.11.5 64-bit",
   "language": "python",
   "name": "python3"
  },
  "language_info": {
   "codemirror_mode": {
    "name": "ipython",
    "version": 3
   },
   "file_extension": ".py",
   "mimetype": "text/x-python",
   "name": "python",
   "nbconvert_exporter": "python",
   "pygments_lexer": "ipython3",
   "version": "3.11.5"
  },
  "vscode": {
   "interpreter": {
    "hash": "aee8b7b246df8f9039afb4144a1f6fd8d2ca17a180786b69acc140d282b71a49"
   }
  }
 },
 "nbformat": 4,
 "nbformat_minor": 0
}
