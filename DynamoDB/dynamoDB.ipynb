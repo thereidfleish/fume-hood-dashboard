{
 "cells": [
  {
   "cell_type": "markdown",
   "metadata": {},
   "source": [
    "### dynamoDB\n",
    "This notebook adds data to the dynamoDB database"
   ]
  },
  {
   "cell_type": "code",
   "execution_count": 1,
   "metadata": {},
   "outputs": [],
   "source": [
    "import boto3\n",
    "import os\n",
    "import json\n",
    "import csv\n",
    "from dotenv import load_dotenv"
   ]
  },
  {
   "cell_type": "code",
   "execution_count": 2,
   "metadata": {},
   "outputs": [
    {
     "data": {
      "text/plain": [
       "True"
      ]
     },
     "execution_count": 2,
     "metadata": {},
     "output_type": "execute_result"
    }
   ],
   "source": [
    "# Load the environment variables from the .env file\n",
    "load_dotenv()"
   ]
  },
  {
   "cell_type": "code",
   "execution_count": 4,
   "metadata": {},
   "outputs": [
    {
     "name": "stdout",
     "output_type": "stream",
     "text": [
      "None\n",
      "None\n",
      "None\n",
      "None\n",
      "Hoods:\n"
     ]
    },
    {
     "data": {
      "text/plain": [
       "{'id': {'S': 'hoods'},\n",
       " 'map': {'M': {'Biotech.Floor_4.Lab_457B.Hood_1': {'M': {'flow_sensor': {'S': '#biotech/biotech_ground_floor/ground_floor_fume_hood_lab_spaces/lab_g54_control/hoodvalve_flow'},\n",
       "     'floor': {'S': 'G'},\n",
       "     'lab': {'S': 'G54'},\n",
       "     'hood': {'S': '1'},\n",
       "     'building': {'S': 'biotech'},\n",
       "     'sash_sensor': {'S': '#biotech/biotech_ground_floor/ground_floor_fume_hood_lab_spaces/lab_g54_control/hood_sash'}}}}}}"
      ]
     },
     "metadata": {},
     "output_type": "display_data"
    },
    {
     "name": "stdout",
     "output_type": "stream",
     "text": [
      "Buildings:\n"
     ]
    },
    {
     "data": {
      "text/plain": [
       "{'id': {'S': 'buildings'},\n",
       " 'map': {'M': {'Biotech.Floor_4.Lab_457B.Hood_1': {'M': {'external_temp_sensor': {'S': '#biotech/ground_flr_mech/building_hydronic_heating_syatems/reheat_heat_exchanger/oat'}}}}}}"
      ]
     },
     "metadata": {},
     "output_type": "display_data"
    },
    {
     "name": "stdout",
     "output_type": "stream",
     "text": [
      "Labs:\n"
     ]
    },
    {
     "data": {
      "text/plain": [
       "{'id': {'S': 'labs'},\n",
       " 'map': {'M': {'Biotech.Floor_4.Lab_457B.Hood_1': {'M': {'occ_sensor': {'S': '#biotech/biotech_ground_floor/ground_floor_fume_hood_lab_spaces/lab_g54_control/occ'},\n",
       "     'internal_temp_sensor': {'S': '#biotech/biotech_ground_floor/ground_floor_fume_hood_lab_spaces/lab_g54_control/zone/zone_temp/trend_log'},\n",
       "     'floor': {'S': 'G'},\n",
       "     'lab': {'S': 'G54'},\n",
       "     'building': {'S': 'biotech'}}}}}}"
      ]
     },
     "metadata": {},
     "output_type": "display_data"
    },
    {
     "name": "stdout",
     "output_type": "stream",
     "text": [
      "Occupants:\n"
     ]
    },
    {
     "data": {
      "text/plain": [
       "{'id': {'S': 'occupants'},\n",
       " 'map': {'M': {'rf377@cornell.edu': {'M': {'name': {'S': 'Reid Fleishman'},\n",
       "     'lab': {'S': 'Biotech.Floor_3.Lab_317'}}}}}}"
      ]
     },
     "metadata": {},
     "output_type": "display_data"
    },
    {
     "name": "stdout",
     "output_type": "stream",
     "text": [
      "None\n",
      "None\n",
      "None\n",
      "None\n",
      "Hoods:\n"
     ]
    },
    {
     "data": {
      "text/plain": [
       "{'id': {'S': 'hoods'},\n",
       " 'map': {'M': {'Biotech.Floor_4.Lab_457B.Hood_1': {'M': {'flow_sensor': {'S': '#biotech/biotech_1st_floor/first_floor_fume_hood_lab_spaces/lab_141_control/hoodvalve_flow'},\n",
       "     'floor': {'S': '1'},\n",
       "     'lab': {'S': '141'},\n",
       "     'hood': {'S': '1'},\n",
       "     'building': {'S': 'biotech'},\n",
       "     'sash_sensor': {'S': '#biotech/biotech_1st_floor/first_floor_fume_hood_lab_spaces/lab_141_control/hood_sash'}}}}}}"
      ]
     },
     "metadata": {},
     "output_type": "display_data"
    },
    {
     "name": "stdout",
     "output_type": "stream",
     "text": [
      "Buildings:\n"
     ]
    },
    {
     "data": {
      "text/plain": [
       "{'id': {'S': 'buildings'},\n",
       " 'map': {'M': {'Biotech.Floor_4.Lab_457B.Hood_1': {'M': {'external_temp_sensor': {'S': '#biotech/ground_flr_mech/building_hydronic_heating_syatems/reheat_heat_exchanger/oat'}}}}}}"
      ]
     },
     "metadata": {},
     "output_type": "display_data"
    },
    {
     "name": "stdout",
     "output_type": "stream",
     "text": [
      "Labs:\n"
     ]
    },
    {
     "data": {
      "text/plain": [
       "{'id': {'S': 'labs'},\n",
       " 'map': {'M': {'Biotech.Floor_4.Lab_457B.Hood_1': {'M': {'occ_sensor': {'S': '#biotech/biotech_1st_floor/first_floor_fume_hood_lab_spaces/lab_141_control/occ'},\n",
       "     'internal_temp_sensor': {'S': '#biotech/biotech_1st_floor/first_floor_fume_hood_lab_spaces/lab_141_control/zone/zone_temp/trend_log'},\n",
       "     'floor': {'S': '1'},\n",
       "     'lab': {'S': '141'},\n",
       "     'building': {'S': 'biotech'}}}}}}"
      ]
     },
     "metadata": {},
     "output_type": "display_data"
    },
    {
     "name": "stdout",
     "output_type": "stream",
     "text": [
      "Occupants:\n"
     ]
    },
    {
     "data": {
      "text/plain": [
       "{'id': {'S': 'occupants'},\n",
       " 'map': {'M': {'rf377@cornell.edu': {'M': {'name': {'S': 'Reid Fleishman'},\n",
       "     'lab': {'S': 'Biotech.Floor_3.Lab_317'}}}}}}"
      ]
     },
     "metadata": {},
     "output_type": "display_data"
    },
    {
     "name": "stdout",
     "output_type": "stream",
     "text": [
      "None\n",
      "None\n",
      "None\n",
      "None\n",
      "Hoods:\n"
     ]
    },
    {
     "data": {
      "text/plain": [
       "{'id': {'S': 'hoods'},\n",
       " 'map': {'M': {'Biotech.Floor_4.Lab_457B.Hood_1': {'M': {'flow_sensor': {'S': '#biotech/biotech_1st_floor/first_floor_fume_hood_lab_spaces/lab_143_control/hoodvalve_flow'},\n",
       "     'floor': {'S': '1'},\n",
       "     'lab': {'S': '143'},\n",
       "     'hood': {'S': '1'},\n",
       "     'building': {'S': 'biotech'},\n",
       "     'sash_sensor': {'S': '#biotech/biotech_1st_floor/first_floor_fume_hood_lab_spaces/lab_143_control/hood_sash'}}}}}}"
      ]
     },
     "metadata": {},
     "output_type": "display_data"
    },
    {
     "name": "stdout",
     "output_type": "stream",
     "text": [
      "Buildings:\n"
     ]
    },
    {
     "data": {
      "text/plain": [
       "{'id': {'S': 'buildings'},\n",
       " 'map': {'M': {'Biotech.Floor_4.Lab_457B.Hood_1': {'M': {'external_temp_sensor': {'S': '#biotech/ground_flr_mech/building_hydronic_heating_syatems/reheat_heat_exchanger/oat'}}}}}}"
      ]
     },
     "metadata": {},
     "output_type": "display_data"
    },
    {
     "name": "stdout",
     "output_type": "stream",
     "text": [
      "Labs:\n"
     ]
    },
    {
     "data": {
      "text/plain": [
       "{'id': {'S': 'labs'},\n",
       " 'map': {'M': {'Biotech.Floor_4.Lab_457B.Hood_1': {'M': {'occ_sensor': {'S': '#biotech/biotech_1st_floor/first_floor_fume_hood_lab_spaces/lab_143_control/occ'},\n",
       "     'internal_temp_sensor': {'S': '#biotech/biotech_1st_floor/first_floor_fume_hood_lab_spaces/lab_143_control/zone/zone_temp/trend_log'},\n",
       "     'floor': {'S': '1'},\n",
       "     'lab': {'S': '143'},\n",
       "     'building': {'S': 'biotech'}}}}}}"
      ]
     },
     "metadata": {},
     "output_type": "display_data"
    },
    {
     "name": "stdout",
     "output_type": "stream",
     "text": [
      "Occupants:\n"
     ]
    },
    {
     "data": {
      "text/plain": [
       "{'id': {'S': 'occupants'},\n",
       " 'map': {'M': {'rf377@cornell.edu': {'M': {'name': {'S': 'Reid Fleishman'},\n",
       "     'lab': {'S': 'Biotech.Floor_3.Lab_317'}}}}}}"
      ]
     },
     "metadata": {},
     "output_type": "display_data"
    },
    {
     "name": "stdout",
     "output_type": "stream",
     "text": [
      "None\n",
      "None\n",
      "None\n",
      "None\n",
      "Hoods:\n"
     ]
    },
    {
     "data": {
      "text/plain": [
       "{'id': {'S': 'hoods'},\n",
       " 'map': {'M': {'Biotech.Floor_4.Lab_457B.Hood_1': {'M': {'flow_sensor': {'S': '#biotech/biotech_1st_floor/first_floor_fume_hood_lab_spaces/lab_147b_control/hoodvalve_flow'},\n",
       "     'floor': {'S': '1'},\n",
       "     'lab': {'S': '147B'},\n",
       "     'hood': {'S': '1'},\n",
       "     'building': {'S': 'biotech'},\n",
       "     'sash_sensor': {'S': '#biotech/biotech_1st_floor/first_floor_fume_hood_lab_spaces/lab_147b_control/hood_sash'}}}}}}"
      ]
     },
     "metadata": {},
     "output_type": "display_data"
    },
    {
     "name": "stdout",
     "output_type": "stream",
     "text": [
      "Buildings:\n"
     ]
    },
    {
     "data": {
      "text/plain": [
       "{'id': {'S': 'buildings'},\n",
       " 'map': {'M': {'Biotech.Floor_4.Lab_457B.Hood_1': {'M': {'external_temp_sensor': {'S': '#biotech/ground_flr_mech/building_hydronic_heating_syatems/reheat_heat_exchanger/oat'}}}}}}"
      ]
     },
     "metadata": {},
     "output_type": "display_data"
    },
    {
     "name": "stdout",
     "output_type": "stream",
     "text": [
      "Labs:\n"
     ]
    },
    {
     "data": {
      "text/plain": [
       "{'id': {'S': 'labs'},\n",
       " 'map': {'M': {'Biotech.Floor_4.Lab_457B.Hood_1': {'M': {'occ_sensor': {'S': '#biotech/biotech_1st_floor/first_floor_fume_hood_lab_spaces/lab_147b_control/occ'},\n",
       "     'internal_temp_sensor': {'S': '#biotech/biotech_1st_floor/first_floor_fume_hood_lab_spaces/lab_147b_control/zone/zone_temp/trend_log'},\n",
       "     'floor': {'S': '1'},\n",
       "     'lab': {'S': '147B'},\n",
       "     'building': {'S': 'biotech'}}}}}}"
      ]
     },
     "metadata": {},
     "output_type": "display_data"
    },
    {
     "name": "stdout",
     "output_type": "stream",
     "text": [
      "Occupants:\n"
     ]
    },
    {
     "data": {
      "text/plain": [
       "{'id': {'S': 'occupants'},\n",
       " 'map': {'M': {'rf377@cornell.edu': {'M': {'name': {'S': 'Reid Fleishman'},\n",
       "     'lab': {'S': 'Biotech.Floor_3.Lab_317'}}}}}}"
      ]
     },
     "metadata": {},
     "output_type": "display_data"
    },
    {
     "name": "stdout",
     "output_type": "stream",
     "text": [
      "None\n",
      "None\n",
      "None\n",
      "None\n",
      "Hoods:\n"
     ]
    },
    {
     "data": {
      "text/plain": [
       "{'id': {'S': 'hoods'},\n",
       " 'map': {'M': {'Biotech.Floor_4.Lab_457B.Hood_1': {'M': {'flow_sensor': {'S': '#biotech/biotech_1st_floor/first_floor_fume_hood_lab_spaces/lab_153_control/hoodvalve_flow'},\n",
       "     'floor': {'S': '1'},\n",
       "     'lab': {'S': '153'},\n",
       "     'hood': {'S': '1'},\n",
       "     'building': {'S': 'biotech'},\n",
       "     'sash_sensor': {'S': '#biotech/biotech_1st_floor/first_floor_fume_hood_lab_spaces/lab_153_control/hood_sash'}}}}}}"
      ]
     },
     "metadata": {},
     "output_type": "display_data"
    },
    {
     "name": "stdout",
     "output_type": "stream",
     "text": [
      "Buildings:\n"
     ]
    },
    {
     "data": {
      "text/plain": [
       "{'id': {'S': 'buildings'},\n",
       " 'map': {'M': {'Biotech.Floor_4.Lab_457B.Hood_1': {'M': {'external_temp_sensor': {'S': '#biotech/ground_flr_mech/building_hydronic_heating_syatems/reheat_heat_exchanger/oat'}}}}}}"
      ]
     },
     "metadata": {},
     "output_type": "display_data"
    },
    {
     "name": "stdout",
     "output_type": "stream",
     "text": [
      "Labs:\n"
     ]
    },
    {
     "data": {
      "text/plain": [
       "{'id': {'S': 'labs'},\n",
       " 'map': {'M': {'Biotech.Floor_4.Lab_457B.Hood_1': {'M': {'occ_sensor': {'S': '#biotech/biotech_1st_floor/first_floor_fume_hood_lab_spaces/lab_153_control/occ'},\n",
       "     'internal_temp_sensor': {'S': '#biotech/biotech_1st_floor/first_floor_fume_hood_lab_spaces/lab_153_control/zone/zone_temp/trend_log'},\n",
       "     'floor': {'S': '1'},\n",
       "     'lab': {'S': '153'},\n",
       "     'building': {'S': 'biotech'}}}}}}"
      ]
     },
     "metadata": {},
     "output_type": "display_data"
    },
    {
     "name": "stdout",
     "output_type": "stream",
     "text": [
      "Occupants:\n"
     ]
    },
    {
     "data": {
      "text/plain": [
       "{'id': {'S': 'occupants'},\n",
       " 'map': {'M': {'rf377@cornell.edu': {'M': {'name': {'S': 'Reid Fleishman'},\n",
       "     'lab': {'S': 'Biotech.Floor_3.Lab_317'}}}}}}"
      ]
     },
     "metadata": {},
     "output_type": "display_data"
    },
    {
     "name": "stdout",
     "output_type": "stream",
     "text": [
      "None\n",
      "None\n",
      "None\n",
      "None\n",
      "Hoods:\n"
     ]
    },
    {
     "data": {
      "text/plain": [
       "{'id': {'S': 'hoods'},\n",
       " 'map': {'M': {'Biotech.Floor_4.Lab_457B.Hood_1': {'M': {'flow_sensor': {'S': '#biotech/biotech_1st_floor/first_floor_fume_hood_lab_spaces/lab_153b_control/hoodvalve_flow'},\n",
       "     'floor': {'S': '1'},\n",
       "     'lab': {'S': '153B'},\n",
       "     'hood': {'S': '1'},\n",
       "     'building': {'S': 'biotech'},\n",
       "     'sash_sensor': {'S': '#biotech/biotech_1st_floor/first_floor_fume_hood_lab_spaces/lab_153b_control/hood_sash'}}}}}}"
      ]
     },
     "metadata": {},
     "output_type": "display_data"
    },
    {
     "name": "stdout",
     "output_type": "stream",
     "text": [
      "Buildings:\n"
     ]
    },
    {
     "data": {
      "text/plain": [
       "{'id': {'S': 'buildings'},\n",
       " 'map': {'M': {'Biotech.Floor_4.Lab_457B.Hood_1': {'M': {'external_temp_sensor': {'S': '#biotech/ground_flr_mech/building_hydronic_heating_syatems/reheat_heat_exchanger/oat'}}}}}}"
      ]
     },
     "metadata": {},
     "output_type": "display_data"
    },
    {
     "name": "stdout",
     "output_type": "stream",
     "text": [
      "Labs:\n"
     ]
    },
    {
     "data": {
      "text/plain": [
       "{'id': {'S': 'labs'},\n",
       " 'map': {'M': {'Biotech.Floor_4.Lab_457B.Hood_1': {'M': {'occ_sensor': {'S': '#biotech/biotech_1st_floor/first_floor_fume_hood_lab_spaces/lab_153b_control/occ'},\n",
       "     'internal_temp_sensor': {'S': '#biotech/biotech_1st_floor/first_floor_fume_hood_lab_spaces/lab_153b_control/zone/zone_temp/trend_log'},\n",
       "     'floor': {'S': '1'},\n",
       "     'lab': {'S': '153B'},\n",
       "     'building': {'S': 'biotech'}}}}}}"
      ]
     },
     "metadata": {},
     "output_type": "display_data"
    },
    {
     "name": "stdout",
     "output_type": "stream",
     "text": [
      "Occupants:\n"
     ]
    },
    {
     "data": {
      "text/plain": [
       "{'id': {'S': 'occupants'},\n",
       " 'map': {'M': {'rf377@cornell.edu': {'M': {'name': {'S': 'Reid Fleishman'},\n",
       "     'lab': {'S': 'Biotech.Floor_3.Lab_317'}}}}}}"
      ]
     },
     "metadata": {},
     "output_type": "display_data"
    },
    {
     "name": "stdout",
     "output_type": "stream",
     "text": [
      "None\n",
      "None\n",
      "None\n",
      "None\n",
      "Hoods:\n"
     ]
    },
    {
     "data": {
      "text/plain": [
       "{'id': {'S': 'hoods'},\n",
       " 'map': {'M': {'Biotech.Floor_4.Lab_457B.Hood_1': {'M': {'flow_sensor': {'S': '#biotech/biotech_1st_floor/first_floor_fume_hood_lab_spaces/lab_155_control/hoodvalve_flow'},\n",
       "     'floor': {'S': '1'},\n",
       "     'lab': {'S': '155'},\n",
       "     'hood': {'S': '1'},\n",
       "     'building': {'S': 'biotech'},\n",
       "     'sash_sensor': {'S': '#biotech/biotech_1st_floor/first_floor_fume_hood_lab_spaces/lab_155_control/hood_sash'}}}}}}"
      ]
     },
     "metadata": {},
     "output_type": "display_data"
    },
    {
     "name": "stdout",
     "output_type": "stream",
     "text": [
      "Buildings:\n"
     ]
    },
    {
     "data": {
      "text/plain": [
       "{'id': {'S': 'buildings'},\n",
       " 'map': {'M': {'Biotech.Floor_4.Lab_457B.Hood_1': {'M': {'external_temp_sensor': {'S': '#biotech/ground_flr_mech/building_hydronic_heating_syatems/reheat_heat_exchanger/oat'}}}}}}"
      ]
     },
     "metadata": {},
     "output_type": "display_data"
    },
    {
     "name": "stdout",
     "output_type": "stream",
     "text": [
      "Labs:\n"
     ]
    },
    {
     "data": {
      "text/plain": [
       "{'id': {'S': 'labs'},\n",
       " 'map': {'M': {'Biotech.Floor_4.Lab_457B.Hood_1': {'M': {'occ_sensor': {'S': '#biotech/biotech_1st_floor/first_floor_fume_hood_lab_spaces/lab_155_control/occ'},\n",
       "     'internal_temp_sensor': {'S': '#biotech/biotech_1st_floor/first_floor_fume_hood_lab_spaces/lab_155_control/zone/zone_temp/trend_log'},\n",
       "     'floor': {'S': '1'},\n",
       "     'lab': {'S': '155'},\n",
       "     'building': {'S': 'biotech'}}}}}}"
      ]
     },
     "metadata": {},
     "output_type": "display_data"
    },
    {
     "name": "stdout",
     "output_type": "stream",
     "text": [
      "Occupants:\n"
     ]
    },
    {
     "data": {
      "text/plain": [
       "{'id': {'S': 'occupants'},\n",
       " 'map': {'M': {'rf377@cornell.edu': {'M': {'name': {'S': 'Reid Fleishman'},\n",
       "     'lab': {'S': 'Biotech.Floor_3.Lab_317'}}}}}}"
      ]
     },
     "metadata": {},
     "output_type": "display_data"
    },
    {
     "name": "stdout",
     "output_type": "stream",
     "text": [
      "None\n",
      "None\n",
      "None\n",
      "None\n",
      "Hoods:\n"
     ]
    },
    {
     "data": {
      "text/plain": [
       "{'id': {'S': 'hoods'},\n",
       " 'map': {'M': {'Biotech.Floor_4.Lab_457B.Hood_1': {'M': {'flow_sensor': {'S': '#biotech/biotech_1st_floor/first_floor_fume_hood_lab_spaces/lab_160_control/hoodvalve_flow'},\n",
       "     'floor': {'S': '1'},\n",
       "     'lab': {'S': '160'},\n",
       "     'hood': {'S': '1'},\n",
       "     'building': {'S': 'biotech'},\n",
       "     'sash_sensor': {'S': '#biotech/biotech_1st_floor/first_floor_fume_hood_lab_spaces/lab_160_control/hood_sash'}}}}}}"
      ]
     },
     "metadata": {},
     "output_type": "display_data"
    },
    {
     "name": "stdout",
     "output_type": "stream",
     "text": [
      "Buildings:\n"
     ]
    },
    {
     "data": {
      "text/plain": [
       "{'id': {'S': 'buildings'},\n",
       " 'map': {'M': {'Biotech.Floor_4.Lab_457B.Hood_1': {'M': {'external_temp_sensor': {'S': '#biotech/ground_flr_mech/building_hydronic_heating_syatems/reheat_heat_exchanger/oat'}}}}}}"
      ]
     },
     "metadata": {},
     "output_type": "display_data"
    },
    {
     "name": "stdout",
     "output_type": "stream",
     "text": [
      "Labs:\n"
     ]
    },
    {
     "data": {
      "text/plain": [
       "{'id': {'S': 'labs'},\n",
       " 'map': {'M': {'Biotech.Floor_4.Lab_457B.Hood_1': {'M': {'occ_sensor': {'S': '#biotech/biotech_1st_floor/first_floor_fume_hood_lab_spaces/lab_160_control/occ'},\n",
       "     'internal_temp_sensor': {'S': '#biotech/biotech_1st_floor/first_floor_fume_hood_lab_spaces/lab_160_control/zone/zone_temp/trend_log'},\n",
       "     'floor': {'S': '1'},\n",
       "     'lab': {'S': '160'},\n",
       "     'building': {'S': 'biotech'}}}}}}"
      ]
     },
     "metadata": {},
     "output_type": "display_data"
    },
    {
     "name": "stdout",
     "output_type": "stream",
     "text": [
      "Occupants:\n"
     ]
    },
    {
     "data": {
      "text/plain": [
       "{'id': {'S': 'occupants'},\n",
       " 'map': {'M': {'rf377@cornell.edu': {'M': {'name': {'S': 'Reid Fleishman'},\n",
       "     'lab': {'S': 'Biotech.Floor_3.Lab_317'}}}}}}"
      ]
     },
     "metadata": {},
     "output_type": "display_data"
    },
    {
     "name": "stdout",
     "output_type": "stream",
     "text": [
      "None\n",
      "None\n",
      "None\n",
      "None\n",
      "Hoods:\n"
     ]
    },
    {
     "data": {
      "text/plain": [
       "{'id': {'S': 'hoods'},\n",
       " 'map': {'M': {'Biotech.Floor_4.Lab_457B.Hood_1': {'M': {'flow_sensor': {'S': '#biotech/biotech_2nd_floor/second_floor_fume_hood_lab_spaces/lab_217b_control/hoodvalve_flow'},\n",
       "     'floor': {'S': '2'},\n",
       "     'lab': {'S': '217B'},\n",
       "     'hood': {'S': '1'},\n",
       "     'building': {'S': 'biotech'},\n",
       "     'sash_sensor': {'S': '#biotech/biotech_2nd_floor/second_floor_fume_hood_lab_spaces/lab_217b_control/hood_sash'}}}}}}"
      ]
     },
     "metadata": {},
     "output_type": "display_data"
    },
    {
     "name": "stdout",
     "output_type": "stream",
     "text": [
      "Buildings:\n"
     ]
    },
    {
     "data": {
      "text/plain": [
       "{'id': {'S': 'buildings'},\n",
       " 'map': {'M': {'Biotech.Floor_4.Lab_457B.Hood_1': {'M': {'external_temp_sensor': {'S': '#biotech/ground_flr_mech/building_hydronic_heating_syatems/reheat_heat_exchanger/oat'}}}}}}"
      ]
     },
     "metadata": {},
     "output_type": "display_data"
    },
    {
     "name": "stdout",
     "output_type": "stream",
     "text": [
      "Labs:\n"
     ]
    },
    {
     "data": {
      "text/plain": [
       "{'id': {'S': 'labs'},\n",
       " 'map': {'M': {'Biotech.Floor_4.Lab_457B.Hood_1': {'M': {'occ_sensor': {'S': '#biotech/biotech_2nd_floor/second_floor_fume_hood_lab_spaces/lab_217b_control/occ'},\n",
       "     'internal_temp_sensor': {'S': '#biotech/biotech_2nd_floor/second_floor_fume_hood_lab_spaces/lab_217b_control/zone/zone_temp/trend_log'},\n",
       "     'floor': {'S': '2'},\n",
       "     'lab': {'S': '217B'},\n",
       "     'building': {'S': 'biotech'}}}}}}"
      ]
     },
     "metadata": {},
     "output_type": "display_data"
    },
    {
     "name": "stdout",
     "output_type": "stream",
     "text": [
      "Occupants:\n"
     ]
    },
    {
     "data": {
      "text/plain": [
       "{'id': {'S': 'occupants'},\n",
       " 'map': {'M': {'rf377@cornell.edu': {'M': {'name': {'S': 'Reid Fleishman'},\n",
       "     'lab': {'S': 'Biotech.Floor_3.Lab_317'}}}}}}"
      ]
     },
     "metadata": {},
     "output_type": "display_data"
    },
    {
     "name": "stdout",
     "output_type": "stream",
     "text": [
      "None\n",
      "None\n",
      "None\n",
      "None\n",
      "Hoods:\n"
     ]
    },
    {
     "data": {
      "text/plain": [
       "{'id': {'S': 'hoods'},\n",
       " 'map': {'M': {'Biotech.Floor_4.Lab_457B.Hood_1': {'M': {'flow_sensor': {'S': '#biotech/biotech_2nd_floor/second_floor_fume_hood_lab_spaces/lab_221_control/hoodvalve_flow'},\n",
       "     'floor': {'S': '2'},\n",
       "     'lab': {'S': '221'},\n",
       "     'hood': {'S': '1'},\n",
       "     'building': {'S': 'biotech'},\n",
       "     'sash_sensor': {'S': '#biotech/biotech_2nd_floor/second_floor_fume_hood_lab_spaces/lab_221_control/hood_sash'}}}}}}"
      ]
     },
     "metadata": {},
     "output_type": "display_data"
    },
    {
     "name": "stdout",
     "output_type": "stream",
     "text": [
      "Buildings:\n"
     ]
    },
    {
     "data": {
      "text/plain": [
       "{'id': {'S': 'buildings'},\n",
       " 'map': {'M': {'Biotech.Floor_4.Lab_457B.Hood_1': {'M': {'external_temp_sensor': {'S': '#biotech/ground_flr_mech/building_hydronic_heating_syatems/reheat_heat_exchanger/oat'}}}}}}"
      ]
     },
     "metadata": {},
     "output_type": "display_data"
    },
    {
     "name": "stdout",
     "output_type": "stream",
     "text": [
      "Labs:\n"
     ]
    },
    {
     "data": {
      "text/plain": [
       "{'id': {'S': 'labs'},\n",
       " 'map': {'M': {'Biotech.Floor_4.Lab_457B.Hood_1': {'M': {'occ_sensor': {'S': '#biotech/biotech_2nd_floor/second_floor_fume_hood_lab_spaces/lab_221_control/occ'},\n",
       "     'internal_temp_sensor': {'S': '#biotech/biotech_2nd_floor/second_floor_fume_hood_lab_spaces/lab_221_control/zone/zone_temp/trend_log'},\n",
       "     'floor': {'S': '2'},\n",
       "     'lab': {'S': '221'},\n",
       "     'building': {'S': 'biotech'}}}}}}"
      ]
     },
     "metadata": {},
     "output_type": "display_data"
    },
    {
     "name": "stdout",
     "output_type": "stream",
     "text": [
      "Occupants:\n"
     ]
    },
    {
     "data": {
      "text/plain": [
       "{'id': {'S': 'occupants'},\n",
       " 'map': {'M': {'rf377@cornell.edu': {'M': {'name': {'S': 'Reid Fleishman'},\n",
       "     'lab': {'S': 'Biotech.Floor_3.Lab_317'}}}}}}"
      ]
     },
     "metadata": {},
     "output_type": "display_data"
    },
    {
     "name": "stdout",
     "output_type": "stream",
     "text": [
      "None\n",
      "None\n",
      "None\n",
      "None\n",
      "Hoods:\n"
     ]
    },
    {
     "data": {
      "text/plain": [
       "{'id': {'S': 'hoods'},\n",
       " 'map': {'M': {'Biotech.Floor_4.Lab_457B.Hood_1': {'M': {'flow_sensor': {'S': '#biotech/biotech_2nd_floor/second_floor_fume_hood_lab_spaces/lab_221b_control/hoodvalve_flow'},\n",
       "     'floor': {'S': '2'},\n",
       "     'lab': {'S': '221B'},\n",
       "     'hood': {'S': '1'},\n",
       "     'building': {'S': 'biotech'},\n",
       "     'sash_sensor': {'S': '#biotech/biotech_2nd_floor/second_floor_fume_hood_lab_spaces/lab_221b_control/hood_sash'}}}}}}"
      ]
     },
     "metadata": {},
     "output_type": "display_data"
    },
    {
     "name": "stdout",
     "output_type": "stream",
     "text": [
      "Buildings:\n"
     ]
    },
    {
     "data": {
      "text/plain": [
       "{'id': {'S': 'buildings'},\n",
       " 'map': {'M': {'Biotech.Floor_4.Lab_457B.Hood_1': {'M': {'external_temp_sensor': {'S': '#biotech/ground_flr_mech/building_hydronic_heating_syatems/reheat_heat_exchanger/oat'}}}}}}"
      ]
     },
     "metadata": {},
     "output_type": "display_data"
    },
    {
     "name": "stdout",
     "output_type": "stream",
     "text": [
      "Labs:\n"
     ]
    },
    {
     "data": {
      "text/plain": [
       "{'id': {'S': 'labs'},\n",
       " 'map': {'M': {'Biotech.Floor_4.Lab_457B.Hood_1': {'M': {'occ_sensor': {'S': '#biotech/biotech_2nd_floor/second_floor_fume_hood_lab_spaces/lab_221b_control/occ'},\n",
       "     'internal_temp_sensor': {'S': '#biotech/biotech_2nd_floor/second_floor_fume_hood_lab_spaces/lab_221b_control/zone/zone_temp/trend_log'},\n",
       "     'floor': {'S': '2'},\n",
       "     'lab': {'S': '221B'},\n",
       "     'building': {'S': 'biotech'}}}}}}"
      ]
     },
     "metadata": {},
     "output_type": "display_data"
    },
    {
     "name": "stdout",
     "output_type": "stream",
     "text": [
      "Occupants:\n"
     ]
    },
    {
     "data": {
      "text/plain": [
       "{'id': {'S': 'occupants'},\n",
       " 'map': {'M': {'rf377@cornell.edu': {'M': {'name': {'S': 'Reid Fleishman'},\n",
       "     'lab': {'S': 'Biotech.Floor_3.Lab_317'}}}}}}"
      ]
     },
     "metadata": {},
     "output_type": "display_data"
    },
    {
     "name": "stdout",
     "output_type": "stream",
     "text": [
      "None\n",
      "None\n",
      "None\n",
      "None\n",
      "Hoods:\n"
     ]
    },
    {
     "data": {
      "text/plain": [
       "{'id': {'S': 'hoods'},\n",
       " 'map': {'M': {'Biotech.Floor_4.Lab_457B.Hood_1': {'M': {'flow_sensor': {'S': '#biotech/biotech_2nd_floor/second_floor_fume_hood_lab_spaces/lab_227_control/hoodvalve_flow'},\n",
       "     'floor': {'S': '2'},\n",
       "     'lab': {'S': '227'},\n",
       "     'hood': {'S': '1'},\n",
       "     'building': {'S': 'biotech'},\n",
       "     'sash_sensor': {'S': '#biotech/biotech_2nd_floor/second_floor_fume_hood_lab_spaces/lab_227_control/hood_sash'}}}}}}"
      ]
     },
     "metadata": {},
     "output_type": "display_data"
    },
    {
     "name": "stdout",
     "output_type": "stream",
     "text": [
      "Buildings:\n"
     ]
    },
    {
     "data": {
      "text/plain": [
       "{'id': {'S': 'buildings'},\n",
       " 'map': {'M': {'Biotech.Floor_4.Lab_457B.Hood_1': {'M': {'external_temp_sensor': {'S': '#biotech/ground_flr_mech/building_hydronic_heating_syatems/reheat_heat_exchanger/oat'}}}}}}"
      ]
     },
     "metadata": {},
     "output_type": "display_data"
    },
    {
     "name": "stdout",
     "output_type": "stream",
     "text": [
      "Labs:\n"
     ]
    },
    {
     "data": {
      "text/plain": [
       "{'id': {'S': 'labs'},\n",
       " 'map': {'M': {'Biotech.Floor_4.Lab_457B.Hood_1': {'M': {'occ_sensor': {'S': '#biotech/biotech_2nd_floor/second_floor_fume_hood_lab_spaces/lab_227_control/occ'},\n",
       "     'internal_temp_sensor': {'S': '#biotech/biotech_2nd_floor/second_floor_fume_hood_lab_spaces/lab_227_control/zone/zone_temp/trend_log'},\n",
       "     'floor': {'S': '2'},\n",
       "     'lab': {'S': '227'},\n",
       "     'building': {'S': 'biotech'}}}}}}"
      ]
     },
     "metadata": {},
     "output_type": "display_data"
    },
    {
     "name": "stdout",
     "output_type": "stream",
     "text": [
      "Occupants:\n"
     ]
    },
    {
     "data": {
      "text/plain": [
       "{'id': {'S': 'occupants'},\n",
       " 'map': {'M': {'rf377@cornell.edu': {'M': {'name': {'S': 'Reid Fleishman'},\n",
       "     'lab': {'S': 'Biotech.Floor_3.Lab_317'}}}}}}"
      ]
     },
     "metadata": {},
     "output_type": "display_data"
    },
    {
     "name": "stdout",
     "output_type": "stream",
     "text": [
      "None\n",
      "None\n",
      "None\n",
      "None\n",
      "Hoods:\n"
     ]
    },
    {
     "data": {
      "text/plain": [
       "{'id': {'S': 'hoods'},\n",
       " 'map': {'M': {'Biotech.Floor_4.Lab_457B.Hood_1': {'M': {'flow_sensor': {'S': '#biotech/biotech_2nd_floor/second_floor_fume_hood_lab_spaces/lab_227b_control/hoodvalve_flow'},\n",
       "     'floor': {'S': '2'},\n",
       "     'lab': {'S': '227B'},\n",
       "     'hood': {'S': '1'},\n",
       "     'building': {'S': 'biotech'},\n",
       "     'sash_sensor': {'S': '#biotech/biotech_2nd_floor/second_floor_fume_hood_lab_spaces/lab_227b_control/hood_sash'}}}}}}"
      ]
     },
     "metadata": {},
     "output_type": "display_data"
    },
    {
     "name": "stdout",
     "output_type": "stream",
     "text": [
      "Buildings:\n"
     ]
    },
    {
     "data": {
      "text/plain": [
       "{'id': {'S': 'buildings'},\n",
       " 'map': {'M': {'Biotech.Floor_4.Lab_457B.Hood_1': {'M': {'external_temp_sensor': {'S': '#biotech/ground_flr_mech/building_hydronic_heating_syatems/reheat_heat_exchanger/oat'}}}}}}"
      ]
     },
     "metadata": {},
     "output_type": "display_data"
    },
    {
     "name": "stdout",
     "output_type": "stream",
     "text": [
      "Labs:\n"
     ]
    },
    {
     "data": {
      "text/plain": [
       "{'id': {'S': 'labs'},\n",
       " 'map': {'M': {'Biotech.Floor_4.Lab_457B.Hood_1': {'M': {'occ_sensor': {'S': '#biotech/biotech_2nd_floor/second_floor_fume_hood_lab_spaces/lab_227b_control/occ'},\n",
       "     'internal_temp_sensor': {'S': '#biotech/biotech_2nd_floor/second_floor_fume_hood_lab_spaces/lab_227b_control/zone/zone_temp/trend_log'},\n",
       "     'floor': {'S': '2'},\n",
       "     'lab': {'S': '227B'},\n",
       "     'building': {'S': 'biotech'}}}}}}"
      ]
     },
     "metadata": {},
     "output_type": "display_data"
    },
    {
     "name": "stdout",
     "output_type": "stream",
     "text": [
      "Occupants:\n"
     ]
    },
    {
     "data": {
      "text/plain": [
       "{'id': {'S': 'occupants'},\n",
       " 'map': {'M': {'rf377@cornell.edu': {'M': {'name': {'S': 'Reid Fleishman'},\n",
       "     'lab': {'S': 'Biotech.Floor_3.Lab_317'}}}}}}"
      ]
     },
     "metadata": {},
     "output_type": "display_data"
    },
    {
     "name": "stdout",
     "output_type": "stream",
     "text": [
      "None\n",
      "None\n",
      "None\n",
      "None\n",
      "Hoods:\n"
     ]
    },
    {
     "data": {
      "text/plain": [
       "{'id': {'S': 'hoods'},\n",
       " 'map': {'M': {'Biotech.Floor_4.Lab_457B.Hood_1': {'M': {'flow_sensor': {'S': '#biotech/biotech_2nd_floor/second_floor_fume_hood_lab_spaces/lab_233_control/hoodvalve_flow'},\n",
       "     'floor': {'S': '2'},\n",
       "     'lab': {'S': '233'},\n",
       "     'hood': {'S': '1'},\n",
       "     'building': {'S': 'biotech'},\n",
       "     'sash_sensor': {'S': '#biotech/biotech_2nd_floor/second_floor_fume_hood_lab_spaces/lab_233_control/hood_sash'}}}}}}"
      ]
     },
     "metadata": {},
     "output_type": "display_data"
    },
    {
     "name": "stdout",
     "output_type": "stream",
     "text": [
      "Buildings:\n"
     ]
    },
    {
     "data": {
      "text/plain": [
       "{'id': {'S': 'buildings'},\n",
       " 'map': {'M': {'Biotech.Floor_4.Lab_457B.Hood_1': {'M': {'external_temp_sensor': {'S': '#biotech/ground_flr_mech/building_hydronic_heating_syatems/reheat_heat_exchanger/oat'}}}}}}"
      ]
     },
     "metadata": {},
     "output_type": "display_data"
    },
    {
     "name": "stdout",
     "output_type": "stream",
     "text": [
      "Labs:\n"
     ]
    },
    {
     "data": {
      "text/plain": [
       "{'id': {'S': 'labs'},\n",
       " 'map': {'M': {'Biotech.Floor_4.Lab_457B.Hood_1': {'M': {'occ_sensor': {'S': '#biotech/biotech_2nd_floor/second_floor_fume_hood_lab_spaces/lab_233_control/occ'},\n",
       "     'internal_temp_sensor': {'S': '#biotech/biotech_2nd_floor/second_floor_fume_hood_lab_spaces/lab_233_control/zone/zone_temp/trend_log'},\n",
       "     'floor': {'S': '2'},\n",
       "     'lab': {'S': '233'},\n",
       "     'building': {'S': 'biotech'}}}}}}"
      ]
     },
     "metadata": {},
     "output_type": "display_data"
    },
    {
     "name": "stdout",
     "output_type": "stream",
     "text": [
      "Occupants:\n"
     ]
    },
    {
     "data": {
      "text/plain": [
       "{'id': {'S': 'occupants'},\n",
       " 'map': {'M': {'rf377@cornell.edu': {'M': {'name': {'S': 'Reid Fleishman'},\n",
       "     'lab': {'S': 'Biotech.Floor_3.Lab_317'}}}}}}"
      ]
     },
     "metadata": {},
     "output_type": "display_data"
    },
    {
     "name": "stdout",
     "output_type": "stream",
     "text": [
      "None\n",
      "None\n",
      "None\n",
      "None\n",
      "Hoods:\n"
     ]
    },
    {
     "data": {
      "text/plain": [
       "{'id': {'S': 'hoods'},\n",
       " 'map': {'M': {'Biotech.Floor_4.Lab_457B.Hood_1': {'M': {'flow_sensor': {'S': '#biotech/biotech_2nd_floor/second_floor_fume_hood_lab_spaces/lab_233b_control/hoodvalve_flow'},\n",
       "     'floor': {'S': '2'},\n",
       "     'lab': {'S': '233B'},\n",
       "     'hood': {'S': '1'},\n",
       "     'building': {'S': 'biotech'},\n",
       "     'sash_sensor': {'S': '#biotech/biotech_2nd_floor/second_floor_fume_hood_lab_spaces/lab_233b_control/hood_sash'}}}}}}"
      ]
     },
     "metadata": {},
     "output_type": "display_data"
    },
    {
     "name": "stdout",
     "output_type": "stream",
     "text": [
      "Buildings:\n"
     ]
    },
    {
     "data": {
      "text/plain": [
       "{'id': {'S': 'buildings'},\n",
       " 'map': {'M': {'Biotech.Floor_4.Lab_457B.Hood_1': {'M': {'external_temp_sensor': {'S': '#biotech/ground_flr_mech/building_hydronic_heating_syatems/reheat_heat_exchanger/oat'}}}}}}"
      ]
     },
     "metadata": {},
     "output_type": "display_data"
    },
    {
     "name": "stdout",
     "output_type": "stream",
     "text": [
      "Labs:\n"
     ]
    },
    {
     "data": {
      "text/plain": [
       "{'id': {'S': 'labs'},\n",
       " 'map': {'M': {'Biotech.Floor_4.Lab_457B.Hood_1': {'M': {'occ_sensor': {'S': '#biotech/biotech_2nd_floor/second_floor_fume_hood_lab_spaces/lab_233b_control/occ'},\n",
       "     'internal_temp_sensor': {'S': '#biotech/biotech_2nd_floor/second_floor_fume_hood_lab_spaces/lab_233b_control/zone/zone_temp/trend_log'},\n",
       "     'floor': {'S': '2'},\n",
       "     'lab': {'S': '233B'},\n",
       "     'building': {'S': 'biotech'}}}}}}"
      ]
     },
     "metadata": {},
     "output_type": "display_data"
    },
    {
     "name": "stdout",
     "output_type": "stream",
     "text": [
      "Occupants:\n"
     ]
    },
    {
     "data": {
      "text/plain": [
       "{'id': {'S': 'occupants'},\n",
       " 'map': {'M': {'rf377@cornell.edu': {'M': {'name': {'S': 'Reid Fleishman'},\n",
       "     'lab': {'S': 'Biotech.Floor_3.Lab_317'}}}}}}"
      ]
     },
     "metadata": {},
     "output_type": "display_data"
    },
    {
     "name": "stdout",
     "output_type": "stream",
     "text": [
      "None\n",
      "None\n",
      "None\n",
      "None\n",
      "Hoods:\n"
     ]
    },
    {
     "data": {
      "text/plain": [
       "{'id': {'S': 'hoods'},\n",
       " 'map': {'M': {'Biotech.Floor_4.Lab_457B.Hood_1': {'M': {'flow_sensor': {'S': '#biotech/biotech_2nd_floor/second_floor_fume_hood_lab_spaces/lab_241_control/hoodvalve_flow'},\n",
       "     'floor': {'S': '2'},\n",
       "     'lab': {'S': '241'},\n",
       "     'hood': {'S': '1'},\n",
       "     'building': {'S': 'biotech'},\n",
       "     'sash_sensor': {'S': '#biotech/biotech_2nd_floor/second_floor_fume_hood_lab_spaces/lab_241_control/hood_sash'}}}}}}"
      ]
     },
     "metadata": {},
     "output_type": "display_data"
    },
    {
     "name": "stdout",
     "output_type": "stream",
     "text": [
      "Buildings:\n"
     ]
    },
    {
     "data": {
      "text/plain": [
       "{'id': {'S': 'buildings'},\n",
       " 'map': {'M': {'Biotech.Floor_4.Lab_457B.Hood_1': {'M': {'external_temp_sensor': {'S': '#biotech/ground_flr_mech/building_hydronic_heating_syatems/reheat_heat_exchanger/oat'}}}}}}"
      ]
     },
     "metadata": {},
     "output_type": "display_data"
    },
    {
     "name": "stdout",
     "output_type": "stream",
     "text": [
      "Labs:\n"
     ]
    },
    {
     "data": {
      "text/plain": [
       "{'id': {'S': 'labs'},\n",
       " 'map': {'M': {'Biotech.Floor_4.Lab_457B.Hood_1': {'M': {'occ_sensor': {'S': '#biotech/biotech_2nd_floor/second_floor_fume_hood_lab_spaces/lab_241_control/occ'},\n",
       "     'internal_temp_sensor': {'S': '#biotech/biotech_2nd_floor/second_floor_fume_hood_lab_spaces/lab_241_control/zone/zone_temp/trend_log'},\n",
       "     'floor': {'S': '2'},\n",
       "     'lab': {'S': '241'},\n",
       "     'building': {'S': 'biotech'}}}}}}"
      ]
     },
     "metadata": {},
     "output_type": "display_data"
    },
    {
     "name": "stdout",
     "output_type": "stream",
     "text": [
      "Occupants:\n"
     ]
    },
    {
     "data": {
      "text/plain": [
       "{'id': {'S': 'occupants'},\n",
       " 'map': {'M': {'rf377@cornell.edu': {'M': {'name': {'S': 'Reid Fleishman'},\n",
       "     'lab': {'S': 'Biotech.Floor_3.Lab_317'}}}}}}"
      ]
     },
     "metadata": {},
     "output_type": "display_data"
    },
    {
     "name": "stdout",
     "output_type": "stream",
     "text": [
      "None\n",
      "None\n",
      "None\n",
      "None\n",
      "Hoods:\n"
     ]
    },
    {
     "data": {
      "text/plain": [
       "{'id': {'S': 'hoods'},\n",
       " 'map': {'M': {'Biotech.Floor_4.Lab_457B.Hood_1': {'M': {'flow_sensor': {'S': '#biotech/biotech_2nd_floor/second_floor_fume_hood_lab_spaces/lab_241b_control/hoodvalve_flow'},\n",
       "     'floor': {'S': '2'},\n",
       "     'lab': {'S': '241B'},\n",
       "     'hood': {'S': '1'},\n",
       "     'building': {'S': 'biotech'},\n",
       "     'sash_sensor': {'S': '#biotech/biotech_2nd_floor/second_floor_fume_hood_lab_spaces/lab_241b_control/hood_sash'}}}}}}"
      ]
     },
     "metadata": {},
     "output_type": "display_data"
    },
    {
     "name": "stdout",
     "output_type": "stream",
     "text": [
      "Buildings:\n"
     ]
    },
    {
     "data": {
      "text/plain": [
       "{'id': {'S': 'buildings'},\n",
       " 'map': {'M': {'Biotech.Floor_4.Lab_457B.Hood_1': {'M': {'external_temp_sensor': {'S': '#biotech/ground_flr_mech/building_hydronic_heating_syatems/reheat_heat_exchanger/oat'}}}}}}"
      ]
     },
     "metadata": {},
     "output_type": "display_data"
    },
    {
     "name": "stdout",
     "output_type": "stream",
     "text": [
      "Labs:\n"
     ]
    },
    {
     "data": {
      "text/plain": [
       "{'id': {'S': 'labs'},\n",
       " 'map': {'M': {'Biotech.Floor_4.Lab_457B.Hood_1': {'M': {'occ_sensor': {'S': '#biotech/biotech_2nd_floor/second_floor_fume_hood_lab_spaces/lab_241b_control/occ'},\n",
       "     'internal_temp_sensor': {'S': '#biotech/biotech_2nd_floor/second_floor_fume_hood_lab_spaces/lab_241b_control/zone/zone_temp/trend_log'},\n",
       "     'floor': {'S': '2'},\n",
       "     'lab': {'S': '241B'},\n",
       "     'building': {'S': 'biotech'}}}}}}"
      ]
     },
     "metadata": {},
     "output_type": "display_data"
    },
    {
     "name": "stdout",
     "output_type": "stream",
     "text": [
      "Occupants:\n"
     ]
    },
    {
     "data": {
      "text/plain": [
       "{'id': {'S': 'occupants'},\n",
       " 'map': {'M': {'rf377@cornell.edu': {'M': {'name': {'S': 'Reid Fleishman'},\n",
       "     'lab': {'S': 'Biotech.Floor_3.Lab_317'}}}}}}"
      ]
     },
     "metadata": {},
     "output_type": "display_data"
    },
    {
     "name": "stdout",
     "output_type": "stream",
     "text": [
      "None\n",
      "None\n",
      "None\n",
      "None\n",
      "Hoods:\n"
     ]
    },
    {
     "data": {
      "text/plain": [
       "{'id': {'S': 'hoods'},\n",
       " 'map': {'M': {'Biotech.Floor_4.Lab_457B.Hood_1': {'M': {'flow_sensor': {'S': '#biotech/biotech_2nd_floor/second_floor_fume_hood_lab_spaces/lab_253_control/hoodvalve_flow'},\n",
       "     'floor': {'S': '2'},\n",
       "     'lab': {'S': '253'},\n",
       "     'hood': {'S': '1'},\n",
       "     'building': {'S': 'biotech'},\n",
       "     'sash_sensor': {'S': '#biotech/biotech_2nd_floor/second_floor_fume_hood_lab_spaces/lab_253_control/hood_sash'}}}}}}"
      ]
     },
     "metadata": {},
     "output_type": "display_data"
    },
    {
     "name": "stdout",
     "output_type": "stream",
     "text": [
      "Buildings:\n"
     ]
    },
    {
     "data": {
      "text/plain": [
       "{'id': {'S': 'buildings'},\n",
       " 'map': {'M': {'Biotech.Floor_4.Lab_457B.Hood_1': {'M': {'external_temp_sensor': {'S': '#biotech/ground_flr_mech/building_hydronic_heating_syatems/reheat_heat_exchanger/oat'}}}}}}"
      ]
     },
     "metadata": {},
     "output_type": "display_data"
    },
    {
     "name": "stdout",
     "output_type": "stream",
     "text": [
      "Labs:\n"
     ]
    },
    {
     "data": {
      "text/plain": [
       "{'id': {'S': 'labs'},\n",
       " 'map': {'M': {'Biotech.Floor_4.Lab_457B.Hood_1': {'M': {'occ_sensor': {'S': '#biotech/biotech_2nd_floor/second_floor_fume_hood_lab_spaces/lab_253_control/occ'},\n",
       "     'internal_temp_sensor': {'S': '#biotech/biotech_2nd_floor/second_floor_fume_hood_lab_spaces/lab_253_control/zone/zone_temp/trend_log'},\n",
       "     'floor': {'S': '2'},\n",
       "     'lab': {'S': '253'},\n",
       "     'building': {'S': 'biotech'}}}}}}"
      ]
     },
     "metadata": {},
     "output_type": "display_data"
    },
    {
     "name": "stdout",
     "output_type": "stream",
     "text": [
      "Occupants:\n"
     ]
    },
    {
     "data": {
      "text/plain": [
       "{'id': {'S': 'occupants'},\n",
       " 'map': {'M': {'rf377@cornell.edu': {'M': {'name': {'S': 'Reid Fleishman'},\n",
       "     'lab': {'S': 'Biotech.Floor_3.Lab_317'}}}}}}"
      ]
     },
     "metadata": {},
     "output_type": "display_data"
    },
    {
     "name": "stdout",
     "output_type": "stream",
     "text": [
      "None\n",
      "None\n",
      "None\n",
      "None\n",
      "Hoods:\n"
     ]
    },
    {
     "data": {
      "text/plain": [
       "{'id': {'S': 'hoods'},\n",
       " 'map': {'M': {'Biotech.Floor_4.Lab_457B.Hood_1': {'M': {'flow_sensor': {'S': '#biotech/biotech_2nd_floor/second_floor_fume_hood_lab_spaces/lab_253b_control/hoodvalve_flow'},\n",
       "     'floor': {'S': '2'},\n",
       "     'lab': {'S': '253B'},\n",
       "     'hood': {'S': '1'},\n",
       "     'building': {'S': 'biotech'},\n",
       "     'sash_sensor': {'S': '#biotech/biotech_2nd_floor/second_floor_fume_hood_lab_spaces/lab_253b_control/hood_sash'}}}}}}"
      ]
     },
     "metadata": {},
     "output_type": "display_data"
    },
    {
     "name": "stdout",
     "output_type": "stream",
     "text": [
      "Buildings:\n"
     ]
    },
    {
     "data": {
      "text/plain": [
       "{'id': {'S': 'buildings'},\n",
       " 'map': {'M': {'Biotech.Floor_4.Lab_457B.Hood_1': {'M': {'external_temp_sensor': {'S': '#biotech/ground_flr_mech/building_hydronic_heating_syatems/reheat_heat_exchanger/oat'}}}}}}"
      ]
     },
     "metadata": {},
     "output_type": "display_data"
    },
    {
     "name": "stdout",
     "output_type": "stream",
     "text": [
      "Labs:\n"
     ]
    },
    {
     "data": {
      "text/plain": [
       "{'id': {'S': 'labs'},\n",
       " 'map': {'M': {'Biotech.Floor_4.Lab_457B.Hood_1': {'M': {'occ_sensor': {'S': '#biotech/biotech_2nd_floor/second_floor_fume_hood_lab_spaces/lab_253b_control/occ'},\n",
       "     'internal_temp_sensor': {'S': '#biotech/biotech_2nd_floor/second_floor_fume_hood_lab_spaces/lab_253b_control/zone/zone_temp/trend_log'},\n",
       "     'floor': {'S': '2'},\n",
       "     'lab': {'S': '253B'},\n",
       "     'building': {'S': 'biotech'}}}}}}"
      ]
     },
     "metadata": {},
     "output_type": "display_data"
    },
    {
     "name": "stdout",
     "output_type": "stream",
     "text": [
      "Occupants:\n"
     ]
    },
    {
     "data": {
      "text/plain": [
       "{'id': {'S': 'occupants'},\n",
       " 'map': {'M': {'rf377@cornell.edu': {'M': {'name': {'S': 'Reid Fleishman'},\n",
       "     'lab': {'S': 'Biotech.Floor_3.Lab_317'}}}}}}"
      ]
     },
     "metadata": {},
     "output_type": "display_data"
    },
    {
     "name": "stdout",
     "output_type": "stream",
     "text": [
      "None\n",
      "None\n",
      "None\n",
      "None\n",
      "Hoods:\n"
     ]
    },
    {
     "data": {
      "text/plain": [
       "{'id': {'S': 'hoods'},\n",
       " 'map': {'M': {'Biotech.Floor_4.Lab_457B.Hood_1': {'M': {'flow_sensor': {'S': '#biotech/biotech_2nd_floor/second_floor_fume_hood_lab_spaces/lab_257_control/hoodvalve_flow'},\n",
       "     'floor': {'S': '2'},\n",
       "     'lab': {'S': '257'},\n",
       "     'hood': {'S': '1'},\n",
       "     'building': {'S': 'biotech'},\n",
       "     'sash_sensor': {'S': '#biotech/biotech_2nd_floor/second_floor_fume_hood_lab_spaces/lab_257_control/hood_sash'}}}}}}"
      ]
     },
     "metadata": {},
     "output_type": "display_data"
    },
    {
     "name": "stdout",
     "output_type": "stream",
     "text": [
      "Buildings:\n"
     ]
    },
    {
     "data": {
      "text/plain": [
       "{'id': {'S': 'buildings'},\n",
       " 'map': {'M': {'Biotech.Floor_4.Lab_457B.Hood_1': {'M': {'external_temp_sensor': {'S': '#biotech/ground_flr_mech/building_hydronic_heating_syatems/reheat_heat_exchanger/oat'}}}}}}"
      ]
     },
     "metadata": {},
     "output_type": "display_data"
    },
    {
     "name": "stdout",
     "output_type": "stream",
     "text": [
      "Labs:\n"
     ]
    },
    {
     "data": {
      "text/plain": [
       "{'id': {'S': 'labs'},\n",
       " 'map': {'M': {'Biotech.Floor_4.Lab_457B.Hood_1': {'M': {'occ_sensor': {'S': '#biotech/biotech_2nd_floor/second_floor_fume_hood_lab_spaces/lab_257_control/occ'},\n",
       "     'internal_temp_sensor': {'S': '#biotech/biotech_2nd_floor/second_floor_fume_hood_lab_spaces/lab_257_control/zone/zone_temp/trend_log'},\n",
       "     'floor': {'S': '2'},\n",
       "     'lab': {'S': '257'},\n",
       "     'building': {'S': 'biotech'}}}}}}"
      ]
     },
     "metadata": {},
     "output_type": "display_data"
    },
    {
     "name": "stdout",
     "output_type": "stream",
     "text": [
      "Occupants:\n"
     ]
    },
    {
     "data": {
      "text/plain": [
       "{'id': {'S': 'occupants'},\n",
       " 'map': {'M': {'rf377@cornell.edu': {'M': {'name': {'S': 'Reid Fleishman'},\n",
       "     'lab': {'S': 'Biotech.Floor_3.Lab_317'}}}}}}"
      ]
     },
     "metadata": {},
     "output_type": "display_data"
    },
    {
     "name": "stdout",
     "output_type": "stream",
     "text": [
      "None\n",
      "None\n",
      "None\n",
      "None\n",
      "Hoods:\n"
     ]
    },
    {
     "data": {
      "text/plain": [
       "{'id': {'S': 'hoods'},\n",
       " 'map': {'M': {'Biotech.Floor_4.Lab_457B.Hood_1': {'M': {'flow_sensor': {'S': '#biotech/biotech_2nd_floor/second_floor_fume_hood_lab_spaces/lab_257b_control/hoodvalve_flow'},\n",
       "     'floor': {'S': '2'},\n",
       "     'lab': {'S': '257B'},\n",
       "     'hood': {'S': '1'},\n",
       "     'building': {'S': 'biotech'},\n",
       "     'sash_sensor': {'S': '#biotech/biotech_2nd_floor/second_floor_fume_hood_lab_spaces/lab_257b_control/hood_sash'}}}}}}"
      ]
     },
     "metadata": {},
     "output_type": "display_data"
    },
    {
     "name": "stdout",
     "output_type": "stream",
     "text": [
      "Buildings:\n"
     ]
    },
    {
     "data": {
      "text/plain": [
       "{'id': {'S': 'buildings'},\n",
       " 'map': {'M': {'Biotech.Floor_4.Lab_457B.Hood_1': {'M': {'external_temp_sensor': {'S': '#biotech/ground_flr_mech/building_hydronic_heating_syatems/reheat_heat_exchanger/oat'}}}}}}"
      ]
     },
     "metadata": {},
     "output_type": "display_data"
    },
    {
     "name": "stdout",
     "output_type": "stream",
     "text": [
      "Labs:\n"
     ]
    },
    {
     "data": {
      "text/plain": [
       "{'id': {'S': 'labs'},\n",
       " 'map': {'M': {'Biotech.Floor_4.Lab_457B.Hood_1': {'M': {'occ_sensor': {'S': '#biotech/biotech_2nd_floor/second_floor_fume_hood_lab_spaces/lab_257b_control/occ'},\n",
       "     'internal_temp_sensor': {'S': '#biotech/biotech_2nd_floor/second_floor_fume_hood_lab_spaces/lab_257b_control/zone/zone_temp/trend_log'},\n",
       "     'floor': {'S': '2'},\n",
       "     'lab': {'S': '257B'},\n",
       "     'building': {'S': 'biotech'}}}}}}"
      ]
     },
     "metadata": {},
     "output_type": "display_data"
    },
    {
     "name": "stdout",
     "output_type": "stream",
     "text": [
      "Occupants:\n"
     ]
    },
    {
     "data": {
      "text/plain": [
       "{'id': {'S': 'occupants'},\n",
       " 'map': {'M': {'rf377@cornell.edu': {'M': {'name': {'S': 'Reid Fleishman'},\n",
       "     'lab': {'S': 'Biotech.Floor_3.Lab_317'}}}}}}"
      ]
     },
     "metadata": {},
     "output_type": "display_data"
    },
    {
     "name": "stdout",
     "output_type": "stream",
     "text": [
      "None\n",
      "None\n",
      "None\n",
      "None\n",
      "Hoods:\n"
     ]
    },
    {
     "data": {
      "text/plain": [
       "{'id': {'S': 'hoods'},\n",
       " 'map': {'M': {'Biotech.Floor_4.Lab_457B.Hood_1': {'M': {'flow_sensor': {'S': '#biotech/biotech_2nd_floor/second_floor_fume_hood_lab_spaces/lab_260_control/hoodvalve_flow'},\n",
       "     'floor': {'S': '2'},\n",
       "     'lab': {'S': '260'},\n",
       "     'hood': {'S': '1'},\n",
       "     'building': {'S': 'biotech'},\n",
       "     'sash_sensor': {'S': '#biotech/biotech_2nd_floor/second_floor_fume_hood_lab_spaces/lab_260_control/hood_sash'}}}}}}"
      ]
     },
     "metadata": {},
     "output_type": "display_data"
    },
    {
     "name": "stdout",
     "output_type": "stream",
     "text": [
      "Buildings:\n"
     ]
    },
    {
     "data": {
      "text/plain": [
       "{'id': {'S': 'buildings'},\n",
       " 'map': {'M': {'Biotech.Floor_4.Lab_457B.Hood_1': {'M': {'external_temp_sensor': {'S': '#biotech/ground_flr_mech/building_hydronic_heating_syatems/reheat_heat_exchanger/oat'}}}}}}"
      ]
     },
     "metadata": {},
     "output_type": "display_data"
    },
    {
     "name": "stdout",
     "output_type": "stream",
     "text": [
      "Labs:\n"
     ]
    },
    {
     "data": {
      "text/plain": [
       "{'id': {'S': 'labs'},\n",
       " 'map': {'M': {'Biotech.Floor_4.Lab_457B.Hood_1': {'M': {'occ_sensor': {'S': '#biotech/biotech_2nd_floor/second_floor_fume_hood_lab_spaces/lab_260_control/occ'},\n",
       "     'internal_temp_sensor': {'S': '#biotech/biotech_2nd_floor/second_floor_fume_hood_lab_spaces/lab_260_control/zone/zone_temp/trend_log'},\n",
       "     'floor': {'S': '2'},\n",
       "     'lab': {'S': '260'},\n",
       "     'building': {'S': 'biotech'}}}}}}"
      ]
     },
     "metadata": {},
     "output_type": "display_data"
    },
    {
     "name": "stdout",
     "output_type": "stream",
     "text": [
      "Occupants:\n"
     ]
    },
    {
     "data": {
      "text/plain": [
       "{'id': {'S': 'occupants'},\n",
       " 'map': {'M': {'rf377@cornell.edu': {'M': {'name': {'S': 'Reid Fleishman'},\n",
       "     'lab': {'S': 'Biotech.Floor_3.Lab_317'}}}}}}"
      ]
     },
     "metadata": {},
     "output_type": "display_data"
    },
    {
     "name": "stdout",
     "output_type": "stream",
     "text": [
      "None\n",
      "None\n",
      "None\n",
      "None\n",
      "Hoods:\n"
     ]
    },
    {
     "data": {
      "text/plain": [
       "{'id': {'S': 'hoods'},\n",
       " 'map': {'M': {'Biotech.Floor_4.Lab_457B.Hood_1': {'M': {'flow_sensor': {'S': '#biotech/biotech_2nd_floor/second_floor_fume_hood_lab_spaces/lab_260b_control/hoodvalve_flow'},\n",
       "     'floor': {'S': '2'},\n",
       "     'lab': {'S': '260B'},\n",
       "     'hood': {'S': '1'},\n",
       "     'building': {'S': 'biotech'},\n",
       "     'sash_sensor': {'S': '#biotech/biotech_2nd_floor/second_floor_fume_hood_lab_spaces/lab_260b_control/hood_sash'}}}}}}"
      ]
     },
     "metadata": {},
     "output_type": "display_data"
    },
    {
     "name": "stdout",
     "output_type": "stream",
     "text": [
      "Buildings:\n"
     ]
    },
    {
     "data": {
      "text/plain": [
       "{'id': {'S': 'buildings'},\n",
       " 'map': {'M': {'Biotech.Floor_4.Lab_457B.Hood_1': {'M': {'external_temp_sensor': {'S': '#biotech/ground_flr_mech/building_hydronic_heating_syatems/reheat_heat_exchanger/oat'}}}}}}"
      ]
     },
     "metadata": {},
     "output_type": "display_data"
    },
    {
     "name": "stdout",
     "output_type": "stream",
     "text": [
      "Labs:\n"
     ]
    },
    {
     "data": {
      "text/plain": [
       "{'id': {'S': 'labs'},\n",
       " 'map': {'M': {'Biotech.Floor_4.Lab_457B.Hood_1': {'M': {'occ_sensor': {'S': '#biotech/biotech_2nd_floor/second_floor_fume_hood_lab_spaces/lab_260b_control/occ'},\n",
       "     'internal_temp_sensor': {'S': '#biotech/biotech_2nd_floor/second_floor_fume_hood_lab_spaces/lab_260b_control/zone/zone_temp/trend_log'},\n",
       "     'floor': {'S': '2'},\n",
       "     'lab': {'S': '260B'},\n",
       "     'building': {'S': 'biotech'}}}}}}"
      ]
     },
     "metadata": {},
     "output_type": "display_data"
    },
    {
     "name": "stdout",
     "output_type": "stream",
     "text": [
      "Occupants:\n"
     ]
    },
    {
     "data": {
      "text/plain": [
       "{'id': {'S': 'occupants'},\n",
       " 'map': {'M': {'rf377@cornell.edu': {'M': {'name': {'S': 'Reid Fleishman'},\n",
       "     'lab': {'S': 'Biotech.Floor_3.Lab_317'}}}}}}"
      ]
     },
     "metadata": {},
     "output_type": "display_data"
    },
    {
     "name": "stdout",
     "output_type": "stream",
     "text": [
      "None\n",
      "None\n",
      "None\n",
      "None\n",
      "Hoods:\n"
     ]
    },
    {
     "data": {
      "text/plain": [
       "{'id': {'S': 'hoods'},\n",
       " 'map': {'M': {'Biotech.Floor_4.Lab_457B.Hood_1': {'M': {'flow_sensor': {'S': '#biotech/biotech_2nd_floor/second_floor_fume_hood_lab_spaces/lab_267_control/hoodvalve_flow'},\n",
       "     'floor': {'S': '2'},\n",
       "     'lab': {'S': '267'},\n",
       "     'hood': {'S': '1'},\n",
       "     'building': {'S': 'biotech'},\n",
       "     'sash_sensor': {'S': '#biotech/biotech_2nd_floor/second_floor_fume_hood_lab_spaces/lab_267_control/hood_sash'}}}}}}"
      ]
     },
     "metadata": {},
     "output_type": "display_data"
    },
    {
     "name": "stdout",
     "output_type": "stream",
     "text": [
      "Buildings:\n"
     ]
    },
    {
     "data": {
      "text/plain": [
       "{'id': {'S': 'buildings'},\n",
       " 'map': {'M': {'Biotech.Floor_4.Lab_457B.Hood_1': {'M': {'external_temp_sensor': {'S': '#biotech/ground_flr_mech/building_hydronic_heating_syatems/reheat_heat_exchanger/oat'}}}}}}"
      ]
     },
     "metadata": {},
     "output_type": "display_data"
    },
    {
     "name": "stdout",
     "output_type": "stream",
     "text": [
      "Labs:\n"
     ]
    },
    {
     "data": {
      "text/plain": [
       "{'id': {'S': 'labs'},\n",
       " 'map': {'M': {'Biotech.Floor_4.Lab_457B.Hood_1': {'M': {'occ_sensor': {'S': '#biotech/biotech_2nd_floor/second_floor_fume_hood_lab_spaces/lab_267_control/occ'},\n",
       "     'internal_temp_sensor': {'S': '#biotech/biotech_2nd_floor/second_floor_fume_hood_lab_spaces/lab_267_control/zone/zone_temp/trend_log'},\n",
       "     'floor': {'S': '2'},\n",
       "     'lab': {'S': '267'},\n",
       "     'building': {'S': 'biotech'}}}}}}"
      ]
     },
     "metadata": {},
     "output_type": "display_data"
    },
    {
     "name": "stdout",
     "output_type": "stream",
     "text": [
      "Occupants:\n"
     ]
    },
    {
     "data": {
      "text/plain": [
       "{'id': {'S': 'occupants'},\n",
       " 'map': {'M': {'rf377@cornell.edu': {'M': {'name': {'S': 'Reid Fleishman'},\n",
       "     'lab': {'S': 'Biotech.Floor_3.Lab_317'}}}}}}"
      ]
     },
     "metadata": {},
     "output_type": "display_data"
    },
    {
     "name": "stdout",
     "output_type": "stream",
     "text": [
      "None\n",
      "None\n",
      "None\n",
      "None\n",
      "Hoods:\n"
     ]
    },
    {
     "data": {
      "text/plain": [
       "{'id': {'S': 'hoods'},\n",
       " 'map': {'M': {'Biotech.Floor_4.Lab_457B.Hood_1': {'M': {'flow_sensor': {'S': '#biotech/biotech_2nd_floor/second_floor_fume_hood_lab_spaces/lab_267b_control/hoodvalve_flow'},\n",
       "     'floor': {'S': '2'},\n",
       "     'lab': {'S': '267B'},\n",
       "     'hood': {'S': '1'},\n",
       "     'building': {'S': 'biotech'},\n",
       "     'sash_sensor': {'S': '#biotech/biotech_2nd_floor/second_floor_fume_hood_lab_spaces/lab_267b_control/hood_sash'}}}}}}"
      ]
     },
     "metadata": {},
     "output_type": "display_data"
    },
    {
     "name": "stdout",
     "output_type": "stream",
     "text": [
      "Buildings:\n"
     ]
    },
    {
     "data": {
      "text/plain": [
       "{'id': {'S': 'buildings'},\n",
       " 'map': {'M': {'Biotech.Floor_4.Lab_457B.Hood_1': {'M': {'external_temp_sensor': {'S': '#biotech/ground_flr_mech/building_hydronic_heating_syatems/reheat_heat_exchanger/oat'}}}}}}"
      ]
     },
     "metadata": {},
     "output_type": "display_data"
    },
    {
     "name": "stdout",
     "output_type": "stream",
     "text": [
      "Labs:\n"
     ]
    },
    {
     "data": {
      "text/plain": [
       "{'id': {'S': 'labs'},\n",
       " 'map': {'M': {'Biotech.Floor_4.Lab_457B.Hood_1': {'M': {'occ_sensor': {'S': '#biotech/biotech_2nd_floor/second_floor_fume_hood_lab_spaces/lab_267b_control/occ'},\n",
       "     'internal_temp_sensor': {'S': '#biotech/biotech_2nd_floor/second_floor_fume_hood_lab_spaces/lab_267b_control/zone/zone_temp/trend_log'},\n",
       "     'floor': {'S': '2'},\n",
       "     'lab': {'S': '267B'},\n",
       "     'building': {'S': 'biotech'}}}}}}"
      ]
     },
     "metadata": {},
     "output_type": "display_data"
    },
    {
     "name": "stdout",
     "output_type": "stream",
     "text": [
      "Occupants:\n"
     ]
    },
    {
     "data": {
      "text/plain": [
       "{'id': {'S': 'occupants'},\n",
       " 'map': {'M': {'rf377@cornell.edu': {'M': {'name': {'S': 'Reid Fleishman'},\n",
       "     'lab': {'S': 'Biotech.Floor_3.Lab_317'}}}}}}"
      ]
     },
     "metadata": {},
     "output_type": "display_data"
    },
    {
     "name": "stdout",
     "output_type": "stream",
     "text": [
      "None\n",
      "None\n",
      "None\n",
      "None\n",
      "Hoods:\n"
     ]
    },
    {
     "data": {
      "text/plain": [
       "{'id': {'S': 'hoods'},\n",
       " 'map': {'M': {'Biotech.Floor_4.Lab_457B.Hood_1': {'M': {'flow_sensor': {'S': '#biotech/biotech_3rd_floor/third_floor_fume_hood_lab_spaces/lab_303_control/hoodvalve_flow'},\n",
       "     'floor': {'S': '3'},\n",
       "     'lab': {'S': '303'},\n",
       "     'hood': {'S': '1'},\n",
       "     'building': {'S': 'biotech'},\n",
       "     'sash_sensor': {'S': '#biotech/biotech_3rd_floor/third_floor_fume_hood_lab_spaces/lab_303_control/hood_sash'}}}}}}"
      ]
     },
     "metadata": {},
     "output_type": "display_data"
    },
    {
     "name": "stdout",
     "output_type": "stream",
     "text": [
      "Buildings:\n"
     ]
    },
    {
     "data": {
      "text/plain": [
       "{'id': {'S': 'buildings'},\n",
       " 'map': {'M': {'Biotech.Floor_4.Lab_457B.Hood_1': {'M': {'external_temp_sensor': {'S': '#biotech/ground_flr_mech/building_hydronic_heating_syatems/reheat_heat_exchanger/oat'}}}}}}"
      ]
     },
     "metadata": {},
     "output_type": "display_data"
    },
    {
     "name": "stdout",
     "output_type": "stream",
     "text": [
      "Labs:\n"
     ]
    },
    {
     "data": {
      "text/plain": [
       "{'id': {'S': 'labs'},\n",
       " 'map': {'M': {'Biotech.Floor_4.Lab_457B.Hood_1': {'M': {'occ_sensor': {'S': '#biotech/biotech_3rd_floor/third_floor_fume_hood_lab_spaces/lab_303_control/occ'},\n",
       "     'internal_temp_sensor': {'S': '#biotech/biotech_3rd_floor/third_floor_fume_hood_lab_spaces/lab_303_control/zone/zone_temp/trend_log'},\n",
       "     'floor': {'S': '3'},\n",
       "     'lab': {'S': '303'},\n",
       "     'building': {'S': 'biotech'}}}}}}"
      ]
     },
     "metadata": {},
     "output_type": "display_data"
    },
    {
     "name": "stdout",
     "output_type": "stream",
     "text": [
      "Occupants:\n"
     ]
    },
    {
     "data": {
      "text/plain": [
       "{'id': {'S': 'occupants'},\n",
       " 'map': {'M': {'rf377@cornell.edu': {'M': {'name': {'S': 'Reid Fleishman'},\n",
       "     'lab': {'S': 'Biotech.Floor_3.Lab_317'}}}}}}"
      ]
     },
     "metadata": {},
     "output_type": "display_data"
    },
    {
     "name": "stdout",
     "output_type": "stream",
     "text": [
      "None\n",
      "None\n",
      "None\n",
      "None\n",
      "Hoods:\n"
     ]
    },
    {
     "data": {
      "text/plain": [
       "{'id': {'S': 'hoods'},\n",
       " 'map': {'M': {'Biotech.Floor_4.Lab_457B.Hood_1': {'M': {'flow_sensor': {'S': '#biotech/biotech_3rd_floor/third_floor_fume_hood_lab_spaces/lab_303b_control/hoodvalve_flow'},\n",
       "     'floor': {'S': '3'},\n",
       "     'lab': {'S': '303B'},\n",
       "     'hood': {'S': '1'},\n",
       "     'building': {'S': 'biotech'},\n",
       "     'sash_sensor': {'S': '#biotech/biotech_3rd_floor/third_floor_fume_hood_lab_spaces/lab_303b_control/hood_sash'}}}}}}"
      ]
     },
     "metadata": {},
     "output_type": "display_data"
    },
    {
     "name": "stdout",
     "output_type": "stream",
     "text": [
      "Buildings:\n"
     ]
    },
    {
     "data": {
      "text/plain": [
       "{'id': {'S': 'buildings'},\n",
       " 'map': {'M': {'Biotech.Floor_4.Lab_457B.Hood_1': {'M': {'external_temp_sensor': {'S': '#biotech/ground_flr_mech/building_hydronic_heating_syatems/reheat_heat_exchanger/oat'}}}}}}"
      ]
     },
     "metadata": {},
     "output_type": "display_data"
    },
    {
     "name": "stdout",
     "output_type": "stream",
     "text": [
      "Labs:\n"
     ]
    },
    {
     "data": {
      "text/plain": [
       "{'id': {'S': 'labs'},\n",
       " 'map': {'M': {'Biotech.Floor_4.Lab_457B.Hood_1': {'M': {'occ_sensor': {'S': '#biotech/biotech_3rd_floor/third_floor_fume_hood_lab_spaces/lab_303b_control/occ'},\n",
       "     'internal_temp_sensor': {'S': '#biotech/biotech_3rd_floor/third_floor_fume_hood_lab_spaces/lab_303b_control/zone/zone_temp/trend_log'},\n",
       "     'floor': {'S': '3'},\n",
       "     'lab': {'S': '303B'},\n",
       "     'building': {'S': 'biotech'}}}}}}"
      ]
     },
     "metadata": {},
     "output_type": "display_data"
    },
    {
     "name": "stdout",
     "output_type": "stream",
     "text": [
      "Occupants:\n"
     ]
    },
    {
     "data": {
      "text/plain": [
       "{'id': {'S': 'occupants'},\n",
       " 'map': {'M': {'rf377@cornell.edu': {'M': {'name': {'S': 'Reid Fleishman'},\n",
       "     'lab': {'S': 'Biotech.Floor_3.Lab_317'}}}}}}"
      ]
     },
     "metadata": {},
     "output_type": "display_data"
    },
    {
     "name": "stdout",
     "output_type": "stream",
     "text": [
      "None\n",
      "None\n",
      "None\n",
      "None\n",
      "Hoods:\n"
     ]
    },
    {
     "data": {
      "text/plain": [
       "{'id': {'S': 'hoods'},\n",
       " 'map': {'M': {'Biotech.Floor_4.Lab_457B.Hood_1': {'M': {'flow_sensor': {'S': '#biotech/biotech_3rd_floor/third_floor_fume_hood_lab_spaces/lab_309_control/hoodvalve_flow'},\n",
       "     'floor': {'S': '3'},\n",
       "     'lab': {'S': '309'},\n",
       "     'hood': {'S': '1'},\n",
       "     'building': {'S': 'biotech'},\n",
       "     'sash_sensor': {'S': '#biotech/biotech_3rd_floor/third_floor_fume_hood_lab_spaces/lab_309_control/hood_sash'}}}}}}"
      ]
     },
     "metadata": {},
     "output_type": "display_data"
    },
    {
     "name": "stdout",
     "output_type": "stream",
     "text": [
      "Buildings:\n"
     ]
    },
    {
     "data": {
      "text/plain": [
       "{'id': {'S': 'buildings'},\n",
       " 'map': {'M': {'Biotech.Floor_4.Lab_457B.Hood_1': {'M': {'external_temp_sensor': {'S': '#biotech/ground_flr_mech/building_hydronic_heating_syatems/reheat_heat_exchanger/oat'}}}}}}"
      ]
     },
     "metadata": {},
     "output_type": "display_data"
    },
    {
     "name": "stdout",
     "output_type": "stream",
     "text": [
      "Labs:\n"
     ]
    },
    {
     "data": {
      "text/plain": [
       "{'id': {'S': 'labs'},\n",
       " 'map': {'M': {'Biotech.Floor_4.Lab_457B.Hood_1': {'M': {'occ_sensor': {'S': '#biotech/biotech_3rd_floor/third_floor_fume_hood_lab_spaces/lab_309_control/occ'},\n",
       "     'internal_temp_sensor': {'S': '#biotech/biotech_3rd_floor/third_floor_fume_hood_lab_spaces/lab_309_control/zone/zone_temp/trend_log'},\n",
       "     'floor': {'S': '3'},\n",
       "     'lab': {'S': '309'},\n",
       "     'building': {'S': 'biotech'}}}}}}"
      ]
     },
     "metadata": {},
     "output_type": "display_data"
    },
    {
     "name": "stdout",
     "output_type": "stream",
     "text": [
      "Occupants:\n"
     ]
    },
    {
     "data": {
      "text/plain": [
       "{'id': {'S': 'occupants'},\n",
       " 'map': {'M': {'rf377@cornell.edu': {'M': {'name': {'S': 'Reid Fleishman'},\n",
       "     'lab': {'S': 'Biotech.Floor_3.Lab_317'}}}}}}"
      ]
     },
     "metadata": {},
     "output_type": "display_data"
    },
    {
     "name": "stdout",
     "output_type": "stream",
     "text": [
      "None\n",
      "None\n",
      "None\n",
      "None\n",
      "Hoods:\n"
     ]
    },
    {
     "data": {
      "text/plain": [
       "{'id': {'S': 'hoods'},\n",
       " 'map': {'M': {'Biotech.Floor_4.Lab_457B.Hood_1': {'M': {'flow_sensor': {'S': '#biotech/biotech_3rd_floor/third_floor_fume_hood_lab_spaces/lab_309b_control/hoodvalve_flow'},\n",
       "     'floor': {'S': '3'},\n",
       "     'lab': {'S': '309B'},\n",
       "     'hood': {'S': '1'},\n",
       "     'building': {'S': 'biotech'},\n",
       "     'sash_sensor': {'S': '#biotech/biotech_3rd_floor/third_floor_fume_hood_lab_spaces/lab_309b_control/hood_sash'}}}}}}"
      ]
     },
     "metadata": {},
     "output_type": "display_data"
    },
    {
     "name": "stdout",
     "output_type": "stream",
     "text": [
      "Buildings:\n"
     ]
    },
    {
     "data": {
      "text/plain": [
       "{'id': {'S': 'buildings'},\n",
       " 'map': {'M': {'Biotech.Floor_4.Lab_457B.Hood_1': {'M': {'external_temp_sensor': {'S': '#biotech/ground_flr_mech/building_hydronic_heating_syatems/reheat_heat_exchanger/oat'}}}}}}"
      ]
     },
     "metadata": {},
     "output_type": "display_data"
    },
    {
     "name": "stdout",
     "output_type": "stream",
     "text": [
      "Labs:\n"
     ]
    },
    {
     "data": {
      "text/plain": [
       "{'id': {'S': 'labs'},\n",
       " 'map': {'M': {'Biotech.Floor_4.Lab_457B.Hood_1': {'M': {'occ_sensor': {'S': '#biotech/biotech_3rd_floor/third_floor_fume_hood_lab_spaces/lab_309b_control/occ'},\n",
       "     'internal_temp_sensor': {'S': '#biotech/biotech_3rd_floor/third_floor_fume_hood_lab_spaces/lab_309b_control/zone/zone_temp/trend_log'},\n",
       "     'floor': {'S': '3'},\n",
       "     'lab': {'S': '309B'},\n",
       "     'building': {'S': 'biotech'}}}}}}"
      ]
     },
     "metadata": {},
     "output_type": "display_data"
    },
    {
     "name": "stdout",
     "output_type": "stream",
     "text": [
      "Occupants:\n"
     ]
    },
    {
     "data": {
      "text/plain": [
       "{'id': {'S': 'occupants'},\n",
       " 'map': {'M': {'rf377@cornell.edu': {'M': {'name': {'S': 'Reid Fleishman'},\n",
       "     'lab': {'S': 'Biotech.Floor_3.Lab_317'}}}}}}"
      ]
     },
     "metadata": {},
     "output_type": "display_data"
    },
    {
     "name": "stdout",
     "output_type": "stream",
     "text": [
      "None\n",
      "None\n",
      "None\n",
      "None\n",
      "Hoods:\n"
     ]
    },
    {
     "data": {
      "text/plain": [
       "{'id': {'S': 'hoods'},\n",
       " 'map': {'M': {'Biotech.Floor_4.Lab_457B.Hood_1': {'M': {'flow_sensor': {'S': '#biotech/biotech_3rd_floor/third_floor_fume_hood_lab_spaces/lab_317_control/hoodvalve_flow'},\n",
       "     'floor': {'S': '3'},\n",
       "     'lab': {'S': '317'},\n",
       "     'hood': {'S': '1'},\n",
       "     'building': {'S': 'biotech'},\n",
       "     'sash_sensor': {'S': '#biotech/biotech_3rd_floor/third_floor_fume_hood_lab_spaces/lab_317_control/hood_sash'}}}}}}"
      ]
     },
     "metadata": {},
     "output_type": "display_data"
    },
    {
     "name": "stdout",
     "output_type": "stream",
     "text": [
      "Buildings:\n"
     ]
    },
    {
     "data": {
      "text/plain": [
       "{'id': {'S': 'buildings'},\n",
       " 'map': {'M': {'Biotech.Floor_4.Lab_457B.Hood_1': {'M': {'external_temp_sensor': {'S': '#biotech/ground_flr_mech/building_hydronic_heating_syatems/reheat_heat_exchanger/oat'}}}}}}"
      ]
     },
     "metadata": {},
     "output_type": "display_data"
    },
    {
     "name": "stdout",
     "output_type": "stream",
     "text": [
      "Labs:\n"
     ]
    },
    {
     "data": {
      "text/plain": [
       "{'id': {'S': 'labs'},\n",
       " 'map': {'M': {'Biotech.Floor_4.Lab_457B.Hood_1': {'M': {'occ_sensor': {'S': '#biotech/biotech_3rd_floor/third_floor_fume_hood_lab_spaces/lab_317_control/occ'},\n",
       "     'internal_temp_sensor': {'S': '#biotech/biotech_3rd_floor/third_floor_fume_hood_lab_spaces/lab_317_control/zone/zone_temp/trend_log'},\n",
       "     'floor': {'S': '3'},\n",
       "     'lab': {'S': '317'},\n",
       "     'building': {'S': 'biotech'}}}}}}"
      ]
     },
     "metadata": {},
     "output_type": "display_data"
    },
    {
     "name": "stdout",
     "output_type": "stream",
     "text": [
      "Occupants:\n"
     ]
    },
    {
     "data": {
      "text/plain": [
       "{'id': {'S': 'occupants'},\n",
       " 'map': {'M': {'rf377@cornell.edu': {'M': {'name': {'S': 'Reid Fleishman'},\n",
       "     'lab': {'S': 'Biotech.Floor_3.Lab_317'}}}}}}"
      ]
     },
     "metadata": {},
     "output_type": "display_data"
    },
    {
     "name": "stdout",
     "output_type": "stream",
     "text": [
      "None\n",
      "None\n",
      "None\n",
      "None\n",
      "Hoods:\n"
     ]
    },
    {
     "data": {
      "text/plain": [
       "{'id': {'S': 'hoods'},\n",
       " 'map': {'M': {'Biotech.Floor_4.Lab_457B.Hood_1': {'M': {'flow_sensor': {'S': '#biotech/biotech_3rd_floor/third_floor_fume_hood_lab_spaces/lab_317b_control/hoodvalve_flow'},\n",
       "     'floor': {'S': '3'},\n",
       "     'lab': {'S': '317B'},\n",
       "     'hood': {'S': '1'},\n",
       "     'building': {'S': 'biotech'},\n",
       "     'sash_sensor': {'S': '#biotech/biotech_3rd_floor/third_floor_fume_hood_lab_spaces/lab_317b_control/hood_sash'}}}}}}"
      ]
     },
     "metadata": {},
     "output_type": "display_data"
    },
    {
     "name": "stdout",
     "output_type": "stream",
     "text": [
      "Buildings:\n"
     ]
    },
    {
     "data": {
      "text/plain": [
       "{'id': {'S': 'buildings'},\n",
       " 'map': {'M': {'Biotech.Floor_4.Lab_457B.Hood_1': {'M': {'external_temp_sensor': {'S': '#biotech/ground_flr_mech/building_hydronic_heating_syatems/reheat_heat_exchanger/oat'}}}}}}"
      ]
     },
     "metadata": {},
     "output_type": "display_data"
    },
    {
     "name": "stdout",
     "output_type": "stream",
     "text": [
      "Labs:\n"
     ]
    },
    {
     "data": {
      "text/plain": [
       "{'id': {'S': 'labs'},\n",
       " 'map': {'M': {'Biotech.Floor_4.Lab_457B.Hood_1': {'M': {'occ_sensor': {'S': '#biotech/biotech_3rd_floor/third_floor_fume_hood_lab_spaces/lab_317b_control/occ'},\n",
       "     'internal_temp_sensor': {'S': '#biotech/biotech_3rd_floor/third_floor_fume_hood_lab_spaces/lab_317b_control/zone/zone_temp/trend_log'},\n",
       "     'floor': {'S': '3'},\n",
       "     'lab': {'S': '317B'},\n",
       "     'building': {'S': 'biotech'}}}}}}"
      ]
     },
     "metadata": {},
     "output_type": "display_data"
    },
    {
     "name": "stdout",
     "output_type": "stream",
     "text": [
      "Occupants:\n"
     ]
    },
    {
     "data": {
      "text/plain": [
       "{'id': {'S': 'occupants'},\n",
       " 'map': {'M': {'rf377@cornell.edu': {'M': {'name': {'S': 'Reid Fleishman'},\n",
       "     'lab': {'S': 'Biotech.Floor_3.Lab_317'}}}}}}"
      ]
     },
     "metadata": {},
     "output_type": "display_data"
    },
    {
     "name": "stdout",
     "output_type": "stream",
     "text": [
      "None\n",
      "None\n",
      "None\n",
      "None\n",
      "Hoods:\n"
     ]
    },
    {
     "data": {
      "text/plain": [
       "{'id': {'S': 'hoods'},\n",
       " 'map': {'M': {'Biotech.Floor_4.Lab_457B.Hood_1': {'M': {'flow_sensor': {'S': '#biotech/biotech_3rd_floor/third_floor_fume_hood_lab_spaces/lab_318_control/hoodvalve_flow'},\n",
       "     'floor': {'S': '3'},\n",
       "     'lab': {'S': '318'},\n",
       "     'hood': {'S': '1'},\n",
       "     'building': {'S': 'biotech'},\n",
       "     'sash_sensor': {'S': '#biotech/biotech_3rd_floor/third_floor_fume_hood_lab_spaces/lab_318_control/hood_sash'}}}}}}"
      ]
     },
     "metadata": {},
     "output_type": "display_data"
    },
    {
     "name": "stdout",
     "output_type": "stream",
     "text": [
      "Buildings:\n"
     ]
    },
    {
     "data": {
      "text/plain": [
       "{'id': {'S': 'buildings'},\n",
       " 'map': {'M': {'Biotech.Floor_4.Lab_457B.Hood_1': {'M': {'external_temp_sensor': {'S': '#biotech/ground_flr_mech/building_hydronic_heating_syatems/reheat_heat_exchanger/oat'}}}}}}"
      ]
     },
     "metadata": {},
     "output_type": "display_data"
    },
    {
     "name": "stdout",
     "output_type": "stream",
     "text": [
      "Labs:\n"
     ]
    },
    {
     "data": {
      "text/plain": [
       "{'id': {'S': 'labs'},\n",
       " 'map': {'M': {'Biotech.Floor_4.Lab_457B.Hood_1': {'M': {'occ_sensor': {'S': '#biotech/biotech_3rd_floor/third_floor_fume_hood_lab_spaces/lab_318_control/occ'},\n",
       "     'internal_temp_sensor': {'S': '#biotech/biotech_3rd_floor/third_floor_fume_hood_lab_spaces/lab_318_control/zone/zone_temp/trend_log'},\n",
       "     'floor': {'S': '3'},\n",
       "     'lab': {'S': '318'},\n",
       "     'building': {'S': 'biotech'}}}}}}"
      ]
     },
     "metadata": {},
     "output_type": "display_data"
    },
    {
     "name": "stdout",
     "output_type": "stream",
     "text": [
      "Occupants:\n"
     ]
    },
    {
     "data": {
      "text/plain": [
       "{'id': {'S': 'occupants'},\n",
       " 'map': {'M': {'rf377@cornell.edu': {'M': {'name': {'S': 'Reid Fleishman'},\n",
       "     'lab': {'S': 'Biotech.Floor_3.Lab_317'}}}}}}"
      ]
     },
     "metadata": {},
     "output_type": "display_data"
    },
    {
     "name": "stdout",
     "output_type": "stream",
     "text": [
      "None\n",
      "None\n",
      "None\n",
      "None\n",
      "Hoods:\n"
     ]
    },
    {
     "data": {
      "text/plain": [
       "{'id': {'S': 'hoods'},\n",
       " 'map': {'M': {'Biotech.Floor_4.Lab_457B.Hood_1': {'M': {'flow_sensor': {'S': '#biotech/biotech_3rd_floor/third_floor_fume_hood_lab_spaces/lab_321_control/hoodvalve_flow'},\n",
       "     'floor': {'S': '3'},\n",
       "     'lab': {'S': '321'},\n",
       "     'hood': {'S': '1'},\n",
       "     'building': {'S': 'biotech'},\n",
       "     'sash_sensor': {'S': '#biotech/biotech_3rd_floor/third_floor_fume_hood_lab_spaces/lab_321_control/hood_sash'}}}}}}"
      ]
     },
     "metadata": {},
     "output_type": "display_data"
    },
    {
     "name": "stdout",
     "output_type": "stream",
     "text": [
      "Buildings:\n"
     ]
    },
    {
     "data": {
      "text/plain": [
       "{'id': {'S': 'buildings'},\n",
       " 'map': {'M': {'Biotech.Floor_4.Lab_457B.Hood_1': {'M': {'external_temp_sensor': {'S': '#biotech/ground_flr_mech/building_hydronic_heating_syatems/reheat_heat_exchanger/oat'}}}}}}"
      ]
     },
     "metadata": {},
     "output_type": "display_data"
    },
    {
     "name": "stdout",
     "output_type": "stream",
     "text": [
      "Labs:\n"
     ]
    },
    {
     "data": {
      "text/plain": [
       "{'id': {'S': 'labs'},\n",
       " 'map': {'M': {'Biotech.Floor_4.Lab_457B.Hood_1': {'M': {'occ_sensor': {'S': '#biotech/biotech_3rd_floor/third_floor_fume_hood_lab_spaces/lab_321_control/occ'},\n",
       "     'internal_temp_sensor': {'S': '#biotech/biotech_3rd_floor/third_floor_fume_hood_lab_spaces/lab_321_control/zone/zone_temp/trend_log'},\n",
       "     'floor': {'S': '3'},\n",
       "     'lab': {'S': '321'},\n",
       "     'building': {'S': 'biotech'}}}}}}"
      ]
     },
     "metadata": {},
     "output_type": "display_data"
    },
    {
     "name": "stdout",
     "output_type": "stream",
     "text": [
      "Occupants:\n"
     ]
    },
    {
     "data": {
      "text/plain": [
       "{'id': {'S': 'occupants'},\n",
       " 'map': {'M': {'rf377@cornell.edu': {'M': {'name': {'S': 'Reid Fleishman'},\n",
       "     'lab': {'S': 'Biotech.Floor_3.Lab_317'}}}}}}"
      ]
     },
     "metadata": {},
     "output_type": "display_data"
    },
    {
     "name": "stdout",
     "output_type": "stream",
     "text": [
      "None\n",
      "None\n",
      "None\n",
      "None\n",
      "Hoods:\n"
     ]
    },
    {
     "data": {
      "text/plain": [
       "{'id': {'S': 'hoods'},\n",
       " 'map': {'M': {'Biotech.Floor_4.Lab_457B.Hood_1': {'M': {'flow_sensor': {'S': '#biotech/biotech_3rd_floor/third_floor_fume_hood_lab_spaces/lab_321b_control/hoodvalve_flow'},\n",
       "     'floor': {'S': '3'},\n",
       "     'lab': {'S': '321B'},\n",
       "     'hood': {'S': '1'},\n",
       "     'building': {'S': 'biotech'},\n",
       "     'sash_sensor': {'S': '#biotech/biotech_3rd_floor/third_floor_fume_hood_lab_spaces/lab_321b_control/hood_sash'}}}}}}"
      ]
     },
     "metadata": {},
     "output_type": "display_data"
    },
    {
     "name": "stdout",
     "output_type": "stream",
     "text": [
      "Buildings:\n"
     ]
    },
    {
     "data": {
      "text/plain": [
       "{'id': {'S': 'buildings'},\n",
       " 'map': {'M': {'Biotech.Floor_4.Lab_457B.Hood_1': {'M': {'external_temp_sensor': {'S': '#biotech/ground_flr_mech/building_hydronic_heating_syatems/reheat_heat_exchanger/oat'}}}}}}"
      ]
     },
     "metadata": {},
     "output_type": "display_data"
    },
    {
     "name": "stdout",
     "output_type": "stream",
     "text": [
      "Labs:\n"
     ]
    },
    {
     "data": {
      "text/plain": [
       "{'id': {'S': 'labs'},\n",
       " 'map': {'M': {'Biotech.Floor_4.Lab_457B.Hood_1': {'M': {'occ_sensor': {'S': '#biotech/biotech_3rd_floor/third_floor_fume_hood_lab_spaces/lab_321b_control/occ'},\n",
       "     'internal_temp_sensor': {'S': '#biotech/biotech_3rd_floor/third_floor_fume_hood_lab_spaces/lab_321b_control/zone/zone_temp/trend_log'},\n",
       "     'floor': {'S': '3'},\n",
       "     'lab': {'S': '321B'},\n",
       "     'building': {'S': 'biotech'}}}}}}"
      ]
     },
     "metadata": {},
     "output_type": "display_data"
    },
    {
     "name": "stdout",
     "output_type": "stream",
     "text": [
      "Occupants:\n"
     ]
    },
    {
     "data": {
      "text/plain": [
       "{'id': {'S': 'occupants'},\n",
       " 'map': {'M': {'rf377@cornell.edu': {'M': {'name': {'S': 'Reid Fleishman'},\n",
       "     'lab': {'S': 'Biotech.Floor_3.Lab_317'}}}}}}"
      ]
     },
     "metadata": {},
     "output_type": "display_data"
    },
    {
     "name": "stdout",
     "output_type": "stream",
     "text": [
      "None\n",
      "None\n",
      "None\n",
      "None\n",
      "Hoods:\n"
     ]
    },
    {
     "data": {
      "text/plain": [
       "{'id': {'S': 'hoods'},\n",
       " 'map': {'M': {'Biotech.Floor_4.Lab_457B.Hood_1': {'M': {'flow_sensor': {'S': '#biotech/biotech_3rd_floor/third_floor_fume_hood_lab_spaces/lab_327_control/hoodvalve_flow'},\n",
       "     'floor': {'S': '3'},\n",
       "     'lab': {'S': '327'},\n",
       "     'hood': {'S': '1'},\n",
       "     'building': {'S': 'biotech'},\n",
       "     'sash_sensor': {'S': '#biotech/biotech_3rd_floor/third_floor_fume_hood_lab_spaces/lab_327_control/hood_sash'}}}}}}"
      ]
     },
     "metadata": {},
     "output_type": "display_data"
    },
    {
     "name": "stdout",
     "output_type": "stream",
     "text": [
      "Buildings:\n"
     ]
    },
    {
     "data": {
      "text/plain": [
       "{'id': {'S': 'buildings'},\n",
       " 'map': {'M': {'Biotech.Floor_4.Lab_457B.Hood_1': {'M': {'external_temp_sensor': {'S': '#biotech/ground_flr_mech/building_hydronic_heating_syatems/reheat_heat_exchanger/oat'}}}}}}"
      ]
     },
     "metadata": {},
     "output_type": "display_data"
    },
    {
     "name": "stdout",
     "output_type": "stream",
     "text": [
      "Labs:\n"
     ]
    },
    {
     "data": {
      "text/plain": [
       "{'id': {'S': 'labs'},\n",
       " 'map': {'M': {'Biotech.Floor_4.Lab_457B.Hood_1': {'M': {'occ_sensor': {'S': '#biotech/biotech_3rd_floor/third_floor_fume_hood_lab_spaces/lab_327_control/occ'},\n",
       "     'internal_temp_sensor': {'S': '#biotech/biotech_3rd_floor/third_floor_fume_hood_lab_spaces/lab_327_control/zone/zone_temp/trend_log'},\n",
       "     'floor': {'S': '3'},\n",
       "     'lab': {'S': '327'},\n",
       "     'building': {'S': 'biotech'}}}}}}"
      ]
     },
     "metadata": {},
     "output_type": "display_data"
    },
    {
     "name": "stdout",
     "output_type": "stream",
     "text": [
      "Occupants:\n"
     ]
    },
    {
     "data": {
      "text/plain": [
       "{'id': {'S': 'occupants'},\n",
       " 'map': {'M': {'rf377@cornell.edu': {'M': {'name': {'S': 'Reid Fleishman'},\n",
       "     'lab': {'S': 'Biotech.Floor_3.Lab_317'}}}}}}"
      ]
     },
     "metadata": {},
     "output_type": "display_data"
    },
    {
     "name": "stdout",
     "output_type": "stream",
     "text": [
      "None\n",
      "None\n",
      "None\n",
      "None\n",
      "Hoods:\n"
     ]
    },
    {
     "data": {
      "text/plain": [
       "{'id': {'S': 'hoods'},\n",
       " 'map': {'M': {'Biotech.Floor_4.Lab_457B.Hood_1': {'M': {'flow_sensor': {'S': '#biotech/biotech_3rd_floor/third_floor_fume_hood_lab_spaces/lab_327b_control/hoodvalve_flow'},\n",
       "     'floor': {'S': '3'},\n",
       "     'lab': {'S': '327B'},\n",
       "     'hood': {'S': '1'},\n",
       "     'building': {'S': 'biotech'},\n",
       "     'sash_sensor': {'S': '#biotech/biotech_3rd_floor/third_floor_fume_hood_lab_spaces/lab_327b_control/hood_sash'}}}}}}"
      ]
     },
     "metadata": {},
     "output_type": "display_data"
    },
    {
     "name": "stdout",
     "output_type": "stream",
     "text": [
      "Buildings:\n"
     ]
    },
    {
     "data": {
      "text/plain": [
       "{'id': {'S': 'buildings'},\n",
       " 'map': {'M': {'Biotech.Floor_4.Lab_457B.Hood_1': {'M': {'external_temp_sensor': {'S': '#biotech/ground_flr_mech/building_hydronic_heating_syatems/reheat_heat_exchanger/oat'}}}}}}"
      ]
     },
     "metadata": {},
     "output_type": "display_data"
    },
    {
     "name": "stdout",
     "output_type": "stream",
     "text": [
      "Labs:\n"
     ]
    },
    {
     "data": {
      "text/plain": [
       "{'id': {'S': 'labs'},\n",
       " 'map': {'M': {'Biotech.Floor_4.Lab_457B.Hood_1': {'M': {'occ_sensor': {'S': '#biotech/biotech_3rd_floor/third_floor_fume_hood_lab_spaces/lab_327b_control/occ'},\n",
       "     'internal_temp_sensor': {'S': '#biotech/biotech_3rd_floor/third_floor_fume_hood_lab_spaces/lab_327b_control/zone/zone_temp/trend_log'},\n",
       "     'floor': {'S': '3'},\n",
       "     'lab': {'S': '327B'},\n",
       "     'building': {'S': 'biotech'}}}}}}"
      ]
     },
     "metadata": {},
     "output_type": "display_data"
    },
    {
     "name": "stdout",
     "output_type": "stream",
     "text": [
      "Occupants:\n"
     ]
    },
    {
     "data": {
      "text/plain": [
       "{'id': {'S': 'occupants'},\n",
       " 'map': {'M': {'rf377@cornell.edu': {'M': {'name': {'S': 'Reid Fleishman'},\n",
       "     'lab': {'S': 'Biotech.Floor_3.Lab_317'}}}}}}"
      ]
     },
     "metadata": {},
     "output_type": "display_data"
    },
    {
     "name": "stdout",
     "output_type": "stream",
     "text": [
      "None\n",
      "None\n",
      "None\n",
      "None\n",
      "Hoods:\n"
     ]
    },
    {
     "data": {
      "text/plain": [
       "{'id': {'S': 'hoods'},\n",
       " 'map': {'M': {'Biotech.Floor_4.Lab_457B.Hood_1': {'M': {'flow_sensor': {'S': '#biotech/biotech_3rd_floor/third_floor_fume_hood_lab_spaces/lab_333_control/hoodvalve_flow'},\n",
       "     'floor': {'S': '3'},\n",
       "     'lab': {'S': '333'},\n",
       "     'hood': {'S': '1'},\n",
       "     'building': {'S': 'biotech'},\n",
       "     'sash_sensor': {'S': '#biotech/biotech_3rd_floor/third_floor_fume_hood_lab_spaces/lab_333_control/hood_sash'}}}}}}"
      ]
     },
     "metadata": {},
     "output_type": "display_data"
    },
    {
     "name": "stdout",
     "output_type": "stream",
     "text": [
      "Buildings:\n"
     ]
    },
    {
     "data": {
      "text/plain": [
       "{'id': {'S': 'buildings'},\n",
       " 'map': {'M': {'Biotech.Floor_4.Lab_457B.Hood_1': {'M': {'external_temp_sensor': {'S': '#biotech/ground_flr_mech/building_hydronic_heating_syatems/reheat_heat_exchanger/oat'}}}}}}"
      ]
     },
     "metadata": {},
     "output_type": "display_data"
    },
    {
     "name": "stdout",
     "output_type": "stream",
     "text": [
      "Labs:\n"
     ]
    },
    {
     "data": {
      "text/plain": [
       "{'id': {'S': 'labs'},\n",
       " 'map': {'M': {'Biotech.Floor_4.Lab_457B.Hood_1': {'M': {'occ_sensor': {'S': '#biotech/biotech_3rd_floor/third_floor_fume_hood_lab_spaces/lab_333_control/occ'},\n",
       "     'internal_temp_sensor': {'S': '#biotech/biotech_3rd_floor/third_floor_fume_hood_lab_spaces/lab_333_control/zone/zone_temp/trend_log'},\n",
       "     'floor': {'S': '3'},\n",
       "     'lab': {'S': '333'},\n",
       "     'building': {'S': 'biotech'}}}}}}"
      ]
     },
     "metadata": {},
     "output_type": "display_data"
    },
    {
     "name": "stdout",
     "output_type": "stream",
     "text": [
      "Occupants:\n"
     ]
    },
    {
     "data": {
      "text/plain": [
       "{'id': {'S': 'occupants'},\n",
       " 'map': {'M': {'rf377@cornell.edu': {'M': {'name': {'S': 'Reid Fleishman'},\n",
       "     'lab': {'S': 'Biotech.Floor_3.Lab_317'}}}}}}"
      ]
     },
     "metadata": {},
     "output_type": "display_data"
    },
    {
     "name": "stdout",
     "output_type": "stream",
     "text": [
      "None\n",
      "None\n",
      "None\n",
      "None\n",
      "Hoods:\n"
     ]
    },
    {
     "data": {
      "text/plain": [
       "{'id': {'S': 'hoods'},\n",
       " 'map': {'M': {'Biotech.Floor_4.Lab_457B.Hood_1': {'M': {'flow_sensor': {'S': '#biotech/biotech_3rd_floor/third_floor_fume_hood_lab_spaces/lab_333b_control/hoodvalve_flow'},\n",
       "     'floor': {'S': '3'},\n",
       "     'lab': {'S': '333B'},\n",
       "     'hood': {'S': '1'},\n",
       "     'building': {'S': 'biotech'},\n",
       "     'sash_sensor': {'S': '#biotech/biotech_3rd_floor/third_floor_fume_hood_lab_spaces/lab_333b_control/hood_sash'}}}}}}"
      ]
     },
     "metadata": {},
     "output_type": "display_data"
    },
    {
     "name": "stdout",
     "output_type": "stream",
     "text": [
      "Buildings:\n"
     ]
    },
    {
     "data": {
      "text/plain": [
       "{'id': {'S': 'buildings'},\n",
       " 'map': {'M': {'Biotech.Floor_4.Lab_457B.Hood_1': {'M': {'external_temp_sensor': {'S': '#biotech/ground_flr_mech/building_hydronic_heating_syatems/reheat_heat_exchanger/oat'}}}}}}"
      ]
     },
     "metadata": {},
     "output_type": "display_data"
    },
    {
     "name": "stdout",
     "output_type": "stream",
     "text": [
      "Labs:\n"
     ]
    },
    {
     "data": {
      "text/plain": [
       "{'id': {'S': 'labs'},\n",
       " 'map': {'M': {'Biotech.Floor_4.Lab_457B.Hood_1': {'M': {'occ_sensor': {'S': '#biotech/biotech_3rd_floor/third_floor_fume_hood_lab_spaces/lab_333b_control/occ'},\n",
       "     'internal_temp_sensor': {'S': '#biotech/biotech_3rd_floor/third_floor_fume_hood_lab_spaces/lab_333b_control/zone/zone_temp/trend_log'},\n",
       "     'floor': {'S': '3'},\n",
       "     'lab': {'S': '333B'},\n",
       "     'building': {'S': 'biotech'}}}}}}"
      ]
     },
     "metadata": {},
     "output_type": "display_data"
    },
    {
     "name": "stdout",
     "output_type": "stream",
     "text": [
      "Occupants:\n"
     ]
    },
    {
     "data": {
      "text/plain": [
       "{'id': {'S': 'occupants'},\n",
       " 'map': {'M': {'rf377@cornell.edu': {'M': {'name': {'S': 'Reid Fleishman'},\n",
       "     'lab': {'S': 'Biotech.Floor_3.Lab_317'}}}}}}"
      ]
     },
     "metadata": {},
     "output_type": "display_data"
    },
    {
     "name": "stdout",
     "output_type": "stream",
     "text": [
      "None\n",
      "None\n",
      "None\n",
      "None\n",
      "Hoods:\n"
     ]
    },
    {
     "data": {
      "text/plain": [
       "{'id': {'S': 'hoods'},\n",
       " 'map': {'M': {'Biotech.Floor_4.Lab_457B.Hood_1': {'M': {'flow_sensor': {'S': '#biotech/biotech_3rd_floor/third_floor_fume_hood_lab_spaces/lab_341_control/hoodvalve_flow'},\n",
       "     'floor': {'S': '3'},\n",
       "     'lab': {'S': '341'},\n",
       "     'hood': {'S': '1'},\n",
       "     'building': {'S': 'biotech'},\n",
       "     'sash_sensor': {'S': '#biotech/biotech_3rd_floor/third_floor_fume_hood_lab_spaces/lab_341_control/hood_sash'}}}}}}"
      ]
     },
     "metadata": {},
     "output_type": "display_data"
    },
    {
     "name": "stdout",
     "output_type": "stream",
     "text": [
      "Buildings:\n"
     ]
    },
    {
     "data": {
      "text/plain": [
       "{'id': {'S': 'buildings'},\n",
       " 'map': {'M': {'Biotech.Floor_4.Lab_457B.Hood_1': {'M': {'external_temp_sensor': {'S': '#biotech/ground_flr_mech/building_hydronic_heating_syatems/reheat_heat_exchanger/oat'}}}}}}"
      ]
     },
     "metadata": {},
     "output_type": "display_data"
    },
    {
     "name": "stdout",
     "output_type": "stream",
     "text": [
      "Labs:\n"
     ]
    },
    {
     "data": {
      "text/plain": [
       "{'id': {'S': 'labs'},\n",
       " 'map': {'M': {'Biotech.Floor_4.Lab_457B.Hood_1': {'M': {'occ_sensor': {'S': '#biotech/biotech_3rd_floor/third_floor_fume_hood_lab_spaces/lab_341_control/occ'},\n",
       "     'internal_temp_sensor': {'S': '#biotech/biotech_3rd_floor/third_floor_fume_hood_lab_spaces/lab_341_control/zone/zone_temp/trend_log'},\n",
       "     'floor': {'S': '3'},\n",
       "     'lab': {'S': '341'},\n",
       "     'building': {'S': 'biotech'}}}}}}"
      ]
     },
     "metadata": {},
     "output_type": "display_data"
    },
    {
     "name": "stdout",
     "output_type": "stream",
     "text": [
      "Occupants:\n"
     ]
    },
    {
     "data": {
      "text/plain": [
       "{'id': {'S': 'occupants'},\n",
       " 'map': {'M': {'rf377@cornell.edu': {'M': {'name': {'S': 'Reid Fleishman'},\n",
       "     'lab': {'S': 'Biotech.Floor_3.Lab_317'}}}}}}"
      ]
     },
     "metadata": {},
     "output_type": "display_data"
    },
    {
     "name": "stdout",
     "output_type": "stream",
     "text": [
      "None\n",
      "None\n",
      "None\n",
      "None\n",
      "Hoods:\n"
     ]
    },
    {
     "data": {
      "text/plain": [
       "{'id': {'S': 'hoods'},\n",
       " 'map': {'M': {'Biotech.Floor_4.Lab_457B.Hood_1': {'M': {'flow_sensor': {'S': '#biotech/biotech_3rd_floor/third_floor_fume_hood_lab_spaces/lab_341b_control/hoodvalve_flow'},\n",
       "     'floor': {'S': '3'},\n",
       "     'lab': {'S': '341B'},\n",
       "     'hood': {'S': '1'},\n",
       "     'building': {'S': 'biotech'},\n",
       "     'sash_sensor': {'S': '#biotech/biotech_3rd_floor/third_floor_fume_hood_lab_spaces/lab_341b_control/hood_sash'}}}}}}"
      ]
     },
     "metadata": {},
     "output_type": "display_data"
    },
    {
     "name": "stdout",
     "output_type": "stream",
     "text": [
      "Buildings:\n"
     ]
    },
    {
     "data": {
      "text/plain": [
       "{'id': {'S': 'buildings'},\n",
       " 'map': {'M': {'Biotech.Floor_4.Lab_457B.Hood_1': {'M': {'external_temp_sensor': {'S': '#biotech/ground_flr_mech/building_hydronic_heating_syatems/reheat_heat_exchanger/oat'}}}}}}"
      ]
     },
     "metadata": {},
     "output_type": "display_data"
    },
    {
     "name": "stdout",
     "output_type": "stream",
     "text": [
      "Labs:\n"
     ]
    },
    {
     "data": {
      "text/plain": [
       "{'id': {'S': 'labs'},\n",
       " 'map': {'M': {'Biotech.Floor_4.Lab_457B.Hood_1': {'M': {'occ_sensor': {'S': '#biotech/biotech_3rd_floor/third_floor_fume_hood_lab_spaces/lab_341b_control/occ'},\n",
       "     'internal_temp_sensor': {'S': '#biotech/biotech_3rd_floor/third_floor_fume_hood_lab_spaces/lab_341b_control/zone/zone_temp/trend_log'},\n",
       "     'floor': {'S': '3'},\n",
       "     'lab': {'S': '341B'},\n",
       "     'building': {'S': 'biotech'}}}}}}"
      ]
     },
     "metadata": {},
     "output_type": "display_data"
    },
    {
     "name": "stdout",
     "output_type": "stream",
     "text": [
      "Occupants:\n"
     ]
    },
    {
     "data": {
      "text/plain": [
       "{'id': {'S': 'occupants'},\n",
       " 'map': {'M': {'rf377@cornell.edu': {'M': {'name': {'S': 'Reid Fleishman'},\n",
       "     'lab': {'S': 'Biotech.Floor_3.Lab_317'}}}}}}"
      ]
     },
     "metadata": {},
     "output_type": "display_data"
    },
    {
     "name": "stdout",
     "output_type": "stream",
     "text": [
      "None\n",
      "None\n",
      "None\n",
      "None\n",
      "Hoods:\n"
     ]
    },
    {
     "data": {
      "text/plain": [
       "{'id': {'S': 'hoods'},\n",
       " 'map': {'M': {'Biotech.Floor_4.Lab_457B.Hood_1': {'M': {'flow_sensor': {'S': '#biotech/biotech_3rd_floor/third_floor_fume_hood_lab_spaces/lab_345_control/hoodvalve_flow'},\n",
       "     'floor': {'S': '3'},\n",
       "     'lab': {'S': '345'},\n",
       "     'hood': {'S': '1'},\n",
       "     'building': {'S': 'biotech'},\n",
       "     'sash_sensor': {'S': '#biotech/biotech_3rd_floor/third_floor_fume_hood_lab_spaces/lab_345_control/hood_sash'}}}}}}"
      ]
     },
     "metadata": {},
     "output_type": "display_data"
    },
    {
     "name": "stdout",
     "output_type": "stream",
     "text": [
      "Buildings:\n"
     ]
    },
    {
     "data": {
      "text/plain": [
       "{'id': {'S': 'buildings'},\n",
       " 'map': {'M': {'Biotech.Floor_4.Lab_457B.Hood_1': {'M': {'external_temp_sensor': {'S': '#biotech/ground_flr_mech/building_hydronic_heating_syatems/reheat_heat_exchanger/oat'}}}}}}"
      ]
     },
     "metadata": {},
     "output_type": "display_data"
    },
    {
     "name": "stdout",
     "output_type": "stream",
     "text": [
      "Labs:\n"
     ]
    },
    {
     "data": {
      "text/plain": [
       "{'id': {'S': 'labs'},\n",
       " 'map': {'M': {'Biotech.Floor_4.Lab_457B.Hood_1': {'M': {'occ_sensor': {'S': '#biotech/biotech_3rd_floor/third_floor_fume_hood_lab_spaces/lab_345_control/occ'},\n",
       "     'internal_temp_sensor': {'S': '#biotech/biotech_3rd_floor/third_floor_fume_hood_lab_spaces/lab_345_control/zone/zone_temp/trend_log'},\n",
       "     'floor': {'S': '3'},\n",
       "     'lab': {'S': '345'},\n",
       "     'building': {'S': 'biotech'}}}}}}"
      ]
     },
     "metadata": {},
     "output_type": "display_data"
    },
    {
     "name": "stdout",
     "output_type": "stream",
     "text": [
      "Occupants:\n"
     ]
    },
    {
     "data": {
      "text/plain": [
       "{'id': {'S': 'occupants'},\n",
       " 'map': {'M': {'rf377@cornell.edu': {'M': {'name': {'S': 'Reid Fleishman'},\n",
       "     'lab': {'S': 'Biotech.Floor_3.Lab_317'}}}}}}"
      ]
     },
     "metadata": {},
     "output_type": "display_data"
    },
    {
     "name": "stdout",
     "output_type": "stream",
     "text": [
      "None\n",
      "None\n",
      "None\n",
      "None\n",
      "Hoods:\n"
     ]
    },
    {
     "data": {
      "text/plain": [
       "{'id': {'S': 'hoods'},\n",
       " 'map': {'M': {'Biotech.Floor_4.Lab_457B.Hood_1': {'M': {'flow_sensor': {'S': '#biotech/biotech_3rd_floor/third_floor_fume_hood_lab_spaces/lab_345b_control/hoodvalve_flow'},\n",
       "     'floor': {'S': '3'},\n",
       "     'lab': {'S': '345B'},\n",
       "     'hood': {'S': '1'},\n",
       "     'building': {'S': 'biotech'},\n",
       "     'sash_sensor': {'S': '#biotech/biotech_3rd_floor/third_floor_fume_hood_lab_spaces/lab_345b_control/hood_sash'}}}}}}"
      ]
     },
     "metadata": {},
     "output_type": "display_data"
    },
    {
     "name": "stdout",
     "output_type": "stream",
     "text": [
      "Buildings:\n"
     ]
    },
    {
     "data": {
      "text/plain": [
       "{'id': {'S': 'buildings'},\n",
       " 'map': {'M': {'Biotech.Floor_4.Lab_457B.Hood_1': {'M': {'external_temp_sensor': {'S': '#biotech/ground_flr_mech/building_hydronic_heating_syatems/reheat_heat_exchanger/oat'}}}}}}"
      ]
     },
     "metadata": {},
     "output_type": "display_data"
    },
    {
     "name": "stdout",
     "output_type": "stream",
     "text": [
      "Labs:\n"
     ]
    },
    {
     "data": {
      "text/plain": [
       "{'id': {'S': 'labs'},\n",
       " 'map': {'M': {'Biotech.Floor_4.Lab_457B.Hood_1': {'M': {'occ_sensor': {'S': '#biotech/biotech_3rd_floor/third_floor_fume_hood_lab_spaces/lab_345b_control/occ'},\n",
       "     'internal_temp_sensor': {'S': '#biotech/biotech_3rd_floor/third_floor_fume_hood_lab_spaces/lab_345b_control/zone/zone_temp/trend_log'},\n",
       "     'floor': {'S': '3'},\n",
       "     'lab': {'S': '345B'},\n",
       "     'building': {'S': 'biotech'}}}}}}"
      ]
     },
     "metadata": {},
     "output_type": "display_data"
    },
    {
     "name": "stdout",
     "output_type": "stream",
     "text": [
      "Occupants:\n"
     ]
    },
    {
     "data": {
      "text/plain": [
       "{'id': {'S': 'occupants'},\n",
       " 'map': {'M': {'rf377@cornell.edu': {'M': {'name': {'S': 'Reid Fleishman'},\n",
       "     'lab': {'S': 'Biotech.Floor_3.Lab_317'}}}}}}"
      ]
     },
     "metadata": {},
     "output_type": "display_data"
    },
    {
     "name": "stdout",
     "output_type": "stream",
     "text": [
      "None\n",
      "None\n",
      "None\n",
      "None\n",
      "Hoods:\n"
     ]
    },
    {
     "data": {
      "text/plain": [
       "{'id': {'S': 'hoods'},\n",
       " 'map': {'M': {'Biotech.Floor_4.Lab_457B.Hood_1': {'M': {'flow_sensor': {'S': '#biotech/biotech_3rd_floor/third_floor_fume_hood_lab_spaces/lab_360_control/hoodvalve_flow'},\n",
       "     'floor': {'S': '3'},\n",
       "     'lab': {'S': '360'},\n",
       "     'hood': {'S': '1'},\n",
       "     'building': {'S': 'biotech'},\n",
       "     'sash_sensor': {'S': '#biotech/biotech_3rd_floor/third_floor_fume_hood_lab_spaces/lab_360_control/hood_sash'}}}}}}"
      ]
     },
     "metadata": {},
     "output_type": "display_data"
    },
    {
     "name": "stdout",
     "output_type": "stream",
     "text": [
      "Buildings:\n"
     ]
    },
    {
     "data": {
      "text/plain": [
       "{'id': {'S': 'buildings'},\n",
       " 'map': {'M': {'Biotech.Floor_4.Lab_457B.Hood_1': {'M': {'external_temp_sensor': {'S': '#biotech/ground_flr_mech/building_hydronic_heating_syatems/reheat_heat_exchanger/oat'}}}}}}"
      ]
     },
     "metadata": {},
     "output_type": "display_data"
    },
    {
     "name": "stdout",
     "output_type": "stream",
     "text": [
      "Labs:\n"
     ]
    },
    {
     "data": {
      "text/plain": [
       "{'id': {'S': 'labs'},\n",
       " 'map': {'M': {'Biotech.Floor_4.Lab_457B.Hood_1': {'M': {'occ_sensor': {'S': '#biotech/biotech_3rd_floor/third_floor_fume_hood_lab_spaces/lab_360_control/occ'},\n",
       "     'internal_temp_sensor': {'S': '#biotech/biotech_3rd_floor/third_floor_fume_hood_lab_spaces/lab_360_control/zone/zone_temp/trend_log'},\n",
       "     'floor': {'S': '3'},\n",
       "     'lab': {'S': '360'},\n",
       "     'building': {'S': 'biotech'}}}}}}"
      ]
     },
     "metadata": {},
     "output_type": "display_data"
    },
    {
     "name": "stdout",
     "output_type": "stream",
     "text": [
      "Occupants:\n"
     ]
    },
    {
     "data": {
      "text/plain": [
       "{'id': {'S': 'occupants'},\n",
       " 'map': {'M': {'rf377@cornell.edu': {'M': {'name': {'S': 'Reid Fleishman'},\n",
       "     'lab': {'S': 'Biotech.Floor_3.Lab_317'}}}}}}"
      ]
     },
     "metadata": {},
     "output_type": "display_data"
    },
    {
     "name": "stdout",
     "output_type": "stream",
     "text": [
      "None\n",
      "None\n",
      "None\n",
      "None\n",
      "Hoods:\n"
     ]
    },
    {
     "data": {
      "text/plain": [
       "{'id': {'S': 'hoods'},\n",
       " 'map': {'M': {'Biotech.Floor_4.Lab_457B.Hood_1': {'M': {'flow_sensor': {'S': '#biotech/biotech_3rd_floor/third_floor_fume_hood_lab_spaces/lab_360b_control/hoodvalve_flow'},\n",
       "     'floor': {'S': '3'},\n",
       "     'lab': {'S': '360B'},\n",
       "     'hood': {'S': '1'},\n",
       "     'building': {'S': 'biotech'},\n",
       "     'sash_sensor': {'S': '#biotech/biotech_3rd_floor/third_floor_fume_hood_lab_spaces/lab_360b_control/hood_sash'}}}}}}"
      ]
     },
     "metadata": {},
     "output_type": "display_data"
    },
    {
     "name": "stdout",
     "output_type": "stream",
     "text": [
      "Buildings:\n"
     ]
    },
    {
     "data": {
      "text/plain": [
       "{'id': {'S': 'buildings'},\n",
       " 'map': {'M': {'Biotech.Floor_4.Lab_457B.Hood_1': {'M': {'external_temp_sensor': {'S': '#biotech/ground_flr_mech/building_hydronic_heating_syatems/reheat_heat_exchanger/oat'}}}}}}"
      ]
     },
     "metadata": {},
     "output_type": "display_data"
    },
    {
     "name": "stdout",
     "output_type": "stream",
     "text": [
      "Labs:\n"
     ]
    },
    {
     "data": {
      "text/plain": [
       "{'id': {'S': 'labs'},\n",
       " 'map': {'M': {'Biotech.Floor_4.Lab_457B.Hood_1': {'M': {'occ_sensor': {'S': '#biotech/biotech_3rd_floor/third_floor_fume_hood_lab_spaces/lab_360b_control/occ'},\n",
       "     'internal_temp_sensor': {'S': '#biotech/biotech_3rd_floor/third_floor_fume_hood_lab_spaces/lab_360b_control/zone/zone_temp/trend_log'},\n",
       "     'floor': {'S': '3'},\n",
       "     'lab': {'S': '360B'},\n",
       "     'building': {'S': 'biotech'}}}}}}"
      ]
     },
     "metadata": {},
     "output_type": "display_data"
    },
    {
     "name": "stdout",
     "output_type": "stream",
     "text": [
      "Occupants:\n"
     ]
    },
    {
     "data": {
      "text/plain": [
       "{'id': {'S': 'occupants'},\n",
       " 'map': {'M': {'rf377@cornell.edu': {'M': {'name': {'S': 'Reid Fleishman'},\n",
       "     'lab': {'S': 'Biotech.Floor_3.Lab_317'}}}}}}"
      ]
     },
     "metadata": {},
     "output_type": "display_data"
    },
    {
     "name": "stdout",
     "output_type": "stream",
     "text": [
      "None\n",
      "None\n",
      "None\n",
      "None\n",
      "Hoods:\n"
     ]
    },
    {
     "data": {
      "text/plain": [
       "{'id': {'S': 'hoods'},\n",
       " 'map': {'M': {'Biotech.Floor_4.Lab_457B.Hood_1': {'M': {'flow_sensor': {'S': '#biotech/biotech_3rd_floor/third_floor_fume_hood_lab_spaces/lab_367_control/hoodvalve_flow'},\n",
       "     'floor': {'S': '3'},\n",
       "     'lab': {'S': '367'},\n",
       "     'hood': {'S': '1'},\n",
       "     'building': {'S': 'biotech'},\n",
       "     'sash_sensor': {'S': '#biotech/biotech_3rd_floor/third_floor_fume_hood_lab_spaces/lab_367_control/hood_sash'}}}}}}"
      ]
     },
     "metadata": {},
     "output_type": "display_data"
    },
    {
     "name": "stdout",
     "output_type": "stream",
     "text": [
      "Buildings:\n"
     ]
    },
    {
     "data": {
      "text/plain": [
       "{'id': {'S': 'buildings'},\n",
       " 'map': {'M': {'Biotech.Floor_4.Lab_457B.Hood_1': {'M': {'external_temp_sensor': {'S': '#biotech/ground_flr_mech/building_hydronic_heating_syatems/reheat_heat_exchanger/oat'}}}}}}"
      ]
     },
     "metadata": {},
     "output_type": "display_data"
    },
    {
     "name": "stdout",
     "output_type": "stream",
     "text": [
      "Labs:\n"
     ]
    },
    {
     "data": {
      "text/plain": [
       "{'id': {'S': 'labs'},\n",
       " 'map': {'M': {'Biotech.Floor_4.Lab_457B.Hood_1': {'M': {'occ_sensor': {'S': '#biotech/biotech_3rd_floor/third_floor_fume_hood_lab_spaces/lab_367_control/occ'},\n",
       "     'internal_temp_sensor': {'S': '#biotech/biotech_3rd_floor/third_floor_fume_hood_lab_spaces/lab_367_control/zone/zone_temp/trend_log'},\n",
       "     'floor': {'S': '3'},\n",
       "     'lab': {'S': '367'},\n",
       "     'building': {'S': 'biotech'}}}}}}"
      ]
     },
     "metadata": {},
     "output_type": "display_data"
    },
    {
     "name": "stdout",
     "output_type": "stream",
     "text": [
      "Occupants:\n"
     ]
    },
    {
     "data": {
      "text/plain": [
       "{'id': {'S': 'occupants'},\n",
       " 'map': {'M': {'rf377@cornell.edu': {'M': {'name': {'S': 'Reid Fleishman'},\n",
       "     'lab': {'S': 'Biotech.Floor_3.Lab_317'}}}}}}"
      ]
     },
     "metadata": {},
     "output_type": "display_data"
    },
    {
     "name": "stdout",
     "output_type": "stream",
     "text": [
      "None\n",
      "None\n",
      "None\n",
      "None\n",
      "Hoods:\n"
     ]
    },
    {
     "data": {
      "text/plain": [
       "{'id': {'S': 'hoods'},\n",
       " 'map': {'M': {'Biotech.Floor_4.Lab_457B.Hood_1': {'M': {'flow_sensor': {'S': '#biotech/biotech_3rd_floor/third_floor_fume_hood_lab_spaces/lab_367b_control/hoodvalve_flow'},\n",
       "     'floor': {'S': '3'},\n",
       "     'lab': {'S': '367B'},\n",
       "     'hood': {'S': '1'},\n",
       "     'building': {'S': 'biotech'},\n",
       "     'sash_sensor': {'S': '#biotech/biotech_3rd_floor/third_floor_fume_hood_lab_spaces/lab_367b_control/hood_sash'}}}}}}"
      ]
     },
     "metadata": {},
     "output_type": "display_data"
    },
    {
     "name": "stdout",
     "output_type": "stream",
     "text": [
      "Buildings:\n"
     ]
    },
    {
     "data": {
      "text/plain": [
       "{'id': {'S': 'buildings'},\n",
       " 'map': {'M': {'Biotech.Floor_4.Lab_457B.Hood_1': {'M': {'external_temp_sensor': {'S': '#biotech/ground_flr_mech/building_hydronic_heating_syatems/reheat_heat_exchanger/oat'}}}}}}"
      ]
     },
     "metadata": {},
     "output_type": "display_data"
    },
    {
     "name": "stdout",
     "output_type": "stream",
     "text": [
      "Labs:\n"
     ]
    },
    {
     "data": {
      "text/plain": [
       "{'id': {'S': 'labs'},\n",
       " 'map': {'M': {'Biotech.Floor_4.Lab_457B.Hood_1': {'M': {'occ_sensor': {'S': '#biotech/biotech_3rd_floor/third_floor_fume_hood_lab_spaces/lab_367b_control/occ'},\n",
       "     'internal_temp_sensor': {'S': '#biotech/biotech_3rd_floor/third_floor_fume_hood_lab_spaces/lab_367b_control/zone/zone_temp/trend_log'},\n",
       "     'floor': {'S': '3'},\n",
       "     'lab': {'S': '367B'},\n",
       "     'building': {'S': 'biotech'}}}}}}"
      ]
     },
     "metadata": {},
     "output_type": "display_data"
    },
    {
     "name": "stdout",
     "output_type": "stream",
     "text": [
      "Occupants:\n"
     ]
    },
    {
     "data": {
      "text/plain": [
       "{'id': {'S': 'occupants'},\n",
       " 'map': {'M': {'rf377@cornell.edu': {'M': {'name': {'S': 'Reid Fleishman'},\n",
       "     'lab': {'S': 'Biotech.Floor_3.Lab_317'}}}}}}"
      ]
     },
     "metadata": {},
     "output_type": "display_data"
    },
    {
     "name": "stdout",
     "output_type": "stream",
     "text": [
      "None\n",
      "None\n",
      "None\n",
      "None\n",
      "Hoods:\n"
     ]
    },
    {
     "data": {
      "text/plain": [
       "{'id': {'S': 'hoods'},\n",
       " 'map': {'M': {'Biotech.Floor_4.Lab_457B.Hood_1': {'M': {'flow_sensor': {'S': '#biotech/biotech_4th_floor/fourth_floor_fume_hood_lab_spaces/lab_403_control/hoodvalve_flow'},\n",
       "     'floor': {'S': '4'},\n",
       "     'lab': {'S': '403'},\n",
       "     'hood': {'S': '1'},\n",
       "     'building': {'S': 'biotech'},\n",
       "     'sash_sensor': {'S': '#biotech/biotech_4th_floor/fourth_floor_fume_hood_lab_spaces/lab_403_control/hood_sash'}}}}}}"
      ]
     },
     "metadata": {},
     "output_type": "display_data"
    },
    {
     "name": "stdout",
     "output_type": "stream",
     "text": [
      "Buildings:\n"
     ]
    },
    {
     "data": {
      "text/plain": [
       "{'id': {'S': 'buildings'},\n",
       " 'map': {'M': {'Biotech.Floor_4.Lab_457B.Hood_1': {'M': {'external_temp_sensor': {'S': '#biotech/ground_flr_mech/building_hydronic_heating_syatems/reheat_heat_exchanger/oat'}}}}}}"
      ]
     },
     "metadata": {},
     "output_type": "display_data"
    },
    {
     "name": "stdout",
     "output_type": "stream",
     "text": [
      "Labs:\n"
     ]
    },
    {
     "data": {
      "text/plain": [
       "{'id': {'S': 'labs'},\n",
       " 'map': {'M': {'Biotech.Floor_4.Lab_457B.Hood_1': {'M': {'occ_sensor': {'S': '#biotech/biotech_4th_floor/fourth_floor_fume_hood_lab_spaces/lab_403_control/occ'},\n",
       "     'internal_temp_sensor': {'S': '#biotech/biotech_4th_floor/fourth_floor_fume_hood_lab_spaces/lab_403_control/zone/zone_temp/trend_log'},\n",
       "     'floor': {'S': '4'},\n",
       "     'lab': {'S': '403'},\n",
       "     'building': {'S': 'biotech'}}}}}}"
      ]
     },
     "metadata": {},
     "output_type": "display_data"
    },
    {
     "name": "stdout",
     "output_type": "stream",
     "text": [
      "Occupants:\n"
     ]
    },
    {
     "data": {
      "text/plain": [
       "{'id': {'S': 'occupants'},\n",
       " 'map': {'M': {'rf377@cornell.edu': {'M': {'name': {'S': 'Reid Fleishman'},\n",
       "     'lab': {'S': 'Biotech.Floor_3.Lab_317'}}}}}}"
      ]
     },
     "metadata": {},
     "output_type": "display_data"
    },
    {
     "name": "stdout",
     "output_type": "stream",
     "text": [
      "None\n",
      "None\n",
      "None\n",
      "None\n",
      "Hoods:\n"
     ]
    },
    {
     "data": {
      "text/plain": [
       "{'id': {'S': 'hoods'},\n",
       " 'map': {'M': {'Biotech.Floor_4.Lab_457B.Hood_1': {'M': {'flow_sensor': {'S': '#biotech/biotech_4th_floor/fourth_floor_fume_hood_lab_spaces/lab_403b_control/hoodvalve_flow'},\n",
       "     'floor': {'S': '4'},\n",
       "     'lab': {'S': '403B'},\n",
       "     'hood': {'S': '1'},\n",
       "     'building': {'S': 'biotech'},\n",
       "     'sash_sensor': {'S': '#biotech/biotech_4th_floor/fourth_floor_fume_hood_lab_spaces/lab_403b_control/hood_sash'}}}}}}"
      ]
     },
     "metadata": {},
     "output_type": "display_data"
    },
    {
     "name": "stdout",
     "output_type": "stream",
     "text": [
      "Buildings:\n"
     ]
    },
    {
     "data": {
      "text/plain": [
       "{'id': {'S': 'buildings'},\n",
       " 'map': {'M': {'Biotech.Floor_4.Lab_457B.Hood_1': {'M': {'external_temp_sensor': {'S': '#biotech/ground_flr_mech/building_hydronic_heating_syatems/reheat_heat_exchanger/oat'}}}}}}"
      ]
     },
     "metadata": {},
     "output_type": "display_data"
    },
    {
     "name": "stdout",
     "output_type": "stream",
     "text": [
      "Labs:\n"
     ]
    },
    {
     "data": {
      "text/plain": [
       "{'id': {'S': 'labs'},\n",
       " 'map': {'M': {'Biotech.Floor_4.Lab_457B.Hood_1': {'M': {'occ_sensor': {'S': '#biotech/biotech_4th_floor/fourth_floor_fume_hood_lab_spaces/lab_403b_control/occ'},\n",
       "     'internal_temp_sensor': {'S': '#biotech/biotech_4th_floor/fourth_floor_fume_hood_lab_spaces/lab_403b_control/zone/zone_temp/trend_log'},\n",
       "     'floor': {'S': '4'},\n",
       "     'lab': {'S': '403B'},\n",
       "     'building': {'S': 'biotech'}}}}}}"
      ]
     },
     "metadata": {},
     "output_type": "display_data"
    },
    {
     "name": "stdout",
     "output_type": "stream",
     "text": [
      "Occupants:\n"
     ]
    },
    {
     "data": {
      "text/plain": [
       "{'id': {'S': 'occupants'},\n",
       " 'map': {'M': {'rf377@cornell.edu': {'M': {'name': {'S': 'Reid Fleishman'},\n",
       "     'lab': {'S': 'Biotech.Floor_3.Lab_317'}}}}}}"
      ]
     },
     "metadata": {},
     "output_type": "display_data"
    },
    {
     "name": "stdout",
     "output_type": "stream",
     "text": [
      "None\n",
      "None\n",
      "None\n",
      "None\n",
      "Hoods:\n"
     ]
    },
    {
     "data": {
      "text/plain": [
       "{'id': {'S': 'hoods'},\n",
       " 'map': {'M': {'Biotech.Floor_4.Lab_457B.Hood_1': {'M': {'flow_sensor': {'S': '#biotech/biotech_4th_floor/fourth_floor_fume_hood_lab_spaces/lab_409_control/hoodvalve_flow'},\n",
       "     'floor': {'S': '4'},\n",
       "     'lab': {'S': '409'},\n",
       "     'hood': {'S': '1'},\n",
       "     'building': {'S': 'biotech'},\n",
       "     'sash_sensor': {'S': '#biotech/biotech_4th_floor/fourth_floor_fume_hood_lab_spaces/lab_409_control/hood_sash'}}}}}}"
      ]
     },
     "metadata": {},
     "output_type": "display_data"
    },
    {
     "name": "stdout",
     "output_type": "stream",
     "text": [
      "Buildings:\n"
     ]
    },
    {
     "data": {
      "text/plain": [
       "{'id': {'S': 'buildings'},\n",
       " 'map': {'M': {'Biotech.Floor_4.Lab_457B.Hood_1': {'M': {'external_temp_sensor': {'S': '#biotech/ground_flr_mech/building_hydronic_heating_syatems/reheat_heat_exchanger/oat'}}}}}}"
      ]
     },
     "metadata": {},
     "output_type": "display_data"
    },
    {
     "name": "stdout",
     "output_type": "stream",
     "text": [
      "Labs:\n"
     ]
    },
    {
     "data": {
      "text/plain": [
       "{'id': {'S': 'labs'},\n",
       " 'map': {'M': {'Biotech.Floor_4.Lab_457B.Hood_1': {'M': {'occ_sensor': {'S': '#biotech/biotech_4th_floor/fourth_floor_fume_hood_lab_spaces/lab_409_control/occ'},\n",
       "     'internal_temp_sensor': {'S': '#biotech/biotech_4th_floor/fourth_floor_fume_hood_lab_spaces/lab_409_control/zone/zone_temp/trend_log'},\n",
       "     'floor': {'S': '4'},\n",
       "     'lab': {'S': '409'},\n",
       "     'building': {'S': 'biotech'}}}}}}"
      ]
     },
     "metadata": {},
     "output_type": "display_data"
    },
    {
     "name": "stdout",
     "output_type": "stream",
     "text": [
      "Occupants:\n"
     ]
    },
    {
     "data": {
      "text/plain": [
       "{'id': {'S': 'occupants'},\n",
       " 'map': {'M': {'rf377@cornell.edu': {'M': {'name': {'S': 'Reid Fleishman'},\n",
       "     'lab': {'S': 'Biotech.Floor_3.Lab_317'}}}}}}"
      ]
     },
     "metadata": {},
     "output_type": "display_data"
    },
    {
     "name": "stdout",
     "output_type": "stream",
     "text": [
      "None\n",
      "None\n",
      "None\n",
      "None\n",
      "Hoods:\n"
     ]
    },
    {
     "data": {
      "text/plain": [
       "{'id': {'S': 'hoods'},\n",
       " 'map': {'M': {'Biotech.Floor_4.Lab_457B.Hood_1': {'M': {'flow_sensor': {'S': '#biotech/biotech_4th_floor/fourth_floor_fume_hood_lab_spaces/lab_409b_control/hoodvalve_flow'},\n",
       "     'floor': {'S': '4'},\n",
       "     'lab': {'S': '409B'},\n",
       "     'hood': {'S': '1'},\n",
       "     'building': {'S': 'biotech'},\n",
       "     'sash_sensor': {'S': '#biotech/biotech_4th_floor/fourth_floor_fume_hood_lab_spaces/lab_409b_control/hood_sash'}}}}}}"
      ]
     },
     "metadata": {},
     "output_type": "display_data"
    },
    {
     "name": "stdout",
     "output_type": "stream",
     "text": [
      "Buildings:\n"
     ]
    },
    {
     "data": {
      "text/plain": [
       "{'id': {'S': 'buildings'},\n",
       " 'map': {'M': {'Biotech.Floor_4.Lab_457B.Hood_1': {'M': {'external_temp_sensor': {'S': '#biotech/ground_flr_mech/building_hydronic_heating_syatems/reheat_heat_exchanger/oat'}}}}}}"
      ]
     },
     "metadata": {},
     "output_type": "display_data"
    },
    {
     "name": "stdout",
     "output_type": "stream",
     "text": [
      "Labs:\n"
     ]
    },
    {
     "data": {
      "text/plain": [
       "{'id': {'S': 'labs'},\n",
       " 'map': {'M': {'Biotech.Floor_4.Lab_457B.Hood_1': {'M': {'occ_sensor': {'S': '#biotech/biotech_4th_floor/fourth_floor_fume_hood_lab_spaces/lab_409b_control/occ'},\n",
       "     'internal_temp_sensor': {'S': '#biotech/biotech_4th_floor/fourth_floor_fume_hood_lab_spaces/lab_409b_control/zone/zone_temp/trend_log'},\n",
       "     'floor': {'S': '4'},\n",
       "     'lab': {'S': '409B'},\n",
       "     'building': {'S': 'biotech'}}}}}}"
      ]
     },
     "metadata": {},
     "output_type": "display_data"
    },
    {
     "name": "stdout",
     "output_type": "stream",
     "text": [
      "Occupants:\n"
     ]
    },
    {
     "data": {
      "text/plain": [
       "{'id': {'S': 'occupants'},\n",
       " 'map': {'M': {'rf377@cornell.edu': {'M': {'name': {'S': 'Reid Fleishman'},\n",
       "     'lab': {'S': 'Biotech.Floor_3.Lab_317'}}}}}}"
      ]
     },
     "metadata": {},
     "output_type": "display_data"
    },
    {
     "name": "stdout",
     "output_type": "stream",
     "text": [
      "None\n",
      "None\n",
      "None\n",
      "None\n",
      "Hoods:\n"
     ]
    },
    {
     "data": {
      "text/plain": [
       "{'id': {'S': 'hoods'},\n",
       " 'map': {'M': {'Biotech.Floor_4.Lab_457B.Hood_1': {'M': {'flow_sensor': {'S': '#biotech/biotech_4th_floor/fourth_floor_fume_hood_lab_spaces/lab_417_control/hoodvalve_flow'},\n",
       "     'floor': {'S': '4'},\n",
       "     'lab': {'S': '417'},\n",
       "     'hood': {'S': '1'},\n",
       "     'building': {'S': 'biotech'},\n",
       "     'sash_sensor': {'S': '#biotech/biotech_4th_floor/fourth_floor_fume_hood_lab_spaces/lab_417_control/hood_sash'}}}}}}"
      ]
     },
     "metadata": {},
     "output_type": "display_data"
    },
    {
     "name": "stdout",
     "output_type": "stream",
     "text": [
      "Buildings:\n"
     ]
    },
    {
     "data": {
      "text/plain": [
       "{'id': {'S': 'buildings'},\n",
       " 'map': {'M': {'Biotech.Floor_4.Lab_457B.Hood_1': {'M': {'external_temp_sensor': {'S': '#biotech/ground_flr_mech/building_hydronic_heating_syatems/reheat_heat_exchanger/oat'}}}}}}"
      ]
     },
     "metadata": {},
     "output_type": "display_data"
    },
    {
     "name": "stdout",
     "output_type": "stream",
     "text": [
      "Labs:\n"
     ]
    },
    {
     "data": {
      "text/plain": [
       "{'id': {'S': 'labs'},\n",
       " 'map': {'M': {'Biotech.Floor_4.Lab_457B.Hood_1': {'M': {'occ_sensor': {'S': '#biotech/biotech_4th_floor/fourth_floor_fume_hood_lab_spaces/lab_417_control/occ'},\n",
       "     'internal_temp_sensor': {'S': '#biotech/biotech_4th_floor/fourth_floor_fume_hood_lab_spaces/lab_417_control/zone/zone_temp/trend_log'},\n",
       "     'floor': {'S': '4'},\n",
       "     'lab': {'S': '417'},\n",
       "     'building': {'S': 'biotech'}}}}}}"
      ]
     },
     "metadata": {},
     "output_type": "display_data"
    },
    {
     "name": "stdout",
     "output_type": "stream",
     "text": [
      "Occupants:\n"
     ]
    },
    {
     "data": {
      "text/plain": [
       "{'id': {'S': 'occupants'},\n",
       " 'map': {'M': {'rf377@cornell.edu': {'M': {'name': {'S': 'Reid Fleishman'},\n",
       "     'lab': {'S': 'Biotech.Floor_3.Lab_317'}}}}}}"
      ]
     },
     "metadata": {},
     "output_type": "display_data"
    },
    {
     "name": "stdout",
     "output_type": "stream",
     "text": [
      "None\n",
      "None\n",
      "None\n",
      "None\n",
      "Hoods:\n"
     ]
    },
    {
     "data": {
      "text/plain": [
       "{'id': {'S': 'hoods'},\n",
       " 'map': {'M': {'Biotech.Floor_4.Lab_457B.Hood_1': {'M': {'flow_sensor': {'S': '#biotech/biotech_4th_floor/fourth_floor_fume_hood_lab_spaces/lab_417b_control/hoodvalve_flow'},\n",
       "     'floor': {'S': '4'},\n",
       "     'lab': {'S': '417B'},\n",
       "     'hood': {'S': '1'},\n",
       "     'building': {'S': 'biotech'},\n",
       "     'sash_sensor': {'S': '#biotech/biotech_4th_floor/fourth_floor_fume_hood_lab_spaces/lab_417b_control/hood_sash'}}}}}}"
      ]
     },
     "metadata": {},
     "output_type": "display_data"
    },
    {
     "name": "stdout",
     "output_type": "stream",
     "text": [
      "Buildings:\n"
     ]
    },
    {
     "data": {
      "text/plain": [
       "{'id': {'S': 'buildings'},\n",
       " 'map': {'M': {'Biotech.Floor_4.Lab_457B.Hood_1': {'M': {'external_temp_sensor': {'S': '#biotech/ground_flr_mech/building_hydronic_heating_syatems/reheat_heat_exchanger/oat'}}}}}}"
      ]
     },
     "metadata": {},
     "output_type": "display_data"
    },
    {
     "name": "stdout",
     "output_type": "stream",
     "text": [
      "Labs:\n"
     ]
    },
    {
     "data": {
      "text/plain": [
       "{'id': {'S': 'labs'},\n",
       " 'map': {'M': {'Biotech.Floor_4.Lab_457B.Hood_1': {'M': {'occ_sensor': {'S': '#biotech/biotech_4th_floor/fourth_floor_fume_hood_lab_spaces/lab_417b_control/occ'},\n",
       "     'internal_temp_sensor': {'S': '#biotech/biotech_4th_floor/fourth_floor_fume_hood_lab_spaces/lab_417b_control/zone/zone_temp/trend_log'},\n",
       "     'floor': {'S': '4'},\n",
       "     'lab': {'S': '417B'},\n",
       "     'building': {'S': 'biotech'}}}}}}"
      ]
     },
     "metadata": {},
     "output_type": "display_data"
    },
    {
     "name": "stdout",
     "output_type": "stream",
     "text": [
      "Occupants:\n"
     ]
    },
    {
     "data": {
      "text/plain": [
       "{'id': {'S': 'occupants'},\n",
       " 'map': {'M': {'rf377@cornell.edu': {'M': {'name': {'S': 'Reid Fleishman'},\n",
       "     'lab': {'S': 'Biotech.Floor_3.Lab_317'}}}}}}"
      ]
     },
     "metadata": {},
     "output_type": "display_data"
    },
    {
     "name": "stdout",
     "output_type": "stream",
     "text": [
      "None\n",
      "None\n",
      "None\n",
      "None\n",
      "Hoods:\n"
     ]
    },
    {
     "data": {
      "text/plain": [
       "{'id': {'S': 'hoods'},\n",
       " 'map': {'M': {'Biotech.Floor_4.Lab_457B.Hood_1': {'M': {'flow_sensor': {'S': '#biotech/biotech_4th_floor/fourth_floor_fume_hood_lab_spaces/lab_418_control/hoodvalve_flow'},\n",
       "     'floor': {'S': '4'},\n",
       "     'lab': {'S': '418'},\n",
       "     'hood': {'S': '1'},\n",
       "     'building': {'S': 'biotech'},\n",
       "     'sash_sensor': {'S': '#biotech/biotech_4th_floor/fourth_floor_fume_hood_lab_spaces/lab_418_control/hood_sash'}}}}}}"
      ]
     },
     "metadata": {},
     "output_type": "display_data"
    },
    {
     "name": "stdout",
     "output_type": "stream",
     "text": [
      "Buildings:\n"
     ]
    },
    {
     "data": {
      "text/plain": [
       "{'id': {'S': 'buildings'},\n",
       " 'map': {'M': {'Biotech.Floor_4.Lab_457B.Hood_1': {'M': {'external_temp_sensor': {'S': '#biotech/ground_flr_mech/building_hydronic_heating_syatems/reheat_heat_exchanger/oat'}}}}}}"
      ]
     },
     "metadata": {},
     "output_type": "display_data"
    },
    {
     "name": "stdout",
     "output_type": "stream",
     "text": [
      "Labs:\n"
     ]
    },
    {
     "data": {
      "text/plain": [
       "{'id': {'S': 'labs'},\n",
       " 'map': {'M': {'Biotech.Floor_4.Lab_457B.Hood_1': {'M': {'occ_sensor': {'S': '#biotech/biotech_4th_floor/fourth_floor_fume_hood_lab_spaces/lab_418_control/occ'},\n",
       "     'internal_temp_sensor': {'S': '#biotech/biotech_4th_floor/fourth_floor_fume_hood_lab_spaces/lab_418_control/zone/zone_temp/trend_log'},\n",
       "     'floor': {'S': '4'},\n",
       "     'lab': {'S': '418'},\n",
       "     'building': {'S': 'biotech'}}}}}}"
      ]
     },
     "metadata": {},
     "output_type": "display_data"
    },
    {
     "name": "stdout",
     "output_type": "stream",
     "text": [
      "Occupants:\n"
     ]
    },
    {
     "data": {
      "text/plain": [
       "{'id': {'S': 'occupants'},\n",
       " 'map': {'M': {'rf377@cornell.edu': {'M': {'name': {'S': 'Reid Fleishman'},\n",
       "     'lab': {'S': 'Biotech.Floor_3.Lab_317'}}}}}}"
      ]
     },
     "metadata": {},
     "output_type": "display_data"
    },
    {
     "name": "stdout",
     "output_type": "stream",
     "text": [
      "None\n",
      "None\n",
      "None\n",
      "None\n",
      "Hoods:\n"
     ]
    },
    {
     "data": {
      "text/plain": [
       "{'id': {'S': 'hoods'},\n",
       " 'map': {'M': {'Biotech.Floor_4.Lab_457B.Hood_1': {'M': {'flow_sensor': {'S': '#biotech/biotech_4th_floor/fourth_floor_fume_hood_lab_spaces/lab_421_control/hoodvalve_flow'},\n",
       "     'floor': {'S': '4'},\n",
       "     'lab': {'S': '421'},\n",
       "     'hood': {'S': '1'},\n",
       "     'building': {'S': 'biotech'},\n",
       "     'sash_sensor': {'S': '#biotech/biotech_4th_floor/fourth_floor_fume_hood_lab_spaces/lab_421_control/hood_sash'}}}}}}"
      ]
     },
     "metadata": {},
     "output_type": "display_data"
    },
    {
     "name": "stdout",
     "output_type": "stream",
     "text": [
      "Buildings:\n"
     ]
    },
    {
     "data": {
      "text/plain": [
       "{'id': {'S': 'buildings'},\n",
       " 'map': {'M': {'Biotech.Floor_4.Lab_457B.Hood_1': {'M': {'external_temp_sensor': {'S': '#biotech/ground_flr_mech/building_hydronic_heating_syatems/reheat_heat_exchanger/oat'}}}}}}"
      ]
     },
     "metadata": {},
     "output_type": "display_data"
    },
    {
     "name": "stdout",
     "output_type": "stream",
     "text": [
      "Labs:\n"
     ]
    },
    {
     "data": {
      "text/plain": [
       "{'id': {'S': 'labs'},\n",
       " 'map': {'M': {'Biotech.Floor_4.Lab_457B.Hood_1': {'M': {'occ_sensor': {'S': '#biotech/biotech_4th_floor/fourth_floor_fume_hood_lab_spaces/lab_421_control/occ'},\n",
       "     'internal_temp_sensor': {'S': '#biotech/biotech_4th_floor/fourth_floor_fume_hood_lab_spaces/lab_421_control/zone/zone_temp/trend_log'},\n",
       "     'floor': {'S': '4'},\n",
       "     'lab': {'S': '421'},\n",
       "     'building': {'S': 'biotech'}}}}}}"
      ]
     },
     "metadata": {},
     "output_type": "display_data"
    },
    {
     "name": "stdout",
     "output_type": "stream",
     "text": [
      "Occupants:\n"
     ]
    },
    {
     "data": {
      "text/plain": [
       "{'id': {'S': 'occupants'},\n",
       " 'map': {'M': {'rf377@cornell.edu': {'M': {'name': {'S': 'Reid Fleishman'},\n",
       "     'lab': {'S': 'Biotech.Floor_3.Lab_317'}}}}}}"
      ]
     },
     "metadata": {},
     "output_type": "display_data"
    },
    {
     "name": "stdout",
     "output_type": "stream",
     "text": [
      "None\n",
      "None\n",
      "None\n",
      "None\n",
      "Hoods:\n"
     ]
    },
    {
     "data": {
      "text/plain": [
       "{'id': {'S': 'hoods'},\n",
       " 'map': {'M': {'Biotech.Floor_4.Lab_457B.Hood_1': {'M': {'flow_sensor': {'S': '#biotech/biotech_4th_floor/fourth_floor_fume_hood_lab_spaces/lab_421b_control/hoodvalve_flow'},\n",
       "     'floor': {'S': '4'},\n",
       "     'lab': {'S': '421B'},\n",
       "     'hood': {'S': '1'},\n",
       "     'building': {'S': 'biotech'},\n",
       "     'sash_sensor': {'S': '#biotech/biotech_4th_floor/fourth_floor_fume_hood_lab_spaces/lab_421b_control/hood_sash'}}}}}}"
      ]
     },
     "metadata": {},
     "output_type": "display_data"
    },
    {
     "name": "stdout",
     "output_type": "stream",
     "text": [
      "Buildings:\n"
     ]
    },
    {
     "data": {
      "text/plain": [
       "{'id': {'S': 'buildings'},\n",
       " 'map': {'M': {'Biotech.Floor_4.Lab_457B.Hood_1': {'M': {'external_temp_sensor': {'S': '#biotech/ground_flr_mech/building_hydronic_heating_syatems/reheat_heat_exchanger/oat'}}}}}}"
      ]
     },
     "metadata": {},
     "output_type": "display_data"
    },
    {
     "name": "stdout",
     "output_type": "stream",
     "text": [
      "Labs:\n"
     ]
    },
    {
     "data": {
      "text/plain": [
       "{'id': {'S': 'labs'},\n",
       " 'map': {'M': {'Biotech.Floor_4.Lab_457B.Hood_1': {'M': {'occ_sensor': {'S': '#biotech/biotech_4th_floor/fourth_floor_fume_hood_lab_spaces/lab_421b_control/occ'},\n",
       "     'internal_temp_sensor': {'S': '#biotech/biotech_4th_floor/fourth_floor_fume_hood_lab_spaces/lab_421b_control/zone/zone_temp/trend_log'},\n",
       "     'floor': {'S': '4'},\n",
       "     'lab': {'S': '421B'},\n",
       "     'building': {'S': 'biotech'}}}}}}"
      ]
     },
     "metadata": {},
     "output_type": "display_data"
    },
    {
     "name": "stdout",
     "output_type": "stream",
     "text": [
      "Occupants:\n"
     ]
    },
    {
     "data": {
      "text/plain": [
       "{'id': {'S': 'occupants'},\n",
       " 'map': {'M': {'rf377@cornell.edu': {'M': {'name': {'S': 'Reid Fleishman'},\n",
       "     'lab': {'S': 'Biotech.Floor_3.Lab_317'}}}}}}"
      ]
     },
     "metadata": {},
     "output_type": "display_data"
    },
    {
     "name": "stdout",
     "output_type": "stream",
     "text": [
      "None\n",
      "None\n",
      "None\n",
      "None\n",
      "Hoods:\n"
     ]
    },
    {
     "data": {
      "text/plain": [
       "{'id': {'S': 'hoods'},\n",
       " 'map': {'M': {'Biotech.Floor_4.Lab_457B.Hood_1': {'M': {'flow_sensor': {'S': '#biotech/biotech_4th_floor/fourth_floor_fume_hood_lab_spaces/lab_427b_control/hoodvalve_flow'},\n",
       "     'floor': {'S': '4'},\n",
       "     'lab': {'S': '427B'},\n",
       "     'hood': {'S': '1'},\n",
       "     'building': {'S': 'biotech'},\n",
       "     'sash_sensor': {'S': '#biotech/biotech_4th_floor/fourth_floor_fume_hood_lab_spaces/lab_427b_control/hood_sash'}}}}}}"
      ]
     },
     "metadata": {},
     "output_type": "display_data"
    },
    {
     "name": "stdout",
     "output_type": "stream",
     "text": [
      "Buildings:\n"
     ]
    },
    {
     "data": {
      "text/plain": [
       "{'id': {'S': 'buildings'},\n",
       " 'map': {'M': {'Biotech.Floor_4.Lab_457B.Hood_1': {'M': {'external_temp_sensor': {'S': '#biotech/ground_flr_mech/building_hydronic_heating_syatems/reheat_heat_exchanger/oat'}}}}}}"
      ]
     },
     "metadata": {},
     "output_type": "display_data"
    },
    {
     "name": "stdout",
     "output_type": "stream",
     "text": [
      "Labs:\n"
     ]
    },
    {
     "data": {
      "text/plain": [
       "{'id': {'S': 'labs'},\n",
       " 'map': {'M': {'Biotech.Floor_4.Lab_457B.Hood_1': {'M': {'occ_sensor': {'S': '#biotech/biotech_4th_floor/fourth_floor_fume_hood_lab_spaces/lab_427b_control/occ'},\n",
       "     'internal_temp_sensor': {'S': '#biotech/biotech_4th_floor/fourth_floor_fume_hood_lab_spaces/lab_427b_control/zone/zone_temp/trend_log'},\n",
       "     'floor': {'S': '4'},\n",
       "     'lab': {'S': '427B'},\n",
       "     'building': {'S': 'biotech'}}}}}}"
      ]
     },
     "metadata": {},
     "output_type": "display_data"
    },
    {
     "name": "stdout",
     "output_type": "stream",
     "text": [
      "Occupants:\n"
     ]
    },
    {
     "data": {
      "text/plain": [
       "{'id': {'S': 'occupants'},\n",
       " 'map': {'M': {'rf377@cornell.edu': {'M': {'name': {'S': 'Reid Fleishman'},\n",
       "     'lab': {'S': 'Biotech.Floor_3.Lab_317'}}}}}}"
      ]
     },
     "metadata": {},
     "output_type": "display_data"
    },
    {
     "name": "stdout",
     "output_type": "stream",
     "text": [
      "None\n",
      "None\n",
      "None\n",
      "None\n",
      "Hoods:\n"
     ]
    },
    {
     "data": {
      "text/plain": [
       "{'id': {'S': 'hoods'},\n",
       " 'map': {'M': {'Biotech.Floor_4.Lab_457B.Hood_1': {'M': {'flow_sensor': {'S': '#biotech/biotech_4th_floor/fourth_floor_fume_hood_lab_spaces/lab_433_control/hoodvalve_flow'},\n",
       "     'floor': {'S': '4'},\n",
       "     'lab': {'S': '433'},\n",
       "     'hood': {'S': '1'},\n",
       "     'building': {'S': 'biotech'},\n",
       "     'sash_sensor': {'S': '#biotech/biotech_4th_floor/fourth_floor_fume_hood_lab_spaces/lab_433_control/hood_sash'}}}}}}"
      ]
     },
     "metadata": {},
     "output_type": "display_data"
    },
    {
     "name": "stdout",
     "output_type": "stream",
     "text": [
      "Buildings:\n"
     ]
    },
    {
     "data": {
      "text/plain": [
       "{'id': {'S': 'buildings'},\n",
       " 'map': {'M': {'Biotech.Floor_4.Lab_457B.Hood_1': {'M': {'external_temp_sensor': {'S': '#biotech/ground_flr_mech/building_hydronic_heating_syatems/reheat_heat_exchanger/oat'}}}}}}"
      ]
     },
     "metadata": {},
     "output_type": "display_data"
    },
    {
     "name": "stdout",
     "output_type": "stream",
     "text": [
      "Labs:\n"
     ]
    },
    {
     "data": {
      "text/plain": [
       "{'id': {'S': 'labs'},\n",
       " 'map': {'M': {'Biotech.Floor_4.Lab_457B.Hood_1': {'M': {'occ_sensor': {'S': '#biotech/biotech_4th_floor/fourth_floor_fume_hood_lab_spaces/lab_433_control/occ'},\n",
       "     'internal_temp_sensor': {'S': '#biotech/biotech_4th_floor/fourth_floor_fume_hood_lab_spaces/lab_433_control/zone/zone_temp/trend_log'},\n",
       "     'floor': {'S': '4'},\n",
       "     'lab': {'S': '433'},\n",
       "     'building': {'S': 'biotech'}}}}}}"
      ]
     },
     "metadata": {},
     "output_type": "display_data"
    },
    {
     "name": "stdout",
     "output_type": "stream",
     "text": [
      "Occupants:\n"
     ]
    },
    {
     "data": {
      "text/plain": [
       "{'id': {'S': 'occupants'},\n",
       " 'map': {'M': {'rf377@cornell.edu': {'M': {'name': {'S': 'Reid Fleishman'},\n",
       "     'lab': {'S': 'Biotech.Floor_3.Lab_317'}}}}}}"
      ]
     },
     "metadata": {},
     "output_type": "display_data"
    },
    {
     "name": "stdout",
     "output_type": "stream",
     "text": [
      "None\n",
      "None\n",
      "None\n",
      "None\n",
      "Hoods:\n"
     ]
    },
    {
     "data": {
      "text/plain": [
       "{'id': {'S': 'hoods'},\n",
       " 'map': {'M': {'Biotech.Floor_4.Lab_457B.Hood_1': {'M': {'flow_sensor': {'S': '#biotech/biotech_4th_floor/fourth_floor_fume_hood_lab_spaces/lab_433b_control/hoodvalve_flow'},\n",
       "     'floor': {'S': '4'},\n",
       "     'lab': {'S': '433B'},\n",
       "     'hood': {'S': '1'},\n",
       "     'building': {'S': 'biotech'},\n",
       "     'sash_sensor': {'S': '#biotech/biotech_4th_floor/fourth_floor_fume_hood_lab_spaces/lab_433b_control/hood_sash'}}}}}}"
      ]
     },
     "metadata": {},
     "output_type": "display_data"
    },
    {
     "name": "stdout",
     "output_type": "stream",
     "text": [
      "Buildings:\n"
     ]
    },
    {
     "data": {
      "text/plain": [
       "{'id': {'S': 'buildings'},\n",
       " 'map': {'M': {'Biotech.Floor_4.Lab_457B.Hood_1': {'M': {'external_temp_sensor': {'S': '#biotech/ground_flr_mech/building_hydronic_heating_syatems/reheat_heat_exchanger/oat'}}}}}}"
      ]
     },
     "metadata": {},
     "output_type": "display_data"
    },
    {
     "name": "stdout",
     "output_type": "stream",
     "text": [
      "Labs:\n"
     ]
    },
    {
     "data": {
      "text/plain": [
       "{'id': {'S': 'labs'},\n",
       " 'map': {'M': {'Biotech.Floor_4.Lab_457B.Hood_1': {'M': {'occ_sensor': {'S': '#biotech/biotech_4th_floor/fourth_floor_fume_hood_lab_spaces/lab_433b_control/occ'},\n",
       "     'internal_temp_sensor': {'S': '#biotech/biotech_4th_floor/fourth_floor_fume_hood_lab_spaces/lab_433b_control/zone/zone_temp/trend_log'},\n",
       "     'floor': {'S': '4'},\n",
       "     'lab': {'S': '433B'},\n",
       "     'building': {'S': 'biotech'}}}}}}"
      ]
     },
     "metadata": {},
     "output_type": "display_data"
    },
    {
     "name": "stdout",
     "output_type": "stream",
     "text": [
      "Occupants:\n"
     ]
    },
    {
     "data": {
      "text/plain": [
       "{'id': {'S': 'occupants'},\n",
       " 'map': {'M': {'rf377@cornell.edu': {'M': {'name': {'S': 'Reid Fleishman'},\n",
       "     'lab': {'S': 'Biotech.Floor_3.Lab_317'}}}}}}"
      ]
     },
     "metadata": {},
     "output_type": "display_data"
    },
    {
     "name": "stdout",
     "output_type": "stream",
     "text": [
      "None\n",
      "None\n",
      "None\n",
      "None\n",
      "Hoods:\n"
     ]
    },
    {
     "data": {
      "text/plain": [
       "{'id': {'S': 'hoods'},\n",
       " 'map': {'M': {'Biotech.Floor_4.Lab_457B.Hood_1': {'M': {'flow_sensor': {'S': '#biotech/biotech_4th_floor/fourth_floor_fume_hood_lab_spaces/lab_441_control/hoodvalve_flow'},\n",
       "     'floor': {'S': '4'},\n",
       "     'lab': {'S': '441'},\n",
       "     'hood': {'S': '1'},\n",
       "     'building': {'S': 'biotech'},\n",
       "     'sash_sensor': {'S': '#biotech/biotech_4th_floor/fourth_floor_fume_hood_lab_spaces/lab_441_control/hood_sash'}}}}}}"
      ]
     },
     "metadata": {},
     "output_type": "display_data"
    },
    {
     "name": "stdout",
     "output_type": "stream",
     "text": [
      "Buildings:\n"
     ]
    },
    {
     "data": {
      "text/plain": [
       "{'id': {'S': 'buildings'},\n",
       " 'map': {'M': {'Biotech.Floor_4.Lab_457B.Hood_1': {'M': {'external_temp_sensor': {'S': '#biotech/ground_flr_mech/building_hydronic_heating_syatems/reheat_heat_exchanger/oat'}}}}}}"
      ]
     },
     "metadata": {},
     "output_type": "display_data"
    },
    {
     "name": "stdout",
     "output_type": "stream",
     "text": [
      "Labs:\n"
     ]
    },
    {
     "data": {
      "text/plain": [
       "{'id': {'S': 'labs'},\n",
       " 'map': {'M': {'Biotech.Floor_4.Lab_457B.Hood_1': {'M': {'occ_sensor': {'S': '#biotech/biotech_4th_floor/fourth_floor_fume_hood_lab_spaces/lab_441_control/occ'},\n",
       "     'internal_temp_sensor': {'S': '#biotech/biotech_4th_floor/fourth_floor_fume_hood_lab_spaces/lab_441_control/zone/zone_temp/trend_log'},\n",
       "     'floor': {'S': '4'},\n",
       "     'lab': {'S': '441'},\n",
       "     'building': {'S': 'biotech'}}}}}}"
      ]
     },
     "metadata": {},
     "output_type": "display_data"
    },
    {
     "name": "stdout",
     "output_type": "stream",
     "text": [
      "Occupants:\n"
     ]
    },
    {
     "data": {
      "text/plain": [
       "{'id': {'S': 'occupants'},\n",
       " 'map': {'M': {'rf377@cornell.edu': {'M': {'name': {'S': 'Reid Fleishman'},\n",
       "     'lab': {'S': 'Biotech.Floor_3.Lab_317'}}}}}}"
      ]
     },
     "metadata": {},
     "output_type": "display_data"
    },
    {
     "name": "stdout",
     "output_type": "stream",
     "text": [
      "None\n",
      "None\n",
      "None\n",
      "None\n",
      "Hoods:\n"
     ]
    },
    {
     "data": {
      "text/plain": [
       "{'id': {'S': 'hoods'},\n",
       " 'map': {'M': {'Biotech.Floor_4.Lab_457B.Hood_1': {'M': {'flow_sensor': {'S': '#biotech/biotech_4th_floor/fourth_floor_fume_hood_lab_spaces/lab_441b_control/hoodvalve_flow'},\n",
       "     'floor': {'S': '4'},\n",
       "     'lab': {'S': '441B'},\n",
       "     'hood': {'S': '1'},\n",
       "     'building': {'S': 'biotech'},\n",
       "     'sash_sensor': {'S': '#biotech/biotech_4th_floor/fourth_floor_fume_hood_lab_spaces/lab_441b_control/hood_sash'}}}}}}"
      ]
     },
     "metadata": {},
     "output_type": "display_data"
    },
    {
     "name": "stdout",
     "output_type": "stream",
     "text": [
      "Buildings:\n"
     ]
    },
    {
     "data": {
      "text/plain": [
       "{'id': {'S': 'buildings'},\n",
       " 'map': {'M': {'Biotech.Floor_4.Lab_457B.Hood_1': {'M': {'external_temp_sensor': {'S': '#biotech/ground_flr_mech/building_hydronic_heating_syatems/reheat_heat_exchanger/oat'}}}}}}"
      ]
     },
     "metadata": {},
     "output_type": "display_data"
    },
    {
     "name": "stdout",
     "output_type": "stream",
     "text": [
      "Labs:\n"
     ]
    },
    {
     "data": {
      "text/plain": [
       "{'id': {'S': 'labs'},\n",
       " 'map': {'M': {'Biotech.Floor_4.Lab_457B.Hood_1': {'M': {'occ_sensor': {'S': '#biotech/biotech_4th_floor/fourth_floor_fume_hood_lab_spaces/lab_441b_control/occ'},\n",
       "     'internal_temp_sensor': {'S': '#biotech/biotech_4th_floor/fourth_floor_fume_hood_lab_spaces/lab_441b_control/zone/zone_temp/trend_log'},\n",
       "     'floor': {'S': '4'},\n",
       "     'lab': {'S': '441B'},\n",
       "     'building': {'S': 'biotech'}}}}}}"
      ]
     },
     "metadata": {},
     "output_type": "display_data"
    },
    {
     "name": "stdout",
     "output_type": "stream",
     "text": [
      "Occupants:\n"
     ]
    },
    {
     "data": {
      "text/plain": [
       "{'id': {'S': 'occupants'},\n",
       " 'map': {'M': {'rf377@cornell.edu': {'M': {'name': {'S': 'Reid Fleishman'},\n",
       "     'lab': {'S': 'Biotech.Floor_3.Lab_317'}}}}}}"
      ]
     },
     "metadata": {},
     "output_type": "display_data"
    },
    {
     "name": "stdout",
     "output_type": "stream",
     "text": [
      "None\n",
      "None\n",
      "None\n",
      "None\n",
      "Hoods:\n"
     ]
    },
    {
     "data": {
      "text/plain": [
       "{'id': {'S': 'hoods'},\n",
       " 'map': {'M': {'Biotech.Floor_4.Lab_457B.Hood_1': {'M': {'flow_sensor': {'S': '#biotech/biotech_4th_floor/fourth_floor_fume_hood_lab_spaces/lab_445_control/hoodvalve_flow'},\n",
       "     'floor': {'S': '4'},\n",
       "     'lab': {'S': '445'},\n",
       "     'hood': {'S': '1'},\n",
       "     'building': {'S': 'biotech'},\n",
       "     'sash_sensor': {'S': '#biotech/biotech_4th_floor/fourth_floor_fume_hood_lab_spaces/lab_445_control/hood_sash'}}}}}}"
      ]
     },
     "metadata": {},
     "output_type": "display_data"
    },
    {
     "name": "stdout",
     "output_type": "stream",
     "text": [
      "Buildings:\n"
     ]
    },
    {
     "data": {
      "text/plain": [
       "{'id': {'S': 'buildings'},\n",
       " 'map': {'M': {'Biotech.Floor_4.Lab_457B.Hood_1': {'M': {'external_temp_sensor': {'S': '#biotech/ground_flr_mech/building_hydronic_heating_syatems/reheat_heat_exchanger/oat'}}}}}}"
      ]
     },
     "metadata": {},
     "output_type": "display_data"
    },
    {
     "name": "stdout",
     "output_type": "stream",
     "text": [
      "Labs:\n"
     ]
    },
    {
     "data": {
      "text/plain": [
       "{'id': {'S': 'labs'},\n",
       " 'map': {'M': {'Biotech.Floor_4.Lab_457B.Hood_1': {'M': {'occ_sensor': {'S': '#biotech/biotech_4th_floor/fourth_floor_fume_hood_lab_spaces/lab_445_control/occ'},\n",
       "     'internal_temp_sensor': {'S': '#biotech/biotech_4th_floor/fourth_floor_fume_hood_lab_spaces/lab_445_control/zone/zone_temp/trend_log'},\n",
       "     'floor': {'S': '4'},\n",
       "     'lab': {'S': '445'},\n",
       "     'building': {'S': 'biotech'}}}}}}"
      ]
     },
     "metadata": {},
     "output_type": "display_data"
    },
    {
     "name": "stdout",
     "output_type": "stream",
     "text": [
      "Occupants:\n"
     ]
    },
    {
     "data": {
      "text/plain": [
       "{'id': {'S': 'occupants'},\n",
       " 'map': {'M': {'rf377@cornell.edu': {'M': {'name': {'S': 'Reid Fleishman'},\n",
       "     'lab': {'S': 'Biotech.Floor_3.Lab_317'}}}}}}"
      ]
     },
     "metadata": {},
     "output_type": "display_data"
    },
    {
     "name": "stdout",
     "output_type": "stream",
     "text": [
      "None\n",
      "None\n",
      "None\n",
      "None\n",
      "Hoods:\n"
     ]
    },
    {
     "data": {
      "text/plain": [
       "{'id': {'S': 'hoods'},\n",
       " 'map': {'M': {'Biotech.Floor_4.Lab_457B.Hood_1': {'M': {'flow_sensor': {'S': '#biotech/biotech_4th_floor/fourth_floor_fume_hood_lab_spaces/lab_445b_control/hoodvalve_flow'},\n",
       "     'floor': {'S': '4'},\n",
       "     'lab': {'S': '445B'},\n",
       "     'hood': {'S': '1'},\n",
       "     'building': {'S': 'biotech'},\n",
       "     'sash_sensor': {'S': '#biotech/biotech_4th_floor/fourth_floor_fume_hood_lab_spaces/lab_445b_control/hood_sash'}}}}}}"
      ]
     },
     "metadata": {},
     "output_type": "display_data"
    },
    {
     "name": "stdout",
     "output_type": "stream",
     "text": [
      "Buildings:\n"
     ]
    },
    {
     "data": {
      "text/plain": [
       "{'id': {'S': 'buildings'},\n",
       " 'map': {'M': {'Biotech.Floor_4.Lab_457B.Hood_1': {'M': {'external_temp_sensor': {'S': '#biotech/ground_flr_mech/building_hydronic_heating_syatems/reheat_heat_exchanger/oat'}}}}}}"
      ]
     },
     "metadata": {},
     "output_type": "display_data"
    },
    {
     "name": "stdout",
     "output_type": "stream",
     "text": [
      "Labs:\n"
     ]
    },
    {
     "data": {
      "text/plain": [
       "{'id': {'S': 'labs'},\n",
       " 'map': {'M': {'Biotech.Floor_4.Lab_457B.Hood_1': {'M': {'occ_sensor': {'S': '#biotech/biotech_4th_floor/fourth_floor_fume_hood_lab_spaces/lab_445b_control/occ'},\n",
       "     'internal_temp_sensor': {'S': '#biotech/biotech_4th_floor/fourth_floor_fume_hood_lab_spaces/lab_445b_control/zone/zone_temp/trend_log'},\n",
       "     'floor': {'S': '4'},\n",
       "     'lab': {'S': '445B'},\n",
       "     'building': {'S': 'biotech'}}}}}}"
      ]
     },
     "metadata": {},
     "output_type": "display_data"
    },
    {
     "name": "stdout",
     "output_type": "stream",
     "text": [
      "Occupants:\n"
     ]
    },
    {
     "data": {
      "text/plain": [
       "{'id': {'S': 'occupants'},\n",
       " 'map': {'M': {'rf377@cornell.edu': {'M': {'name': {'S': 'Reid Fleishman'},\n",
       "     'lab': {'S': 'Biotech.Floor_3.Lab_317'}}}}}}"
      ]
     },
     "metadata": {},
     "output_type": "display_data"
    },
    {
     "name": "stdout",
     "output_type": "stream",
     "text": [
      "None\n",
      "None\n",
      "None\n",
      "None\n",
      "Hoods:\n"
     ]
    },
    {
     "data": {
      "text/plain": [
       "{'id': {'S': 'hoods'},\n",
       " 'map': {'M': {'Biotech.Floor_4.Lab_457B.Hood_1': {'M': {'flow_sensor': {'S': '#biotech/biotech_4th_floor/fourth_floor_fume_hood_lab_spaces/lab_453_control/hoodvalve_flow'},\n",
       "     'floor': {'S': '4'},\n",
       "     'lab': {'S': '453'},\n",
       "     'hood': {'S': '1'},\n",
       "     'building': {'S': 'biotech'},\n",
       "     'sash_sensor': {'S': '#biotech/biotech_4th_floor/fourth_floor_fume_hood_lab_spaces/lab_453_control/hood_sash'}}}}}}"
      ]
     },
     "metadata": {},
     "output_type": "display_data"
    },
    {
     "name": "stdout",
     "output_type": "stream",
     "text": [
      "Buildings:\n"
     ]
    },
    {
     "data": {
      "text/plain": [
       "{'id': {'S': 'buildings'},\n",
       " 'map': {'M': {'Biotech.Floor_4.Lab_457B.Hood_1': {'M': {'external_temp_sensor': {'S': '#biotech/ground_flr_mech/building_hydronic_heating_syatems/reheat_heat_exchanger/oat'}}}}}}"
      ]
     },
     "metadata": {},
     "output_type": "display_data"
    },
    {
     "name": "stdout",
     "output_type": "stream",
     "text": [
      "Labs:\n"
     ]
    },
    {
     "data": {
      "text/plain": [
       "{'id': {'S': 'labs'},\n",
       " 'map': {'M': {'Biotech.Floor_4.Lab_457B.Hood_1': {'M': {'occ_sensor': {'S': '#biotech/biotech_4th_floor/fourth_floor_fume_hood_lab_spaces/lab_453_control/occ'},\n",
       "     'internal_temp_sensor': {'S': '#biotech/biotech_4th_floor/fourth_floor_fume_hood_lab_spaces/lab_453_control/zone/zone_temp/trend_log'},\n",
       "     'floor': {'S': '4'},\n",
       "     'lab': {'S': '453'},\n",
       "     'building': {'S': 'biotech'}}}}}}"
      ]
     },
     "metadata": {},
     "output_type": "display_data"
    },
    {
     "name": "stdout",
     "output_type": "stream",
     "text": [
      "Occupants:\n"
     ]
    },
    {
     "data": {
      "text/plain": [
       "{'id': {'S': 'occupants'},\n",
       " 'map': {'M': {'rf377@cornell.edu': {'M': {'name': {'S': 'Reid Fleishman'},\n",
       "     'lab': {'S': 'Biotech.Floor_3.Lab_317'}}}}}}"
      ]
     },
     "metadata": {},
     "output_type": "display_data"
    },
    {
     "name": "stdout",
     "output_type": "stream",
     "text": [
      "None\n",
      "None\n",
      "None\n",
      "None\n",
      "Hoods:\n"
     ]
    },
    {
     "data": {
      "text/plain": [
       "{'id': {'S': 'hoods'},\n",
       " 'map': {'M': {'Biotech.Floor_4.Lab_457B.Hood_1': {'M': {'flow_sensor': {'S': '#biotech/biotech_4th_floor/fourth_floor_fume_hood_lab_spaces/lab_453b_control/hoodvalve_flow'},\n",
       "     'floor': {'S': '4'},\n",
       "     'lab': {'S': '453B'},\n",
       "     'hood': {'S': '1'},\n",
       "     'building': {'S': 'biotech'},\n",
       "     'sash_sensor': {'S': '#biotech/biotech_4th_floor/fourth_floor_fume_hood_lab_spaces/lab_453b_control/hood_sash'}}}}}}"
      ]
     },
     "metadata": {},
     "output_type": "display_data"
    },
    {
     "name": "stdout",
     "output_type": "stream",
     "text": [
      "Buildings:\n"
     ]
    },
    {
     "data": {
      "text/plain": [
       "{'id': {'S': 'buildings'},\n",
       " 'map': {'M': {'Biotech.Floor_4.Lab_457B.Hood_1': {'M': {'external_temp_sensor': {'S': '#biotech/ground_flr_mech/building_hydronic_heating_syatems/reheat_heat_exchanger/oat'}}}}}}"
      ]
     },
     "metadata": {},
     "output_type": "display_data"
    },
    {
     "name": "stdout",
     "output_type": "stream",
     "text": [
      "Labs:\n"
     ]
    },
    {
     "data": {
      "text/plain": [
       "{'id': {'S': 'labs'},\n",
       " 'map': {'M': {'Biotech.Floor_4.Lab_457B.Hood_1': {'M': {'occ_sensor': {'S': '#biotech/biotech_4th_floor/fourth_floor_fume_hood_lab_spaces/lab_453b_control/occ'},\n",
       "     'internal_temp_sensor': {'S': '#biotech/biotech_4th_floor/fourth_floor_fume_hood_lab_spaces/lab_453b_control/zone/zone_temp/trend_log'},\n",
       "     'floor': {'S': '4'},\n",
       "     'lab': {'S': '453B'},\n",
       "     'building': {'S': 'biotech'}}}}}}"
      ]
     },
     "metadata": {},
     "output_type": "display_data"
    },
    {
     "name": "stdout",
     "output_type": "stream",
     "text": [
      "Occupants:\n"
     ]
    },
    {
     "data": {
      "text/plain": [
       "{'id': {'S': 'occupants'},\n",
       " 'map': {'M': {'rf377@cornell.edu': {'M': {'name': {'S': 'Reid Fleishman'},\n",
       "     'lab': {'S': 'Biotech.Floor_3.Lab_317'}}}}}}"
      ]
     },
     "metadata": {},
     "output_type": "display_data"
    },
    {
     "name": "stdout",
     "output_type": "stream",
     "text": [
      "None\n",
      "None\n",
      "None\n",
      "None\n",
      "Hoods:\n"
     ]
    },
    {
     "data": {
      "text/plain": [
       "{'id': {'S': 'hoods'},\n",
       " 'map': {'M': {'Biotech.Floor_4.Lab_457B.Hood_1': {'M': {'flow_sensor': {'S': '#biotech/biotech_4th_floor/fourth_floor_fume_hood_lab_spaces/lab_457_control/hoodvalve_flow'},\n",
       "     'floor': {'S': '4'},\n",
       "     'lab': {'S': '457'},\n",
       "     'hood': {'S': '1'},\n",
       "     'building': {'S': 'biotech'},\n",
       "     'sash_sensor': {'S': '#biotech/biotech_4th_floor/fourth_floor_fume_hood_lab_spaces/lab_457_control/hood_sash'}}}}}}"
      ]
     },
     "metadata": {},
     "output_type": "display_data"
    },
    {
     "name": "stdout",
     "output_type": "stream",
     "text": [
      "Buildings:\n"
     ]
    },
    {
     "data": {
      "text/plain": [
       "{'id': {'S': 'buildings'},\n",
       " 'map': {'M': {'Biotech.Floor_4.Lab_457B.Hood_1': {'M': {'external_temp_sensor': {'S': '#biotech/ground_flr_mech/building_hydronic_heating_syatems/reheat_heat_exchanger/oat'}}}}}}"
      ]
     },
     "metadata": {},
     "output_type": "display_data"
    },
    {
     "name": "stdout",
     "output_type": "stream",
     "text": [
      "Labs:\n"
     ]
    },
    {
     "data": {
      "text/plain": [
       "{'id': {'S': 'labs'},\n",
       " 'map': {'M': {'Biotech.Floor_4.Lab_457B.Hood_1': {'M': {'occ_sensor': {'S': '#biotech/biotech_4th_floor/fourth_floor_fume_hood_lab_spaces/lab_457_control/occ'},\n",
       "     'internal_temp_sensor': {'S': '#biotech/biotech_4th_floor/fourth_floor_fume_hood_lab_spaces/lab_457_control/zone/zone_temp/trend_log'},\n",
       "     'floor': {'S': '4'},\n",
       "     'lab': {'S': '457'},\n",
       "     'building': {'S': 'biotech'}}}}}}"
      ]
     },
     "metadata": {},
     "output_type": "display_data"
    },
    {
     "name": "stdout",
     "output_type": "stream",
     "text": [
      "Occupants:\n"
     ]
    },
    {
     "data": {
      "text/plain": [
       "{'id': {'S': 'occupants'},\n",
       " 'map': {'M': {'rf377@cornell.edu': {'M': {'name': {'S': 'Reid Fleishman'},\n",
       "     'lab': {'S': 'Biotech.Floor_3.Lab_317'}}}}}}"
      ]
     },
     "metadata": {},
     "output_type": "display_data"
    },
    {
     "name": "stdout",
     "output_type": "stream",
     "text": [
      "None\n",
      "None\n",
      "None\n",
      "None\n",
      "Hoods:\n"
     ]
    },
    {
     "data": {
      "text/plain": [
       "{'id': {'S': 'hoods'},\n",
       " 'map': {'M': {'Biotech.Floor_4.Lab_457B.Hood_1': {'M': {'flow_sensor': {'S': '#biotech/biotech_4th_floor/fourth_floor_fume_hood_lab_spaces/lab_457b_control/hoodvalve_flow'},\n",
       "     'floor': {'S': '4'},\n",
       "     'lab': {'S': '457B'},\n",
       "     'hood': {'S': '1'},\n",
       "     'building': {'S': 'biotech'},\n",
       "     'sash_sensor': {'S': '#biotech/biotech_4th_floor/fourth_floor_fume_hood_lab_spaces/lab_457b_control/hood_sash'}}}}}}"
      ]
     },
     "metadata": {},
     "output_type": "display_data"
    },
    {
     "name": "stdout",
     "output_type": "stream",
     "text": [
      "Buildings:\n"
     ]
    },
    {
     "data": {
      "text/plain": [
       "{'id': {'S': 'buildings'},\n",
       " 'map': {'M': {'Biotech.Floor_4.Lab_457B.Hood_1': {'M': {'external_temp_sensor': {'S': '#biotech/ground_flr_mech/building_hydronic_heating_syatems/reheat_heat_exchanger/oat'}}}}}}"
      ]
     },
     "metadata": {},
     "output_type": "display_data"
    },
    {
     "name": "stdout",
     "output_type": "stream",
     "text": [
      "Labs:\n"
     ]
    },
    {
     "data": {
      "text/plain": [
       "{'id': {'S': 'labs'},\n",
       " 'map': {'M': {'Biotech.Floor_4.Lab_457B.Hood_1': {'M': {'occ_sensor': {'S': '#biotech/biotech_4th_floor/fourth_floor_fume_hood_lab_spaces/lab_457b_control/occ'},\n",
       "     'internal_temp_sensor': {'S': '#biotech/biotech_4th_floor/fourth_floor_fume_hood_lab_spaces/lab_457b_control/zone/zone_temp/trend_log'},\n",
       "     'floor': {'S': '4'},\n",
       "     'lab': {'S': '457B'},\n",
       "     'building': {'S': 'biotech'}}}}}}"
      ]
     },
     "metadata": {},
     "output_type": "display_data"
    },
    {
     "name": "stdout",
     "output_type": "stream",
     "text": [
      "Occupants:\n"
     ]
    },
    {
     "data": {
      "text/plain": [
       "{'id': {'S': 'occupants'},\n",
       " 'map': {'M': {'rf377@cornell.edu': {'M': {'name': {'S': 'Reid Fleishman'},\n",
       "     'lab': {'S': 'Biotech.Floor_3.Lab_317'}}}}}}"
      ]
     },
     "metadata": {},
     "output_type": "display_data"
    }
   ],
   "source": [
    "# Creating the DynamoDB Client\n",
    "# make sure to set the AWS_ACCESS_KEY_ID and\n",
    "# AWS_SECRET_ACCESS_KEY environment variables\n",
    "# OR pass credentials when creating the client:\n",
    "dynamodb_client = boto3.client('dynamodb', region_name=\"us-east-1\")\n",
    "\n",
    "TABLE_NAME = \"fumehoods\"\n",
    "\n",
    "dyn_resource = boto3.resource(\"dynamodb\", region_name=\"us-east-1\")\n",
    "TABLE_NAME = \"fumehoods\"\n",
    "table = dyn_resource.Table(TABLE_NAME)\n",
    "\n",
    "# read Robbie's csv output here\n",
    "with open('namingconvention.csv', 'r') as file:\n",
    "    csv_dict_reader = csv.DictReader(file)\n",
    "    for row in csv_dict_reader:\n",
    "\n",
    "\n",
    "        hoods = {\n",
    "            \"id\": \"hoods\",\n",
    "            \"map\": {\n",
    "                row['name']: { #\"Biotech.Floor_3.Lab_317.Hood_1\"\n",
    "                    \"building\": row['building'], #\"Biotech\"\n",
    "                    \"floor\": row['Floor'], #\"3\"\n",
    "                    \"lab\": row['Lab'], # \"317\"\n",
    "                    \"hood\": row['hood'], # \"1\"\n",
    "                    \"flow_sensor\": row['Flow Sensor'], # \"#path_to_this_sensor\"\n",
    "                    \"sash_sensor\": row['Sash'], # \"#path_to_this_sensor\"\n",
    "                },\n",
    "                # \"Biotech.Floor_4.Lab_433.Hood_1\": {\n",
    "                #     \"building\": \"Biotech\",\n",
    "                #     \"floor\": \"4\",\n",
    "                #     \"lab\": \"433\",\n",
    "                #     \"hood\": \"1\",\n",
    "                #     \"flow_sensor\": \"#path_to_this_sensor\",\n",
    "                #     \"sash_sensor\": \"#path_to_this_sensor\",\n",
    "                # },\n",
    "            },\n",
    "        }\n",
    "\n",
    "        buildings = {\n",
    "            \"id\": \"buildings\",\n",
    "            \"map\": {\n",
    "                # \"Biotech\": {\"external_temp_sensor\": \"#path_to...\"},\n",
    "                # \"Weill\": {\"external_temp_sensor\": \"#path_to...\"},\n",
    "                row['name']: {\"external_temp_sensor\": row['External Temp']}\n",
    "            },\n",
    "        }\n",
    "\n",
    "        labs = {\n",
    "            \"id\": \"labs\",\n",
    "            \"map\": {\n",
    "                row['name']: { #\"Biotech.Floor_3.Lab_317\"\n",
    "                    \"building\": row['building'], #\"Biotech\"\n",
    "                    \"floor\": row['Floor'], # \"3\"\n",
    "                    \"lab\": row['Lab'], # \"317\"\n",
    "                    \"occ_sensor\": row['Occupancy'], # \"#path_to_this_sensor\"\n",
    "                    \"internal_temp_sensor\": row['Internal Temp'], # \"#path_to_this_sensor\"\n",
    "                },\n",
    "            },\n",
    "        }\n",
    "\n",
    "        occupants = {\n",
    "            \"id\": \"occupants\",\n",
    "            \"map\": {\n",
    "                \"rf377@cornell.edu\": {\n",
    "                    \"name\": \"Reid Fleishman\",\n",
    "                    \"lab\": \"Biotech.Floor_3.Lab_317\",\n",
    "                },\n",
    "            },\n",
    "        }\n",
    "\n",
    "        # Put the above data into the table\n",
    "        with table.batch_writer() as writer:\n",
    "            response = writer.put_item(Item=hoods)\n",
    "            print(response)\n",
    "            response = writer.put_item(Item=buildings)\n",
    "            print(response)\n",
    "            response = writer.put_item(Item=labs)\n",
    "            print(response)\n",
    "            response = writer.put_item(Item=occupants)\n",
    "            print(response)\n",
    "\n",
    "        # Print what was just added\n",
    "        response = dynamodb_client.get_item(\n",
    "            TableName=TABLE_NAME, Key={\"id\": {\"S\": \"hoods\"}}\n",
    "        )\n",
    "        print(\"Hoods:\")\n",
    "        display(response[\"Item\"])\n",
    "\n",
    "        response = dynamodb_client.get_item(\n",
    "            TableName=TABLE_NAME, Key={\"id\": {\"S\": \"buildings\"}}\n",
    "        )\n",
    "        print(\"Buildings:\")\n",
    "        display(response[\"Item\"])\n",
    "\n",
    "        response = dynamodb_client.get_item(\n",
    "            TableName=TABLE_NAME, Key={\"id\": {\"S\": \"labs\"}}\n",
    "        )\n",
    "        print(\"Labs:\")\n",
    "        display(response[\"Item\"])\n",
    "\n",
    "        response = dynamodb_client.get_item(\n",
    "            TableName=TABLE_NAME, Key={\"id\": {\"S\": \"occupants\"}}\n",
    "        )\n",
    "        print(\"Occupants:\")\n",
    "        display(response[\"Item\"])"
   ]
  },
  {
   "cell_type": "code",
   "execution_count": 5,
   "metadata": {},
   "outputs": [
    {
     "data": {
      "text/plain": [
       "[{'id': 'Biotech.Floor_4.Lab_433.Hood_1'},\n",
       " {'id': 'BiotechnologyBuilding/lab_433/hood'},\n",
       " {'id': 'buildings'},\n",
       " {'id': 'cat'},\n",
       " {'id': 'Biotech.Floor_3.Lab_317.Hood_1'},\n",
       " {'id': 'occupants'},\n",
       " {'id': 'maggie'},\n",
       " {'id': 'Biotech.Floor_4.Lab_433.Hood_2'},\n",
       " {'id': 'hoods'},\n",
       " {'id': 'labs'},\n",
       " {'id': 'Biotech.Floor_4.Lab_441.Hood_1'}]"
      ]
     },
     "execution_count": 5,
     "metadata": {},
     "output_type": "execute_result"
    }
   ],
   "source": [
    "dynamodb = boto3.resource('dynamodb', region_name=\"us-east-1\")\n",
    "\n",
    "table = dynamodb.Table('fumehoods')\n",
    "\n",
    "response = table.scan(ProjectionExpression=\"id\")\n",
    "data = response['Items']\n",
    "\n",
    "# Uncomment for large queries\n",
    "# while 'LastEvaluatedKey' in response:\n",
    "#     response = table.scan(ExclusiveStartKey=response['LastEvaluatedKey'])\n",
    "#     data.extend(response['Items'])\n",
    "\n",
    "data"
   ]
  },
  {
   "cell_type": "code",
   "execution_count": null,
   "metadata": {},
   "outputs": [],
   "source": []
  }
 ],
 "metadata": {
  "kernelspec": {
   "display_name": "Python 3.11.5 ('esw')",
   "language": "python",
   "name": "python3"
  },
  "language_info": {
   "codemirror_mode": {
    "name": "ipython",
    "version": 3
   },
   "file_extension": ".py",
   "mimetype": "text/x-python",
   "name": "python",
   "nbconvert_exporter": "python",
   "pygments_lexer": "ipython3",
   "version": "3.11.4"
  },
  "orig_nbformat": 4,
  "vscode": {
   "interpreter": {
    "hash": "a15ff0a23478e3843b0a8704c7aebabc445c0dab2d2c10807aaa08df9f4925fb"
   }
  }
 },
 "nbformat": 4,
 "nbformat_minor": 2
}
