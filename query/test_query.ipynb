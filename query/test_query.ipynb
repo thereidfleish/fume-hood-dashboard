{
 "cells": [
  {
   "cell_type": "code",
   "execution_count": 20,
   "metadata": {},
   "outputs": [],
   "source": [
    "import requests\n",
    "import pandas as pd\n",
    "import numpy as np\n",
    "from datetime import datetime\n",
    "import matplotlib.pyplot as plt\n",
    "\n",
    "def create_tuple(response):\n",
    "    response_data = response.json()\n",
    "    response_datum = response_data[0]\n",
    "    response_target = response_datum['target']\n",
    "    response_datapoints = response_datum['datapoints']\n",
    "    tuple_array = [tuple(x) for x in response_datapoints]\n",
    "    npa = np.array(tuple_array, dtype=[\n",
    "        ('value', np.double), ('ts', 'datetime64[ms]')])\n",
    "    return npa\n",
    "\n",
    "def query(target, server, start, end):\n",
    "  url = \"https://ypsu0n34jc.execute-api.us-east-1.amazonaws.com/dev/query\" #WebCTRL\n",
    "  data = {\n",
    "      \"range\": {\n",
    "        \"from\": start,\n",
    "        \"to\": end,\n",
    "      },\n",
    "      \"targets\": [\n",
    "        {\n",
    "          \"payload\": {\n",
    "            \"schema\": server,\n",
    "            \"additional\": [\n",
    "                    \"noagg\",\n",
    "                ]\n",
    "          },\n",
    "          \"target\": target\n",
    "        }\n",
    "      ],\n",
    "    }\n",
    "  request = requests.post(url, json=data)\n",
    "  print(request)\n",
    "  # print(request.json())\n",
    "  return create_tuple(request)\n",
    "\n",
    "\n",
    "def query_to_list(point, server, start, end):\n",
    "    master = query(point, server, start, end)\n",
    "\n",
    "    list = pd.Series(data=[i[0] for i in master], index=[i[1] for i in master])\n",
    "    # print(\"\\n\", point, \"\\n\", list)\n",
    "\n",
    "    list = list[~list.index.duplicated()]\n",
    "    # print(\"\\n\", point, \" new\\n\", list)\n",
    "\n",
    "    return list"
   ]
  },
  {
   "cell_type": "code",
   "execution_count": 29,
   "metadata": {},
   "outputs": [
    {
     "name": "stdout",
     "output_type": "stream",
     "text": [
      "<Response [200]>\n",
      "2024-01-15 05:00:00    305.73\n",
      "2024-01-15 05:05:00    305.73\n",
      "2024-01-15 05:10:00    305.73\n",
      "2024-01-15 05:15:00    305.73\n",
      "2024-01-15 05:20:00    305.73\n",
      "                        ...  \n",
      "2024-03-06 12:35:00    310.62\n",
      "2024-03-06 12:40:00    310.62\n",
      "2024-03-06 12:45:00    310.62\n",
      "2024-03-06 12:50:00    310.62\n",
      "2024-03-06 12:55:00    310.62\n",
      "Length: 14783, dtype: float64\n"
     ]
    },
    {
     "data": {
      "text/plain": [
       "[<matplotlib.lines.Line2D at 0x1556b8850>]"
      ]
     },
     "execution_count": 29,
     "metadata": {},
     "output_type": "execute_result"
    },
    {
     "data": {
      "image/png": "[encoded data removed]",
      "text/plain": [
       "<Figure size 640x480 with 1 Axes>"
      ]
     },
     "metadata": {},
     "output_type": "display_data"
    }
   ],
   "source": [
    "# Weill Test\n",
    "\n",
    "data = query_to_list(point=\"#2-40/hev_flow_fbk\", server=\"weill_main\", start=str(datetime(2024, 1, 15)), end=str(datetime.now()))\n",
    "print(data)\n",
    "plt.plot(data)"
   ]
  },
  {
   "cell_type": "code",
   "execution_count": null,
   "metadata": {},
   "outputs": [],
   "source": [
    "# Gates G01\n",
    "\n",
    "query_to_list(point=\"#g01_vav-g-1/occ1\", server=\"gates_main\", start=str(datetime(2023, 1, 15)), end=str(datetime.now()))"
   ]
  },
  {
   "cell_type": "code",
   "execution_count": null,
   "metadata": {},
   "outputs": [],
   "source": [
    "# Phillips 101\n",
    "\n",
    "query_to_list(point=\"#phillips_lecture_hall_101/occ1\", server=\"duffield_main\", start=str(datetime(2023, 1, 15)), end=str(datetime.now()))"
   ]
  }
 ],
 "metadata": {
  "kernelspec": {
   "display_name": "base",
   "language": "python",
   "name": "python3"
  },
  "language_info": {
   "codemirror_mode": {
    "name": "ipython",
    "version": 3
   },
   "file_extension": ".py",
   "mimetype": "text/x-python",
   "name": "python",
   "nbconvert_exporter": "python",
   "pygments_lexer": "ipython3",
   "version": "3.11.4"
  }
 },
 "nbformat": 4,
 "nbformat_minor": 2
}
