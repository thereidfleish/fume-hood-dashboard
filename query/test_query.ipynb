{
 "cells": [
  {
   "cell_type": "code",
   "execution_count": 2,
   "metadata": {},
   "outputs": [],
   "source": [
    "import requests\n",
    "import pandas as pd\n",
    "import numpy as np\n",
    "from datetime import datetime\n",
    "\n",
    "def create_tuple(response):\n",
    "    response_data = response.json()\n",
    "    response_datum = response_data[0]\n",
    "    response_target = response_datum['target']\n",
    "    response_datapoints = response_datum['datapoints']\n",
    "    tuple_array = [tuple(x) for x in response_datapoints]\n",
    "    npa = np.array(tuple_array, dtype=[\n",
    "        ('value', np.double), ('ts', 'datetime64[ms]')])\n",
    "    return npa\n",
    "\n",
    "def query(target, server, start, end):\n",
    "  url = \"https://ypsu0n34jc.execute-api.us-east-1.amazonaws.com/dev/query\" #WebCTRL\n",
    "  data = {\n",
    "      \"range\": {\n",
    "        \"from\": start,\n",
    "        \"to\": end,\n",
    "      },\n",
    "      \"targets\": [\n",
    "        {\n",
    "          \"payload\": {\n",
    "            \"schema\": server,\n",
    "            \"additional\": [\n",
    "                    \"noagg\",\n",
    "                ]\n",
    "          },\n",
    "          \"target\": target\n",
    "        }\n",
    "      ],\n",
    "    }\n",
    "  request = requests.post(url, json=data)\n",
    "  print(request)\n",
    "  # print(request.json())\n",
    "  return create_tuple(request)\n",
    "\n",
    "\n",
    "def query_to_list(point, server, start, end):\n",
    "    master = query(point, server, start, end)\n",
    "\n",
    "    list = pd.Series(data=[i[0] for i in master], index=[i[1] for i in master])\n",
    "    # print(\"\\n\", point, \"\\n\", list)\n",
    "\n",
    "    list = list[~list.index.duplicated()]\n",
    "    # print(\"\\n\", point, \" new\\n\", list)\n",
    "\n",
    "    return list"
   ]
  },
  {
   "cell_type": "code",
   "execution_count": 15,
   "metadata": {},
   "outputs": [
    {
     "name": "stdout",
     "output_type": "stream",
     "text": [
      "<Response [400]>\n"
     ]
    },
    {
     "ename": "KeyError",
     "evalue": "0",
     "output_type": "error",
     "traceback": [
      "\u001b[0;31m---------------------------------------------------------------------------\u001b[0m",
      "\u001b[0;31mKeyError\u001b[0m                                  Traceback (most recent call last)",
      "Cell \u001b[0;32mIn[15], line 3\u001b[0m\n\u001b[1;32m      1\u001b[0m \u001b[38;5;66;03m# Gates G01\u001b[39;00m\n\u001b[0;32m----> 3\u001b[0m query_to_list(point\u001b[38;5;241m=\u001b[39m\u001b[38;5;124m\"\u001b[39m\u001b[38;5;124m#g01_vav-g-1/occ1\u001b[39m\u001b[38;5;124m\"\u001b[39m, server\u001b[38;5;241m=\u001b[39m\u001b[38;5;124m\"\u001b[39m\u001b[38;5;124mgates_main\u001b[39m\u001b[38;5;124m\"\u001b[39m, start\u001b[38;5;241m=\u001b[39m\u001b[38;5;28mstr\u001b[39m(datetime(\u001b[38;5;241m2024\u001b[39m, \u001b[38;5;241m1\u001b[39m, \u001b[38;5;241m15\u001b[39m)), end\u001b[38;5;241m=\u001b[39m\u001b[38;5;28mstr\u001b[39m(datetime\u001b[38;5;241m.\u001b[39mnow()))\n",
      "Cell \u001b[0;32mIn[2], line 42\u001b[0m, in \u001b[0;36mquery_to_list\u001b[0;34m(point, server, start, end)\u001b[0m\n\u001b[1;32m     41\u001b[0m \u001b[38;5;28;01mdef\u001b[39;00m \u001b[38;5;21mquery_to_list\u001b[39m(point, server, start, end):\n\u001b[0;32m---> 42\u001b[0m     master \u001b[38;5;241m=\u001b[39m query(point, server, start, end)\n\u001b[1;32m     44\u001b[0m     \u001b[38;5;28mlist\u001b[39m \u001b[38;5;241m=\u001b[39m pd\u001b[38;5;241m.\u001b[39mSeries(data\u001b[38;5;241m=\u001b[39m[i[\u001b[38;5;241m0\u001b[39m] \u001b[38;5;28;01mfor\u001b[39;00m i \u001b[38;5;129;01min\u001b[39;00m master], index\u001b[38;5;241m=\u001b[39m[i[\u001b[38;5;241m1\u001b[39m] \u001b[38;5;28;01mfor\u001b[39;00m i \u001b[38;5;129;01min\u001b[39;00m master])\n\u001b[1;32m     45\u001b[0m     \u001b[38;5;66;03m# print(\"\\n\", point, \"\\n\", list)\u001b[39;00m\n",
      "Cell \u001b[0;32mIn[2], line 38\u001b[0m, in \u001b[0;36mquery\u001b[0;34m(target, server, start, end)\u001b[0m\n\u001b[1;32m     36\u001b[0m \u001b[38;5;28mprint\u001b[39m(request)\n\u001b[1;32m     37\u001b[0m \u001b[38;5;66;03m# print(request.json())\u001b[39;00m\n\u001b[0;32m---> 38\u001b[0m \u001b[38;5;28;01mreturn\u001b[39;00m create_tuple(request)\n",
      "Cell \u001b[0;32mIn[2], line 8\u001b[0m, in \u001b[0;36mcreate_tuple\u001b[0;34m(response)\u001b[0m\n\u001b[1;32m      6\u001b[0m \u001b[38;5;28;01mdef\u001b[39;00m \u001b[38;5;21mcreate_tuple\u001b[39m(response):\n\u001b[1;32m      7\u001b[0m     response_data \u001b[38;5;241m=\u001b[39m response\u001b[38;5;241m.\u001b[39mjson()\n\u001b[0;32m----> 8\u001b[0m     response_datum \u001b[38;5;241m=\u001b[39m response_data[\u001b[38;5;241m0\u001b[39m]\n\u001b[1;32m      9\u001b[0m     response_target \u001b[38;5;241m=\u001b[39m response_datum[\u001b[38;5;124m'\u001b[39m\u001b[38;5;124mtarget\u001b[39m\u001b[38;5;124m'\u001b[39m]\n\u001b[1;32m     10\u001b[0m     response_datapoints \u001b[38;5;241m=\u001b[39m response_datum[\u001b[38;5;124m'\u001b[39m\u001b[38;5;124mdatapoints\u001b[39m\u001b[38;5;124m'\u001b[39m]\n",
      "\u001b[0;31mKeyError\u001b[0m: 0"
     ]
    }
   ],
   "source": [
    "# Gates G01\n",
    "\n",
    "query_to_list(point=\"#g01_vav-g-1/occ1\", server=\"gates_main\", start=str(datetime(2023, 1, 15)), end=str(datetime.now()))"
   ]
  },
  {
   "cell_type": "code",
   "execution_count": 16,
   "metadata": {},
   "outputs": [
    {
     "name": "stdout",
     "output_type": "stream",
     "text": [
      "<Response [200]>\n"
     ]
    },
    {
     "data": {
      "text/plain": [
       "2023-01-16 12:59:25.130    1.0\n",
       "2023-01-16 13:00:24.030    1.0\n",
       "2023-01-16 13:40:43.840    0.0\n",
       "2023-01-16 13:41:43.020    0.0\n",
       "2023-01-17 09:25:57.550    1.0\n",
       "                          ... \n",
       "2024-03-01 11:46:09.220    1.0\n",
       "2024-03-01 12:01:43.150    0.0\n",
       "2024-03-01 12:02:42.140    0.0\n",
       "2024-03-01 13:34:16.340    1.0\n",
       "2024-03-01 13:35:16.130    1.0\n",
       "Length: 6602, dtype: float64"
      ]
     },
     "execution_count": 16,
     "metadata": {},
     "output_type": "execute_result"
    }
   ],
   "source": [
    "# Phillips 101\n",
    "\n",
    "query_to_list(point=\"#phillips_lecture_hall_101/occ1\", server=\"duffield_main\", start=str(datetime(2023, 1, 15)), end=str(datetime.now()))"
   ]
  }
 ],
 "metadata": {
  "kernelspec": {
   "display_name": "base",
   "language": "python",
   "name": "python3"
  },
  "language_info": {
   "codemirror_mode": {
    "name": "ipython",
    "version": 3
   },
   "file_extension": ".py",
   "mimetype": "text/x-python",
   "name": "python",
   "nbconvert_exporter": "python",
   "pygments_lexer": "ipython3",
   "version": "3.11.4"
  }
 },
 "nbformat": 4,
 "nbformat_minor": 2
}
